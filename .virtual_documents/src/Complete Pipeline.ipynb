# Imports
import pandas as pd
import pickle
import os
import logging
from openai import AzureOpenAI
import time
import tiktoken
from dotenv import load_dotenv
from utils.openai_api import get_openai_response, get_openai_response_content
import sys
sys.path.append(os.path.join(sys.path[0], '..'))





os.environ['OPENAI_API_KEY'] = '12858f5908ee4b17b986977b35d604dd'
os.environ['MODEL_DEPLOYMENT'] = 'gpt4-1106'
os.environ['OAI_ENDPOINT'] = 'dbt-openai-usea2-assistants'
#logging.basicConfig(level=logging.DEBUG)


#src/convo_generation/output/20240306_convos_full.pickle
test = pd.read_pickle('./convo_generation/output/20240306_convos_full.pickle')
for key, value in pd.read_pickle('./convo_generation/output/20240306_convos_full.pickle').items():
    a = value['result']['eval_messages']


conversation = test['bc97e560-2f17-40c6-bbbc-cf1455e5536b']['result']['eval_messages']


convdf = pd.DataFrame.from_dict([{'conversation_id': 'bc97e560-2f17-40c6-bbbc-cf1455e5536b', 'conversation': conversation}])
convdf.to_csv('test.csv', index=False)


# Run Evals
from evaluation.evaluation_pipeline import run_evaluations


# Run Analysis
run_evaluations('test.csv', 'adherence_result.json')
