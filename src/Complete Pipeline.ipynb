{
 "cells": [
  {
   "cell_type": "markdown",
   "source": [
    "# Berkeley DBT\n",
    "### Pioneering the future of mental health virtual assistants\n",
    "Hector Rincon | Robert Mueller | John Van | Andrew Loeber"
   ],
   "metadata": {
    "collapsed": false
   }
  },
  {
   "cell_type": "markdown",
   "id": "6bfbb913-6205-4008-a4e9-1b83922b14ce",
   "metadata": {},
   "source": [
    "## Imports"
   ]
  },
  {
   "cell_type": "code",
   "execution_count": 2,
   "id": "e176d813-a3a0-4713-aa5f-90c2e79d494d",
   "metadata": {},
   "outputs": [],
   "source": [
    "import pandas as pd\n",
    "import os\n",
    "import json\n",
    "import ast\n",
    "\n",
    "from evaluation.evaluation_pipeline import run_evaluations"
   ]
  },
  {
   "cell_type": "markdown",
   "id": "f05c6a3f-f118-4095-abcf-77b817c23c31",
   "metadata": {},
   "source": [
    "## Generate Conversations\n",
    "Steps:\n",
    "- Open terminal\n",
    "- Navigate to /dbt-llm/src/convo_generation directory\n",
    "- Run `generate_conversations.py` in the command line\n",
    "\n",
    "As an example, here's the terminal command you'd use to generate 10-message conversations for the first 5 patient profiles, then save the results to `my_test.pickle`:\n",
    "\n",
    "`python generate_conversations.py --limit 5 --n_msgs 10 --output my_test.pickle`\n"
   ]
  },
  {
   "cell_type": "markdown",
   "id": "66cf3fa6-aab2-4eaf-81b5-b5f05b0431d2",
   "metadata": {},
   "source": [
    "## Evaluations"
   ]
  },
  {
   "cell_type": "markdown",
   "source": [
    "### Read in generated conversations"
   ],
   "metadata": {
    "collapsed": false
   }
  },
  {
   "cell_type": "code",
   "execution_count": 3,
   "outputs": [
    {
     "name": "stdout",
     "output_type": "stream",
     "text": [
      ".\\convo_generation\\output\\result.pickle\n"
     ]
    }
   ],
   "source": [
    "# Replace below with the name of the pickle file generated\n",
    "CONVO_GEN_FILENAME = 'result'\n",
    "\n",
    "CONVO_GEN_DIRPATH = os.path.join('.', 'convo_generation', 'output')\n",
    "CONVO_GEN_PICKLE_PATH = os.path.join(CONVO_GEN_DIRPATH, f'{CONVO_GEN_FILENAME}.pickle')\n",
    "print(CONVO_GEN_PICKLE_PATH)"
   ],
   "metadata": {
    "collapsed": false
   }
  },
  {
   "cell_type": "code",
   "execution_count": 4,
   "id": "40cfa650-343d-4684-967b-81f4a60dd1c7",
   "metadata": {},
   "outputs": [],
   "source": [
    "# Read in conversations pickle file\n",
    "convo_dict = {}\n",
    "for key, value in pd.read_pickle(CONVO_GEN_PICKLE_PATH).items():\n",
    "    convo_dict[value['id']] = value['result']['eval_messages']\n",
    "\n",
    "# Create csv to run evaluations on\n",
    "convo_df = pd.DataFrame([convo_dict]).T.reset_index().rename(columns={'index': 'conversation_id', 0: 'conversation'})\n",
    "CONVO_GEN_CSV_PATH = os.path.join(CONVO_GEN_DIRPATH, f'{CONVO_GEN_FILENAME}.csv')\n",
    "convo_df.to_csv(CONVO_GEN_CSV_PATH)"
   ]
  },
  {
   "cell_type": "markdown",
   "source": [
    "### Adherence"
   ],
   "metadata": {
    "collapsed": false
   }
  },
  {
   "cell_type": "code",
   "execution_count": 5,
   "id": "942a5edb-3632-47de-a62e-bc1ba30473f4",
   "metadata": {
    "scrolled": true
   },
   "outputs": [
    {
     "name": "stderr",
     "output_type": "stream",
     "text": [
      "2024-04-14 19:21:23,810 - evaluation_pipeline - INFO: Running conversation: (1/2)\n",
      "2024-04-14 19:21:23,810 - adherence_evaluation - INFO: Running iteration 0\n",
      "2024-04-14 19:21:23,811 - adherence_evaluation - INFO: Running criterion: Organize by Targets (1/23)\n",
      "2024-04-14 19:21:26,357 - adherence_evaluation - INFO: Running criterion: Emotion Focus (2/23)\n",
      "2024-04-14 19:21:34,225 - adherence_evaluation - INFO: Running criterion: Describe Specifically (3/23)\n",
      "2024-04-14 19:21:35,931 - adherence_evaluation - INFO: Running criterion: Chain Analysis (4/23)\n",
      "2024-04-14 19:21:37,356 - adherence_evaluation - INFO: Running criterion: Teach New Information (5/23)\n",
      "2024-04-14 19:21:40,653 - adherence_evaluation - INFO: Running criterion: Generate Solutions (6/23)\n",
      "2024-04-14 19:21:44,014 - adherence_evaluation - INFO: Running criterion: Activate New Behavior (7/23)\n",
      "2024-04-14 19:21:44,543 - adherence_evaluation - INFO: Running criterion: Provide Coaching Feedback (8/23)\n",
      "2024-04-14 19:21:47,073 - adherence_evaluation - INFO: Running criterion: Generalize New Learning (9/23)\n",
      "2024-04-14 19:21:49,651 - adherence_evaluation - INFO: Running criterion: Commitment and Troubleshooting (10/23)\n",
      "2024-04-14 19:21:55,891 - adherence_evaluation - INFO: Running criterion: Reinforcement (11/23)\n",
      "2024-04-14 19:21:56,465 - adherence_evaluation - INFO: Running criterion: Aversive Contingencies (12/23)\n",
      "2024-04-14 19:21:57,003 - adherence_evaluation - INFO: Running criterion: Informal Exposure (13/23)\n",
      "2024-04-14 19:22:05,794 - adherence_evaluation - INFO: Running criterion: Challenge Cognitions (14/23)\n",
      "2024-04-14 19:22:10,983 - adherence_evaluation - INFO: Running criterion: V4 Learning History/Biology (15/23)\n",
      "2024-04-14 19:22:24,682 - adherence_evaluation - INFO: Running criterion: V5 Current Events (16/23)\n",
      "2024-04-14 19:22:28,508 - adherence_evaluation - INFO: Running criterion: V6 Radical Genuineness (17/23)\n",
      "2024-04-14 19:22:29,020 - adherence_evaluation - INFO: Running criterion: Warm Engagement (18/23)\n",
      "2024-04-14 19:22:29,609 - adherence_evaluation - INFO: Running criterion: Direct Confrontation (19/23)\n",
      "2024-04-14 19:22:30,156 - adherence_evaluation - INFO: Running criterion: Unorthodox Irreverence (20/23)\n",
      "2024-04-14 19:22:37,126 - adherence_evaluation - INFO: Running criterion: Balanced Style and Strategies (21/23)\n",
      "2024-04-14 19:22:38,825 - adherence_evaluation - INFO: Running criterion: Model Dialectical Thinking (22/23)\n",
      "2024-04-14 19:22:44,037 - adherence_evaluation - INFO: Running criterion: Suicidal Behaviors Protocol (23/23)\n",
      "2024-04-14 19:22:46,513 - adherence_evaluation - INFO: Running iteration 1\n",
      "2024-04-14 19:22:46,514 - adherence_evaluation - INFO: Running criterion: Organize by Targets (1/23)\n",
      "2024-04-14 19:22:49,810 - adherence_evaluation - INFO: Running criterion: Emotion Focus (2/23)\n",
      "2024-04-14 19:22:50,837 - adherence_evaluation - INFO: Running criterion: Describe Specifically (3/23)\n",
      "2024-04-14 19:22:56,682 - adherence_evaluation - INFO: Running criterion: Chain Analysis (4/23)\n",
      "2024-04-14 19:22:57,659 - adherence_evaluation - INFO: Running criterion: Teach New Information (5/23)\n",
      "2024-04-14 19:23:01,182 - adherence_evaluation - INFO: Running criterion: Generate Solutions (6/23)\n",
      "2024-04-14 19:23:08,827 - adherence_evaluation - INFO: Running criterion: Activate New Behavior (7/23)\n",
      "2024-04-14 19:23:09,785 - adherence_evaluation - INFO: Running criterion: Provide Coaching Feedback (8/23)\n",
      "2024-04-14 19:23:20,380 - adherence_evaluation - INFO: Running criterion: Generalize New Learning (9/23)\n",
      "2024-04-14 19:23:27,436 - adherence_evaluation - INFO: Running criterion: Commitment and Troubleshooting (10/23)\n",
      "2024-04-14 19:23:28,940 - adherence_evaluation - INFO: Running criterion: Reinforcement (11/23)\n",
      "2024-04-14 19:23:33,184 - adherence_evaluation - INFO: Running criterion: Aversive Contingencies (12/23)\n",
      "2024-04-14 19:23:43,154 - adherence_evaluation - INFO: Running criterion: Informal Exposure (13/23)\n",
      "2024-04-14 19:23:49,153 - adherence_evaluation - INFO: Running criterion: Challenge Cognitions (14/23)\n",
      "2024-04-14 19:23:55,749 - adherence_evaluation - INFO: Running criterion: V4 Learning History/Biology (15/23)\n",
      "2024-04-14 19:23:59,482 - adherence_evaluation - INFO: Running criterion: V5 Current Events (16/23)\n",
      "2024-04-14 19:24:03,731 - adherence_evaluation - INFO: Running criterion: V6 Radical Genuineness (17/23)\n",
      "2024-04-14 19:24:10,461 - adherence_evaluation - INFO: Running criterion: Warm Engagement (18/23)\n",
      "2024-04-14 19:24:20,108 - adherence_evaluation - INFO: Running criterion: Direct Confrontation (19/23)\n",
      "2024-04-14 19:24:32,278 - adherence_evaluation - INFO: Running criterion: Unorthodox Irreverence (20/23)\n",
      "2024-04-14 19:24:34,406 - adherence_evaluation - INFO: Running criterion: Balanced Style and Strategies (21/23)\n",
      "2024-04-14 19:24:42,078 - adherence_evaluation - INFO: Running criterion: Model Dialectical Thinking (22/23)\n",
      "2024-04-14 19:24:46,077 - adherence_evaluation - INFO: Running criterion: Suicidal Behaviors Protocol (23/23)\n",
      "2024-04-14 19:24:56,362 - adherence_evaluation - INFO: Running iteration 2\n",
      "2024-04-14 19:24:56,363 - adherence_evaluation - INFO: Running criterion: Organize by Targets (1/23)\n",
      "2024-04-14 19:24:56,920 - adherence_evaluation - INFO: Running criterion: Emotion Focus (2/23)\n",
      "2024-04-14 19:25:13,659 - adherence_evaluation - INFO: Running criterion: Describe Specifically (3/23)\n",
      "2024-04-14 19:25:19,005 - adherence_evaluation - INFO: Running criterion: Chain Analysis (4/23)\n",
      "2024-04-14 19:25:19,545 - adherence_evaluation - INFO: Running criterion: Teach New Information (5/23)\n",
      "2024-04-14 19:25:21,152 - adherence_evaluation - INFO: Running criterion: Generate Solutions (6/23)\n",
      "2024-04-14 19:25:22,694 - adherence_evaluation - INFO: Running criterion: Activate New Behavior (7/23)\n",
      "2024-04-14 19:25:29,058 - adherence_evaluation - INFO: Running criterion: Provide Coaching Feedback (8/23)\n",
      "2024-04-14 19:25:29,613 - adherence_evaluation - INFO: Running criterion: Generalize New Learning (9/23)\n",
      "2024-04-14 19:25:38,303 - adherence_evaluation - INFO: Running criterion: Commitment and Troubleshooting (10/23)\n",
      "2024-04-14 19:25:40,348 - adherence_evaluation - INFO: Running criterion: Reinforcement (11/23)\n",
      "2024-04-14 19:25:40,884 - adherence_evaluation - INFO: Running criterion: Aversive Contingencies (12/23)\n",
      "2024-04-14 19:25:48,169 - adherence_evaluation - INFO: Running criterion: Informal Exposure (13/23)\n",
      "2024-04-14 19:25:51,348 - adherence_evaluation - INFO: Running criterion: Challenge Cognitions (14/23)\n",
      "2024-04-14 19:25:52,982 - adherence_evaluation - INFO: Running criterion: V4 Learning History/Biology (15/23)\n",
      "2024-04-14 19:25:56,449 - adherence_evaluation - INFO: Running criterion: V5 Current Events (16/23)\n",
      "2024-04-14 19:25:57,138 - adherence_evaluation - INFO: Running criterion: V6 Radical Genuineness (17/23)\n",
      "2024-04-14 19:25:57,721 - adherence_evaluation - INFO: Running criterion: Warm Engagement (18/23)\n",
      "2024-04-14 19:26:00,878 - adherence_evaluation - INFO: Running criterion: Direct Confrontation (19/23)\n",
      "2024-04-14 19:26:01,519 - adherence_evaluation - INFO: Running criterion: Unorthodox Irreverence (20/23)\n",
      "2024-04-14 19:26:15,574 - adherence_evaluation - INFO: Running criterion: Balanced Style and Strategies (21/23)\n",
      "2024-04-14 19:26:20,589 - adherence_evaluation - INFO: Running criterion: Model Dialectical Thinking (22/23)\n",
      "2024-04-14 19:26:24,059 - adherence_evaluation - INFO: Running criterion: Suicidal Behaviors Protocol (23/23)\n",
      "2024-04-14 19:26:28,395 - adherence_evaluation - INFO: Running iteration 3\n",
      "2024-04-14 19:26:28,396 - adherence_evaluation - INFO: Running criterion: Organize by Targets (1/23)\n",
      "2024-04-14 19:26:29,008 - adherence_evaluation - INFO: Running criterion: Emotion Focus (2/23)\n",
      "2024-04-14 19:26:31,012 - adherence_evaluation - INFO: Running criterion: Describe Specifically (3/23)\n",
      "2024-04-14 19:26:35,995 - adherence_evaluation - INFO: Running criterion: Chain Analysis (4/23)\n",
      "2024-04-14 19:26:39,612 - adherence_evaluation - INFO: Running criterion: Teach New Information (5/23)\n",
      "2024-04-14 19:26:42,838 - adherence_evaluation - INFO: Running criterion: Generate Solutions (6/23)\n",
      "2024-04-14 19:26:43,745 - adherence_evaluation - INFO: Running criterion: Activate New Behavior (7/23)\n",
      "2024-04-14 19:26:53,557 - adherence_evaluation - INFO: Running criterion: Provide Coaching Feedback (8/23)\n",
      "2024-04-14 19:26:54,420 - adherence_evaluation - INFO: Running criterion: Generalize New Learning (9/23)\n",
      "2024-04-14 19:26:54,821 - adherence_evaluation - INFO: Running criterion: Commitment and Troubleshooting (10/23)\n",
      "2024-04-14 19:26:57,495 - adherence_evaluation - INFO: Running criterion: Reinforcement (11/23)\n",
      "2024-04-14 19:26:58,071 - adherence_evaluation - INFO: Running criterion: Aversive Contingencies (12/23)\n",
      "2024-04-14 19:27:04,287 - adherence_evaluation - INFO: Running criterion: Informal Exposure (13/23)\n",
      "2024-04-14 19:27:07,792 - adherence_evaluation - INFO: Running criterion: Challenge Cognitions (14/23)\n",
      "2024-04-14 19:27:24,593 - adherence_evaluation - INFO: Running criterion: V4 Learning History/Biology (15/23)\n",
      "2024-04-14 19:27:25,261 - adherence_evaluation - INFO: Running criterion: V5 Current Events (16/23)\n",
      "2024-04-14 19:27:30,906 - adherence_evaluation - INFO: Running criterion: V6 Radical Genuineness (17/23)\n",
      "2024-04-14 19:27:33,573 - adherence_evaluation - INFO: Running criterion: Warm Engagement (18/23)\n",
      "2024-04-14 19:27:34,201 - adherence_evaluation - INFO: Running criterion: Direct Confrontation (19/23)\n",
      "2024-04-14 19:27:39,198 - adherence_evaluation - INFO: Running criterion: Unorthodox Irreverence (20/23)\n",
      "2024-04-14 19:27:40,134 - adherence_evaluation - INFO: Running criterion: Balanced Style and Strategies (21/23)\n",
      "2024-04-14 19:27:40,976 - adherence_evaluation - INFO: Running criterion: Model Dialectical Thinking (22/23)\n",
      "2024-04-14 19:27:50,817 - adherence_evaluation - INFO: Running criterion: Suicidal Behaviors Protocol (23/23)\n",
      "2024-04-14 19:27:55,670 - adherence_evaluation - INFO: Running iteration 4\n",
      "2024-04-14 19:27:55,671 - adherence_evaluation - INFO: Running criterion: Organize by Targets (1/23)\n",
      "2024-04-14 19:28:03,992 - adherence_evaluation - INFO: Running criterion: Emotion Focus (2/23)\n",
      "2024-04-14 19:28:04,603 - adherence_evaluation - INFO: Running criterion: Describe Specifically (3/23)\n",
      "2024-04-14 19:28:15,095 - adherence_evaluation - INFO: Running criterion: Chain Analysis (4/23)\n",
      "2024-04-14 19:28:15,806 - adherence_evaluation - INFO: Running criterion: Teach New Information (5/23)\n",
      "2024-04-14 19:28:16,335 - adherence_evaluation - INFO: Running criterion: Generate Solutions (6/23)\n",
      "2024-04-14 19:28:27,846 - adherence_evaluation - INFO: Running criterion: Activate New Behavior (7/23)\n",
      "2024-04-14 19:28:38,145 - adherence_evaluation - INFO: Running criterion: Provide Coaching Feedback (8/23)\n",
      "2024-04-14 19:28:43,354 - adherence_evaluation - INFO: Running criterion: Generalize New Learning (9/23)\n",
      "2024-04-14 19:28:46,905 - adherence_evaluation - INFO: Running criterion: Commitment and Troubleshooting (10/23)\n",
      "2024-04-14 19:28:56,163 - adherence_evaluation - INFO: Running criterion: Reinforcement (11/23)\n",
      "2024-04-14 19:28:56,741 - adherence_evaluation - INFO: Running criterion: Aversive Contingencies (12/23)\n",
      "2024-04-14 19:28:58,151 - adherence_evaluation - INFO: Running criterion: Informal Exposure (13/23)\n",
      "2024-04-14 19:28:58,490 - adherence_evaluation - INFO: Running criterion: Challenge Cognitions (14/23)\n",
      "2024-04-14 19:29:02,565 - adherence_evaluation - INFO: Running criterion: V4 Learning History/Biology (15/23)\n",
      "2024-04-14 19:29:03,445 - adherence_evaluation - INFO: Running criterion: V5 Current Events (16/23)\n",
      "2024-04-14 19:29:04,396 - adherence_evaluation - INFO: Running criterion: V6 Radical Genuineness (17/23)\n",
      "2024-04-14 19:29:09,242 - adherence_evaluation - INFO: Running criterion: Warm Engagement (18/23)\n",
      "2024-04-14 19:29:15,367 - adherence_evaluation - INFO: Running criterion: Direct Confrontation (19/23)\n",
      "2024-04-14 19:29:28,347 - adherence_evaluation - INFO: Running criterion: Unorthodox Irreverence (20/23)\n",
      "2024-04-14 19:29:33,560 - adherence_evaluation - INFO: Running criterion: Balanced Style and Strategies (21/23)\n",
      "2024-04-14 19:29:34,254 - adherence_evaluation - INFO: Running criterion: Model Dialectical Thinking (22/23)\n",
      "2024-04-14 19:29:36,329 - adherence_evaluation - INFO: Running criterion: Suicidal Behaviors Protocol (23/23)\n",
      "2024-04-14 19:29:37,110 - evaluation_pipeline - INFO: Running conversation: (2/2)\n",
      "2024-04-14 19:29:37,110 - adherence_evaluation - INFO: Running iteration 0\n",
      "2024-04-14 19:29:37,112 - adherence_evaluation - INFO: Running criterion: Organize by Targets (1/23)\n",
      "2024-04-14 19:29:37,960 - adherence_evaluation - INFO: Running criterion: Emotion Focus (2/23)\n",
      "2024-04-14 19:29:48,326 - adherence_evaluation - INFO: Running criterion: Describe Specifically (3/23)\n",
      "2024-04-14 19:29:49,260 - adherence_evaluation - INFO: Running criterion: Chain Analysis (4/23)\n",
      "2024-04-14 19:29:51,102 - adherence_evaluation - INFO: Running criterion: Teach New Information (5/23)\n",
      "2024-04-14 19:30:02,961 - adherence_evaluation - INFO: Running criterion: Generate Solutions (6/23)\n",
      "2024-04-14 19:30:08,733 - adherence_evaluation - INFO: Running criterion: Activate New Behavior (7/23)\n",
      "2024-04-14 19:30:10,520 - adherence_evaluation - INFO: Running criterion: Provide Coaching Feedback (8/23)\n",
      "2024-04-14 19:30:11,107 - adherence_evaluation - INFO: Running criterion: Generalize New Learning (9/23)\n",
      "2024-04-14 19:30:15,924 - adherence_evaluation - INFO: Running criterion: Commitment and Troubleshooting (10/23)\n",
      "2024-04-14 19:30:22,536 - adherence_evaluation - INFO: Running criterion: Reinforcement (11/23)\n",
      "2024-04-14 19:30:23,151 - adherence_evaluation - INFO: Running criterion: Aversive Contingencies (12/23)\n",
      "2024-04-14 19:30:23,737 - adherence_evaluation - INFO: Running criterion: Informal Exposure (13/23)\n",
      "2024-04-14 19:30:26,416 - adherence_evaluation - INFO: Running criterion: Challenge Cognitions (14/23)\n",
      "2024-04-14 19:30:32,926 - adherence_evaluation - INFO: Running criterion: V4 Learning History/Biology (15/23)\n",
      "2024-04-14 19:30:41,150 - adherence_evaluation - INFO: Running criterion: V5 Current Events (16/23)\n",
      "2024-04-14 19:30:47,535 - adherence_evaluation - INFO: Running criterion: V6 Radical Genuineness (17/23)\n",
      "2024-04-14 19:30:48,287 - adherence_evaluation - INFO: Running criterion: Warm Engagement (18/23)\n",
      "2024-04-14 19:30:58,847 - adherence_evaluation - INFO: Running criterion: Direct Confrontation (19/23)\n",
      "2024-04-14 19:31:08,306 - adherence_evaluation - INFO: Running criterion: Unorthodox Irreverence (20/23)\n",
      "2024-04-14 19:31:13,758 - adherence_evaluation - INFO: Running criterion: Balanced Style and Strategies (21/23)\n",
      "2024-04-14 19:31:21,826 - adherence_evaluation - INFO: Running criterion: Model Dialectical Thinking (22/23)\n",
      "2024-04-14 19:31:22,392 - adherence_evaluation - INFO: Running criterion: Suicidal Behaviors Protocol (23/23)\n",
      "2024-04-14 19:31:23,004 - adherence_evaluation - INFO: Running iteration 1\n",
      "2024-04-14 19:31:23,004 - adherence_evaluation - INFO: Running criterion: Organize by Targets (1/23)\n",
      "2024-04-14 19:31:26,809 - adherence_evaluation - INFO: Running criterion: Emotion Focus (2/23)\n",
      "2024-04-14 19:31:31,541 - adherence_evaluation - INFO: Running criterion: Describe Specifically (3/23)\n",
      "2024-04-14 19:31:37,317 - adherence_evaluation - INFO: Running criterion: Chain Analysis (4/23)\n",
      "2024-04-14 19:31:40,919 - adherence_evaluation - INFO: Running criterion: Teach New Information (5/23)\n",
      "2024-04-14 19:31:47,531 - adherence_evaluation - INFO: Running criterion: Generate Solutions (6/23)\n",
      "2024-04-14 19:31:52,486 - adherence_evaluation - INFO: Running criterion: Activate New Behavior (7/23)\n",
      "2024-04-14 19:31:55,506 - adherence_evaluation - INFO: Running criterion: Provide Coaching Feedback (8/23)\n",
      "2024-04-14 19:31:56,103 - adherence_evaluation - INFO: Running criterion: Generalize New Learning (9/23)\n",
      "2024-04-14 19:32:03,262 - adherence_evaluation - INFO: Running criterion: Commitment and Troubleshooting (10/23)\n",
      "2024-04-14 19:32:03,843 - adherence_evaluation - INFO: Running criterion: Reinforcement (11/23)\n",
      "2024-04-14 19:32:04,400 - adherence_evaluation - INFO: Running criterion: Aversive Contingencies (12/23)\n",
      "2024-04-14 19:32:13,081 - adherence_evaluation - INFO: Running criterion: Informal Exposure (13/23)\n",
      "2024-04-14 19:32:14,170 - adherence_evaluation - INFO: Running criterion: Challenge Cognitions (14/23)\n",
      "2024-04-14 19:32:19,446 - adherence_evaluation - INFO: Running criterion: V4 Learning History/Biology (15/23)\n",
      "2024-04-14 19:32:24,133 - adherence_evaluation - INFO: Running criterion: V5 Current Events (16/23)\n",
      "2024-04-14 19:32:24,761 - adherence_evaluation - INFO: Running criterion: V6 Radical Genuineness (17/23)\n",
      "2024-04-14 19:32:25,109 - adherence_evaluation - INFO: Running criterion: Warm Engagement (18/23)\n",
      "2024-04-14 19:32:34,841 - adherence_evaluation - INFO: Running criterion: Direct Confrontation (19/23)\n",
      "2024-04-14 19:32:35,166 - adherence_evaluation - INFO: Running criterion: Unorthodox Irreverence (20/23)\n",
      "2024-04-14 19:32:44,363 - adherence_evaluation - INFO: Running criterion: Balanced Style and Strategies (21/23)\n",
      "2024-04-14 19:32:46,188 - adherence_evaluation - INFO: Running criterion: Model Dialectical Thinking (22/23)\n",
      "2024-04-14 19:32:55,437 - adherence_evaluation - INFO: Running criterion: Suicidal Behaviors Protocol (23/23)\n",
      "2024-04-14 19:32:57,504 - adherence_evaluation - INFO: Running iteration 2\n",
      "2024-04-14 19:32:57,505 - adherence_evaluation - INFO: Running criterion: Organize by Targets (1/23)\n",
      "2024-04-14 19:32:59,817 - adherence_evaluation - INFO: Running criterion: Emotion Focus (2/23)\n",
      "2024-04-14 19:33:08,179 - adherence_evaluation - INFO: Running criterion: Describe Specifically (3/23)\n",
      "2024-04-14 19:33:10,045 - adherence_evaluation - INFO: Running criterion: Chain Analysis (4/23)\n",
      "2024-04-14 19:33:10,570 - adherence_evaluation - INFO: Running criterion: Teach New Information (5/23)\n",
      "2024-04-14 19:33:11,213 - adherence_evaluation - INFO: Running criterion: Generate Solutions (6/23)\n",
      "2024-04-14 19:33:13,819 - adherence_evaluation - INFO: Running criterion: Activate New Behavior (7/23)\n",
      "2024-04-14 19:33:16,335 - adherence_evaluation - INFO: Running criterion: Provide Coaching Feedback (8/23)\n",
      "2024-04-14 19:33:25,556 - adherence_evaluation - INFO: Running criterion: Generalize New Learning (9/23)\n",
      "2024-04-14 19:33:32,702 - adherence_evaluation - INFO: Running criterion: Commitment and Troubleshooting (10/23)\n",
      "2024-04-14 19:33:33,033 - adherence_evaluation - INFO: Running criterion: Reinforcement (11/23)\n",
      "2024-04-14 19:33:33,590 - adherence_evaluation - INFO: Running criterion: Aversive Contingencies (12/23)\n",
      "2024-04-14 19:33:39,610 - adherence_evaluation - INFO: Running criterion: Informal Exposure (13/23)\n",
      "2024-04-14 19:33:40,291 - adherence_evaluation - INFO: Running criterion: Challenge Cognitions (14/23)\n",
      "2024-04-14 19:33:46,711 - adherence_evaluation - INFO: Running criterion: V4 Learning History/Biology (15/23)\n",
      "2024-04-14 19:33:49,889 - adherence_evaluation - INFO: Running criterion: V5 Current Events (16/23)\n",
      "2024-04-14 19:33:56,840 - adherence_evaluation - INFO: Running criterion: V6 Radical Genuineness (17/23)\n",
      "2024-04-14 19:33:58,945 - adherence_evaluation - INFO: Running criterion: Warm Engagement (18/23)\n",
      "2024-04-14 19:34:02,481 - adherence_evaluation - INFO: Running criterion: Direct Confrontation (19/23)\n",
      "2024-04-14 19:34:09,448 - adherence_evaluation - INFO: Running criterion: Unorthodox Irreverence (20/23)\n",
      "2024-04-14 19:34:11,077 - adherence_evaluation - INFO: Running criterion: Balanced Style and Strategies (21/23)\n",
      "2024-04-14 19:34:12,633 - adherence_evaluation - INFO: Running criterion: Model Dialectical Thinking (22/23)\n",
      "2024-04-14 19:34:14,805 - adherence_evaluation - INFO: Running criterion: Suicidal Behaviors Protocol (23/23)\n",
      "2024-04-14 19:34:16,611 - adherence_evaluation - INFO: Running iteration 3\n",
      "2024-04-14 19:34:16,612 - adherence_evaluation - INFO: Running criterion: Organize by Targets (1/23)\n",
      "2024-04-14 19:34:32,536 - adherence_evaluation - INFO: Running criterion: Emotion Focus (2/23)\n",
      "2024-04-14 19:34:35,015 - adherence_evaluation - INFO: Running criterion: Describe Specifically (3/23)\n",
      "2024-04-14 19:34:43,464 - adherence_evaluation - INFO: Running criterion: Chain Analysis (4/23)\n",
      "2024-04-14 19:34:57,329 - adherence_evaluation - INFO: Running criterion: Teach New Information (5/23)\n",
      "2024-04-14 19:35:01,076 - adherence_evaluation - INFO: Running criterion: Generate Solutions (6/23)\n",
      "2024-04-14 19:35:05,629 - adherence_evaluation - INFO: Running criterion: Activate New Behavior (7/23)\n",
      "2024-04-14 19:35:14,680 - adherence_evaluation - INFO: Running criterion: Provide Coaching Feedback (8/23)\n",
      "2024-04-14 19:35:15,391 - adherence_evaluation - INFO: Running criterion: Generalize New Learning (9/23)\n",
      "2024-04-14 19:35:24,205 - adherence_evaluation - INFO: Running criterion: Commitment and Troubleshooting (10/23)\n",
      "2024-04-14 19:35:32,477 - adherence_evaluation - INFO: Running criterion: Reinforcement (11/23)\n",
      "2024-04-14 19:35:50,842 - adherence_evaluation - INFO: Running criterion: Aversive Contingencies (12/23)\n",
      "2024-04-14 19:35:53,962 - adherence_evaluation - INFO: Running criterion: Informal Exposure (13/23)\n",
      "2024-04-14 19:36:15,925 - adherence_evaluation - INFO: Running criterion: Challenge Cognitions (14/23)\n",
      "2024-04-14 19:36:22,342 - adherence_evaluation - INFO: Running criterion: V4 Learning History/Biology (15/23)\n",
      "2024-04-14 19:36:23,117 - adherence_evaluation - INFO: Running criterion: V5 Current Events (16/23)\n",
      "2024-04-14 19:36:33,921 - adherence_evaluation - INFO: Running criterion: V6 Radical Genuineness (17/23)\n",
      "2024-04-14 19:36:41,895 - adherence_evaluation - INFO: Running criterion: Warm Engagement (18/23)\n",
      "2024-04-14 19:36:46,758 - adherence_evaluation - INFO: Running criterion: Direct Confrontation (19/23)\n",
      "2024-04-14 19:36:47,340 - adherence_evaluation - INFO: Running criterion: Unorthodox Irreverence (20/23)\n",
      "2024-04-14 19:36:47,815 - adherence_evaluation - INFO: Running criterion: Balanced Style and Strategies (21/23)\n",
      "2024-04-14 19:36:59,927 - adherence_evaluation - INFO: Running criterion: Model Dialectical Thinking (22/23)\n",
      "2024-04-14 19:37:06,330 - adherence_evaluation - INFO: Running criterion: Suicidal Behaviors Protocol (23/23)\n",
      "2024-04-14 19:37:07,046 - adherence_evaluation - INFO: Running iteration 4\n",
      "2024-04-14 19:37:07,047 - adherence_evaluation - INFO: Running criterion: Organize by Targets (1/23)\n",
      "2024-04-14 19:37:07,603 - adherence_evaluation - INFO: Running criterion: Emotion Focus (2/23)\n",
      "2024-04-14 19:37:09,497 - adherence_evaluation - INFO: Running criterion: Describe Specifically (3/23)\n",
      "2024-04-14 19:37:14,349 - adherence_evaluation - INFO: Running criterion: Chain Analysis (4/23)\n",
      "2024-04-14 19:37:16,714 - adherence_evaluation - INFO: Running criterion: Teach New Information (5/23)\n",
      "2024-04-14 19:37:22,190 - adherence_evaluation - INFO: Running criterion: Generate Solutions (6/23)\n",
      "2024-04-14 19:37:25,234 - adherence_evaluation - INFO: Running criterion: Activate New Behavior (7/23)\n",
      "2024-04-14 19:37:27,005 - adherence_evaluation - INFO: Running criterion: Provide Coaching Feedback (8/23)\n",
      "2024-04-14 19:37:54,698 - adherence_evaluation - INFO: Running criterion: Generalize New Learning (9/23)\n",
      "2024-04-14 19:38:06,717 - adherence_evaluation - INFO: Running criterion: Commitment and Troubleshooting (10/23)\n",
      "2024-04-14 19:38:10,504 - adherence_evaluation - INFO: Running criterion: Reinforcement (11/23)\n",
      "2024-04-14 19:38:16,884 - adherence_evaluation - INFO: Running criterion: Aversive Contingencies (12/23)\n",
      "2024-04-14 19:38:25,300 - adherence_evaluation - INFO: Running criterion: Informal Exposure (13/23)\n",
      "2024-04-14 19:38:27,833 - adherence_evaluation - INFO: Running criterion: Challenge Cognitions (14/23)\n",
      "2024-04-14 19:38:28,477 - adherence_evaluation - INFO: Running criterion: V4 Learning History/Biology (15/23)\n",
      "2024-04-14 19:38:33,816 - adherence_evaluation - INFO: Running criterion: V5 Current Events (16/23)\n",
      "2024-04-14 19:38:41,821 - adherence_evaluation - INFO: Running criterion: V6 Radical Genuineness (17/23)\n",
      "2024-04-14 19:38:42,365 - adherence_evaluation - INFO: Running criterion: Warm Engagement (18/23)\n",
      "2024-04-14 19:38:45,206 - adherence_evaluation - INFO: Running criterion: Direct Confrontation (19/23)\n",
      "2024-04-14 19:38:45,902 - adherence_evaluation - INFO: Running criterion: Unorthodox Irreverence (20/23)\n",
      "2024-04-14 19:38:46,476 - adherence_evaluation - INFO: Running criterion: Balanced Style and Strategies (21/23)\n",
      "2024-04-14 19:38:47,368 - adherence_evaluation - INFO: Running criterion: Model Dialectical Thinking (22/23)\n",
      "2024-04-14 19:38:57,026 - adherence_evaluation - INFO: Running criterion: Suicidal Behaviors Protocol (23/23)\n"
     ]
    }
   ],
   "source": [
    "EVAL_DIRPATH = os.path.join('.', 'evaluation', 'output')\n",
    "ADHERENCE_EVAL_FILEPATH = os.path.join(EVAL_DIRPATH, f'{CONVO_GEN_FILENAME}_adherence_results.json')\n",
    "\n",
    "# run_evaluations expects a csv with the following format in each row: {id, text conversation}\n",
    "run_evaluations(CONVO_GEN_CSV_PATH, ADHERENCE_EVAL_FILEPATH, 'adherence')"
   ]
  },
  {
   "cell_type": "code",
   "execution_count": 6,
   "id": "dd87e774-6572-4cc9-b4bf-aee86f21fd71",
   "metadata": {},
   "outputs": [
    {
     "data": {
      "text/plain": "                         conversation_id                       criterion  \\\n0   bc97e560-2f17-40c6-bbbc-cf1455e5536b             Organize by Targets   \n1   bc97e560-2f17-40c6-bbbc-cf1455e5536b                   Emotion Focus   \n2   bc97e560-2f17-40c6-bbbc-cf1455e5536b           Describe Specifically   \n3   bc97e560-2f17-40c6-bbbc-cf1455e5536b                  Chain Analysis   \n4   bc97e560-2f17-40c6-bbbc-cf1455e5536b           Teach New Information   \n5   bc97e560-2f17-40c6-bbbc-cf1455e5536b              Generate Solutions   \n6   bc97e560-2f17-40c6-bbbc-cf1455e5536b           Activate New Behavior   \n7   bc97e560-2f17-40c6-bbbc-cf1455e5536b       Provide Coaching Feedback   \n8   bc97e560-2f17-40c6-bbbc-cf1455e5536b         Generalize New Learning   \n9   bc97e560-2f17-40c6-bbbc-cf1455e5536b  Commitment and Troubleshooting   \n10  bc97e560-2f17-40c6-bbbc-cf1455e5536b                   Reinforcement   \n11  bc97e560-2f17-40c6-bbbc-cf1455e5536b          Aversive Contingencies   \n12  bc97e560-2f17-40c6-bbbc-cf1455e5536b               Informal Exposure   \n13  bc97e560-2f17-40c6-bbbc-cf1455e5536b            Challenge Cognitions   \n14  bc97e560-2f17-40c6-bbbc-cf1455e5536b     V4 Learning History/Biology   \n15  bc97e560-2f17-40c6-bbbc-cf1455e5536b               V5 Current Events   \n16  bc97e560-2f17-40c6-bbbc-cf1455e5536b          V6 Radical Genuineness   \n17  bc97e560-2f17-40c6-bbbc-cf1455e5536b                 Warm Engagement   \n18  bc97e560-2f17-40c6-bbbc-cf1455e5536b            Direct Confrontation   \n19  bc97e560-2f17-40c6-bbbc-cf1455e5536b          Unorthodox Irreverence   \n20  bc97e560-2f17-40c6-bbbc-cf1455e5536b   Balanced Style and Strategies   \n21  bc97e560-2f17-40c6-bbbc-cf1455e5536b      Model Dialectical Thinking   \n22  bc97e560-2f17-40c6-bbbc-cf1455e5536b     Suicidal Behaviors Protocol   \n23  817c2b6f-51bf-401c-8b06-cdf9f83b5948             Organize by Targets   \n24  817c2b6f-51bf-401c-8b06-cdf9f83b5948                   Emotion Focus   \n25  817c2b6f-51bf-401c-8b06-cdf9f83b5948           Describe Specifically   \n26  817c2b6f-51bf-401c-8b06-cdf9f83b5948                  Chain Analysis   \n27  817c2b6f-51bf-401c-8b06-cdf9f83b5948           Teach New Information   \n28  817c2b6f-51bf-401c-8b06-cdf9f83b5948              Generate Solutions   \n29  817c2b6f-51bf-401c-8b06-cdf9f83b5948           Activate New Behavior   \n30  817c2b6f-51bf-401c-8b06-cdf9f83b5948       Provide Coaching Feedback   \n31  817c2b6f-51bf-401c-8b06-cdf9f83b5948         Generalize New Learning   \n32  817c2b6f-51bf-401c-8b06-cdf9f83b5948  Commitment and Troubleshooting   \n33  817c2b6f-51bf-401c-8b06-cdf9f83b5948                   Reinforcement   \n34  817c2b6f-51bf-401c-8b06-cdf9f83b5948          Aversive Contingencies   \n35  817c2b6f-51bf-401c-8b06-cdf9f83b5948               Informal Exposure   \n36  817c2b6f-51bf-401c-8b06-cdf9f83b5948            Challenge Cognitions   \n37  817c2b6f-51bf-401c-8b06-cdf9f83b5948     V4 Learning History/Biology   \n38  817c2b6f-51bf-401c-8b06-cdf9f83b5948               V5 Current Events   \n39  817c2b6f-51bf-401c-8b06-cdf9f83b5948          V6 Radical Genuineness   \n40  817c2b6f-51bf-401c-8b06-cdf9f83b5948                 Warm Engagement   \n41  817c2b6f-51bf-401c-8b06-cdf9f83b5948            Direct Confrontation   \n42  817c2b6f-51bf-401c-8b06-cdf9f83b5948          Unorthodox Irreverence   \n43  817c2b6f-51bf-401c-8b06-cdf9f83b5948   Balanced Style and Strategies   \n44  817c2b6f-51bf-401c-8b06-cdf9f83b5948      Model Dialectical Thinking   \n45  817c2b6f-51bf-401c-8b06-cdf9f83b5948     Suicidal Behaviors Protocol   \n\n    score  \n0     1.0  \n1     1.0  \n2     1.0  \n3     0.0  \n4     1.0  \n5     0.8  \n6     1.0  \n7     1.0  \n8     1.0  \n9     1.0  \n10    1.0  \n11    0.0  \n12    0.4  \n13    0.2  \n14    0.0  \n15    1.0  \n16    1.0  \n17    1.0  \n18    1.0  \n19    0.4  \n20    1.0  \n21    0.2  \n22    0.2  \n23    1.0  \n24    1.0  \n25    1.0  \n26    0.0  \n27    1.0  \n28    1.0  \n29    1.0  \n30    1.0  \n31    1.0  \n32    1.0  \n33    1.0  \n34    0.0  \n35    1.0  \n36    1.0  \n37    0.0  \n38    1.0  \n39    1.0  \n40    1.0  \n41    0.4  \n42    0.0  \n43    1.0  \n44    0.4  \n45    0.0  ",
      "text/html": "<div>\n<style scoped>\n    .dataframe tbody tr th:only-of-type {\n        vertical-align: middle;\n    }\n\n    .dataframe tbody tr th {\n        vertical-align: top;\n    }\n\n    .dataframe thead th {\n        text-align: right;\n    }\n</style>\n<table border=\"1\" class=\"dataframe\">\n  <thead>\n    <tr style=\"text-align: right;\">\n      <th></th>\n      <th>conversation_id</th>\n      <th>criterion</th>\n      <th>score</th>\n    </tr>\n  </thead>\n  <tbody>\n    <tr>\n      <th>0</th>\n      <td>bc97e560-2f17-40c6-bbbc-cf1455e5536b</td>\n      <td>Organize by Targets</td>\n      <td>1.0</td>\n    </tr>\n    <tr>\n      <th>1</th>\n      <td>bc97e560-2f17-40c6-bbbc-cf1455e5536b</td>\n      <td>Emotion Focus</td>\n      <td>1.0</td>\n    </tr>\n    <tr>\n      <th>2</th>\n      <td>bc97e560-2f17-40c6-bbbc-cf1455e5536b</td>\n      <td>Describe Specifically</td>\n      <td>1.0</td>\n    </tr>\n    <tr>\n      <th>3</th>\n      <td>bc97e560-2f17-40c6-bbbc-cf1455e5536b</td>\n      <td>Chain Analysis</td>\n      <td>0.0</td>\n    </tr>\n    <tr>\n      <th>4</th>\n      <td>bc97e560-2f17-40c6-bbbc-cf1455e5536b</td>\n      <td>Teach New Information</td>\n      <td>1.0</td>\n    </tr>\n    <tr>\n      <th>5</th>\n      <td>bc97e560-2f17-40c6-bbbc-cf1455e5536b</td>\n      <td>Generate Solutions</td>\n      <td>0.8</td>\n    </tr>\n    <tr>\n      <th>6</th>\n      <td>bc97e560-2f17-40c6-bbbc-cf1455e5536b</td>\n      <td>Activate New Behavior</td>\n      <td>1.0</td>\n    </tr>\n    <tr>\n      <th>7</th>\n      <td>bc97e560-2f17-40c6-bbbc-cf1455e5536b</td>\n      <td>Provide Coaching Feedback</td>\n      <td>1.0</td>\n    </tr>\n    <tr>\n      <th>8</th>\n      <td>bc97e560-2f17-40c6-bbbc-cf1455e5536b</td>\n      <td>Generalize New Learning</td>\n      <td>1.0</td>\n    </tr>\n    <tr>\n      <th>9</th>\n      <td>bc97e560-2f17-40c6-bbbc-cf1455e5536b</td>\n      <td>Commitment and Troubleshooting</td>\n      <td>1.0</td>\n    </tr>\n    <tr>\n      <th>10</th>\n      <td>bc97e560-2f17-40c6-bbbc-cf1455e5536b</td>\n      <td>Reinforcement</td>\n      <td>1.0</td>\n    </tr>\n    <tr>\n      <th>11</th>\n      <td>bc97e560-2f17-40c6-bbbc-cf1455e5536b</td>\n      <td>Aversive Contingencies</td>\n      <td>0.0</td>\n    </tr>\n    <tr>\n      <th>12</th>\n      <td>bc97e560-2f17-40c6-bbbc-cf1455e5536b</td>\n      <td>Informal Exposure</td>\n      <td>0.4</td>\n    </tr>\n    <tr>\n      <th>13</th>\n      <td>bc97e560-2f17-40c6-bbbc-cf1455e5536b</td>\n      <td>Challenge Cognitions</td>\n      <td>0.2</td>\n    </tr>\n    <tr>\n      <th>14</th>\n      <td>bc97e560-2f17-40c6-bbbc-cf1455e5536b</td>\n      <td>V4 Learning History/Biology</td>\n      <td>0.0</td>\n    </tr>\n    <tr>\n      <th>15</th>\n      <td>bc97e560-2f17-40c6-bbbc-cf1455e5536b</td>\n      <td>V5 Current Events</td>\n      <td>1.0</td>\n    </tr>\n    <tr>\n      <th>16</th>\n      <td>bc97e560-2f17-40c6-bbbc-cf1455e5536b</td>\n      <td>V6 Radical Genuineness</td>\n      <td>1.0</td>\n    </tr>\n    <tr>\n      <th>17</th>\n      <td>bc97e560-2f17-40c6-bbbc-cf1455e5536b</td>\n      <td>Warm Engagement</td>\n      <td>1.0</td>\n    </tr>\n    <tr>\n      <th>18</th>\n      <td>bc97e560-2f17-40c6-bbbc-cf1455e5536b</td>\n      <td>Direct Confrontation</td>\n      <td>1.0</td>\n    </tr>\n    <tr>\n      <th>19</th>\n      <td>bc97e560-2f17-40c6-bbbc-cf1455e5536b</td>\n      <td>Unorthodox Irreverence</td>\n      <td>0.4</td>\n    </tr>\n    <tr>\n      <th>20</th>\n      <td>bc97e560-2f17-40c6-bbbc-cf1455e5536b</td>\n      <td>Balanced Style and Strategies</td>\n      <td>1.0</td>\n    </tr>\n    <tr>\n      <th>21</th>\n      <td>bc97e560-2f17-40c6-bbbc-cf1455e5536b</td>\n      <td>Model Dialectical Thinking</td>\n      <td>0.2</td>\n    </tr>\n    <tr>\n      <th>22</th>\n      <td>bc97e560-2f17-40c6-bbbc-cf1455e5536b</td>\n      <td>Suicidal Behaviors Protocol</td>\n      <td>0.2</td>\n    </tr>\n    <tr>\n      <th>23</th>\n      <td>817c2b6f-51bf-401c-8b06-cdf9f83b5948</td>\n      <td>Organize by Targets</td>\n      <td>1.0</td>\n    </tr>\n    <tr>\n      <th>24</th>\n      <td>817c2b6f-51bf-401c-8b06-cdf9f83b5948</td>\n      <td>Emotion Focus</td>\n      <td>1.0</td>\n    </tr>\n    <tr>\n      <th>25</th>\n      <td>817c2b6f-51bf-401c-8b06-cdf9f83b5948</td>\n      <td>Describe Specifically</td>\n      <td>1.0</td>\n    </tr>\n    <tr>\n      <th>26</th>\n      <td>817c2b6f-51bf-401c-8b06-cdf9f83b5948</td>\n      <td>Chain Analysis</td>\n      <td>0.0</td>\n    </tr>\n    <tr>\n      <th>27</th>\n      <td>817c2b6f-51bf-401c-8b06-cdf9f83b5948</td>\n      <td>Teach New Information</td>\n      <td>1.0</td>\n    </tr>\n    <tr>\n      <th>28</th>\n      <td>817c2b6f-51bf-401c-8b06-cdf9f83b5948</td>\n      <td>Generate Solutions</td>\n      <td>1.0</td>\n    </tr>\n    <tr>\n      <th>29</th>\n      <td>817c2b6f-51bf-401c-8b06-cdf9f83b5948</td>\n      <td>Activate New Behavior</td>\n      <td>1.0</td>\n    </tr>\n    <tr>\n      <th>30</th>\n      <td>817c2b6f-51bf-401c-8b06-cdf9f83b5948</td>\n      <td>Provide Coaching Feedback</td>\n      <td>1.0</td>\n    </tr>\n    <tr>\n      <th>31</th>\n      <td>817c2b6f-51bf-401c-8b06-cdf9f83b5948</td>\n      <td>Generalize New Learning</td>\n      <td>1.0</td>\n    </tr>\n    <tr>\n      <th>32</th>\n      <td>817c2b6f-51bf-401c-8b06-cdf9f83b5948</td>\n      <td>Commitment and Troubleshooting</td>\n      <td>1.0</td>\n    </tr>\n    <tr>\n      <th>33</th>\n      <td>817c2b6f-51bf-401c-8b06-cdf9f83b5948</td>\n      <td>Reinforcement</td>\n      <td>1.0</td>\n    </tr>\n    <tr>\n      <th>34</th>\n      <td>817c2b6f-51bf-401c-8b06-cdf9f83b5948</td>\n      <td>Aversive Contingencies</td>\n      <td>0.0</td>\n    </tr>\n    <tr>\n      <th>35</th>\n      <td>817c2b6f-51bf-401c-8b06-cdf9f83b5948</td>\n      <td>Informal Exposure</td>\n      <td>1.0</td>\n    </tr>\n    <tr>\n      <th>36</th>\n      <td>817c2b6f-51bf-401c-8b06-cdf9f83b5948</td>\n      <td>Challenge Cognitions</td>\n      <td>1.0</td>\n    </tr>\n    <tr>\n      <th>37</th>\n      <td>817c2b6f-51bf-401c-8b06-cdf9f83b5948</td>\n      <td>V4 Learning History/Biology</td>\n      <td>0.0</td>\n    </tr>\n    <tr>\n      <th>38</th>\n      <td>817c2b6f-51bf-401c-8b06-cdf9f83b5948</td>\n      <td>V5 Current Events</td>\n      <td>1.0</td>\n    </tr>\n    <tr>\n      <th>39</th>\n      <td>817c2b6f-51bf-401c-8b06-cdf9f83b5948</td>\n      <td>V6 Radical Genuineness</td>\n      <td>1.0</td>\n    </tr>\n    <tr>\n      <th>40</th>\n      <td>817c2b6f-51bf-401c-8b06-cdf9f83b5948</td>\n      <td>Warm Engagement</td>\n      <td>1.0</td>\n    </tr>\n    <tr>\n      <th>41</th>\n      <td>817c2b6f-51bf-401c-8b06-cdf9f83b5948</td>\n      <td>Direct Confrontation</td>\n      <td>0.4</td>\n    </tr>\n    <tr>\n      <th>42</th>\n      <td>817c2b6f-51bf-401c-8b06-cdf9f83b5948</td>\n      <td>Unorthodox Irreverence</td>\n      <td>0.0</td>\n    </tr>\n    <tr>\n      <th>43</th>\n      <td>817c2b6f-51bf-401c-8b06-cdf9f83b5948</td>\n      <td>Balanced Style and Strategies</td>\n      <td>1.0</td>\n    </tr>\n    <tr>\n      <th>44</th>\n      <td>817c2b6f-51bf-401c-8b06-cdf9f83b5948</td>\n      <td>Model Dialectical Thinking</td>\n      <td>0.4</td>\n    </tr>\n    <tr>\n      <th>45</th>\n      <td>817c2b6f-51bf-401c-8b06-cdf9f83b5948</td>\n      <td>Suicidal Behaviors Protocol</td>\n      <td>0.0</td>\n    </tr>\n  </tbody>\n</table>\n</div>"
     },
     "execution_count": 6,
     "metadata": {},
     "output_type": "execute_result"
    }
   ],
   "source": [
    "with open(ADHERENCE_EVAL_FILEPATH) as adherence_results_json:\n",
    "    adherence_results_dict = json.load(adherence_results_json)\n",
    "\n",
    "# converting json dataset from dictionary to dataframe\n",
    "adherence_results_df = pd.DataFrame(columns = ['conversation_id', 'criterion', 'score'])\n",
    "for item in adherence_results_dict:\n",
    "    for r, v in item['result'].items():\n",
    "        adherence_results_df.loc[len(adherence_results_df)] = {'conversation_id': item['conversation_id'], 'criterion': r, 'score': v}\n",
    "\n",
    "adherence_results_df"
   ]
  },
  {
   "cell_type": "markdown",
   "source": [
    "### Skill Presence"
   ],
   "metadata": {
    "collapsed": false
   }
  },
  {
   "cell_type": "code",
   "execution_count": 7,
   "outputs": [
    {
     "name": "stderr",
     "output_type": "stream",
     "text": [
      "2024-04-14 19:41:27,554 - skill_presence_evaluation - INFO: Launching skill presence evaluation with following skill ids: ['M1', 'M2', 'M3', 'M4', 'M5', 'M6', 'M7', 'M8', 'M9', 'IE1', 'IE2', 'IE3', 'IE4', 'IE5', 'IE6', 'IE7', 'IE8', 'IE9', 'IE10', 'IE11', 'ER1', 'ER2', 'ER3', 'ER4', 'ER5', 'ER6', 'ER7', 'ER8', 'ER9', 'ER10', 'DT1', 'DT2', 'DT3', 'DT4', 'DT5', 'DT6', 'DT7', 'DT8', 'DT9', 'DT10', 'DT11', 'DT12', 'DT13', 'DT14', 'DT15', 'DT16']\n",
      "2024-04-14 19:41:27,555 - evaluation_pipeline - INFO: Running conversation: (1/2)\n",
      "2024-04-14 19:41:27,557 - evaluation_pipeline - INFO: Running conversation: (2/2)\n"
     ]
    }
   ],
   "source": [
    "SKILL_EVAL_FILEPATH = os.path.join(EVAL_DIRPATH, f'{CONVO_GEN_FILENAME}_skill_presence_results.json')\n",
    "\n",
    "run_evaluations(CONVO_GEN_CSV_PATH, SKILL_EVAL_FILEPATH, 'skill_presence')"
   ],
   "metadata": {
    "collapsed": false
   }
  },
  {
   "cell_type": "code",
   "execution_count": 8,
   "outputs": [
    {
     "data": {
      "text/plain": "                                     detected_skill_ids\nconversation_id                                        \nbc97e560-2f17-40c6-bbbc-cf1455e5536b              [DT5]\n817c2b6f-51bf-401c-8b06-cdf9f83b5948             [DT11]",
      "text/html": "<div>\n<style scoped>\n    .dataframe tbody tr th:only-of-type {\n        vertical-align: middle;\n    }\n\n    .dataframe tbody tr th {\n        vertical-align: top;\n    }\n\n    .dataframe thead th {\n        text-align: right;\n    }\n</style>\n<table border=\"1\" class=\"dataframe\">\n  <thead>\n    <tr style=\"text-align: right;\">\n      <th></th>\n      <th>detected_skill_ids</th>\n    </tr>\n    <tr>\n      <th>conversation_id</th>\n      <th></th>\n    </tr>\n  </thead>\n  <tbody>\n    <tr>\n      <th>bc97e560-2f17-40c6-bbbc-cf1455e5536b</th>\n      <td>[DT5]</td>\n    </tr>\n    <tr>\n      <th>817c2b6f-51bf-401c-8b06-cdf9f83b5948</th>\n      <td>[DT11]</td>\n    </tr>\n  </tbody>\n</table>\n</div>"
     },
     "execution_count": 8,
     "metadata": {},
     "output_type": "execute_result"
    }
   ],
   "source": [
    "with open(SKILL_EVAL_FILEPATH) as skill_presence_results_json:\n",
    "    skill_presence_results_dict = json.load(skill_presence_results_json)\n",
    "\n",
    "# converting json dataset from dictionary to dataframe\n",
    "skills_detected_df = pd.DataFrame.from_records(\n",
    "    skill_presence_results_dict\n",
    ").set_index('conversation_id'\n",
    "            ).drop(\n",
    "    'evaluation_name',\n",
    "    axis=1,\n",
    ").rename(\n",
    "    {'result': 'detected_skill_ids'},\n",
    "    axis=1,\n",
    ")\n",
    "\n",
    "skills_detected_df"
   ],
   "metadata": {
    "collapsed": false
   }
  },
  {
   "cell_type": "code",
   "execution_count": 9,
   "outputs": [
    {
     "data": {
      "text/plain": "                                                           Title  \\\nconversation_id                                                    \nbc97e560-2f17-40c6-bbbc-cf1455e5536b          Solo Wake Planning   \n817c2b6f-51bf-401c-8b06-cdf9f83b5948     Midnight Mind Marathons   \na26af177-cf8b-41f0-b286-3a1f536544af           Awaking Exhausted   \n4f57e28b-1c11-437c-a067-a725c3b3dd32  Distracted Amongst Friends   \n8ad366a9-643d-4a93-8716-f7df4447d79e            Tears Trump Talk   \n...                                                          ...   \n1551bb94-6070-498f-a011-9407ed545c45           Sick of Sedentary   \n6ac0e128-495a-4244-b60e-642e11cca7ea             Exam Theft Auto   \n711d32a0-4594-498f-9a2b-5f93f2346da7       Reading Pace Pressure   \n31ee6726-f6d0-453f-9482-4e36b8dbdc04              Looming Layoff   \nfeed36a3-d156-49b7-8f8d-d174472daa0d       Surrendering to Sweat   \n\n                                                                        initial_message  \\\nconversation_id                                                                           \nbc97e560-2f17-40c6-bbbc-cf1455e5536b  My grandmother passed away two days ago and ev...   \n817c2b6f-51bf-401c-8b06-cdf9f83b5948  I have a hard time falling asleep at night. I ...   \na26af177-cf8b-41f0-b286-3a1f536544af  I have been ruminating before falling asleep a...   \n4f57e28b-1c11-437c-a067-a725c3b3dd32  Oftentimes when I'm with my friends, I am sitt...   \n8ad366a9-643d-4a93-8716-f7df4447d79e  Everytime I try to bring up a concern with my ...   \n...                                                                                 ...   \n1551bb94-6070-498f-a011-9407ed545c45  My partner and I are pretty sedentary. The doc...   \n6ac0e128-495a-4244-b60e-642e11cca7ea  I was running late for my final so instead of ...   \n711d32a0-4594-498f-9a2b-5f93f2346da7  I wanted to pick up the habit of reading. I fo...   \n31ee6726-f6d0-453f-9482-4e36b8dbdc04  There have been rounds of layoffs happening at...   \nfeed36a3-d156-49b7-8f8d-d174472daa0d  I've been following workout routines online bu...   \n\n                                     target_skill_ids  \nconversation_id                                        \nbc97e560-2f17-40c6-bbbc-cf1455e5536b             [M1]  \n817c2b6f-51bf-401c-8b06-cdf9f83b5948             [M2]  \na26af177-cf8b-41f0-b286-3a1f536544af        [M3, ER8]  \n4f57e28b-1c11-437c-a067-a725c3b3dd32             [M4]  \n8ad366a9-643d-4a93-8716-f7df4447d79e             [M5]  \n...                                               ...  \n1551bb94-6070-498f-a011-9407ed545c45           [DT15]  \n6ac0e128-495a-4244-b60e-642e11cca7ea            [IE9]  \n711d32a0-4594-498f-9a2b-5f93f2346da7           [IE10]  \n31ee6726-f6d0-453f-9482-4e36b8dbdc04       [ER4, DT7]  \nfeed36a3-d156-49b7-8f8d-d174472daa0d            [ER6]  \n\n[82 rows x 3 columns]",
      "text/html": "<div>\n<style scoped>\n    .dataframe tbody tr th:only-of-type {\n        vertical-align: middle;\n    }\n\n    .dataframe tbody tr th {\n        vertical-align: top;\n    }\n\n    .dataframe thead th {\n        text-align: right;\n    }\n</style>\n<table border=\"1\" class=\"dataframe\">\n  <thead>\n    <tr style=\"text-align: right;\">\n      <th></th>\n      <th>Title</th>\n      <th>initial_message</th>\n      <th>target_skill_ids</th>\n    </tr>\n    <tr>\n      <th>conversation_id</th>\n      <th></th>\n      <th></th>\n      <th></th>\n    </tr>\n  </thead>\n  <tbody>\n    <tr>\n      <th>bc97e560-2f17-40c6-bbbc-cf1455e5536b</th>\n      <td>Solo Wake Planning</td>\n      <td>My grandmother passed away two days ago and ev...</td>\n      <td>[M1]</td>\n    </tr>\n    <tr>\n      <th>817c2b6f-51bf-401c-8b06-cdf9f83b5948</th>\n      <td>Midnight Mind Marathons</td>\n      <td>I have a hard time falling asleep at night. I ...</td>\n      <td>[M2]</td>\n    </tr>\n    <tr>\n      <th>a26af177-cf8b-41f0-b286-3a1f536544af</th>\n      <td>Awaking Exhausted</td>\n      <td>I have been ruminating before falling asleep a...</td>\n      <td>[M3, ER8]</td>\n    </tr>\n    <tr>\n      <th>4f57e28b-1c11-437c-a067-a725c3b3dd32</th>\n      <td>Distracted Amongst Friends</td>\n      <td>Oftentimes when I'm with my friends, I am sitt...</td>\n      <td>[M4]</td>\n    </tr>\n    <tr>\n      <th>8ad366a9-643d-4a93-8716-f7df4447d79e</th>\n      <td>Tears Trump Talk</td>\n      <td>Everytime I try to bring up a concern with my ...</td>\n      <td>[M5]</td>\n    </tr>\n    <tr>\n      <th>...</th>\n      <td>...</td>\n      <td>...</td>\n      <td>...</td>\n    </tr>\n    <tr>\n      <th>1551bb94-6070-498f-a011-9407ed545c45</th>\n      <td>Sick of Sedentary</td>\n      <td>My partner and I are pretty sedentary. The doc...</td>\n      <td>[DT15]</td>\n    </tr>\n    <tr>\n      <th>6ac0e128-495a-4244-b60e-642e11cca7ea</th>\n      <td>Exam Theft Auto</td>\n      <td>I was running late for my final so instead of ...</td>\n      <td>[IE9]</td>\n    </tr>\n    <tr>\n      <th>711d32a0-4594-498f-9a2b-5f93f2346da7</th>\n      <td>Reading Pace Pressure</td>\n      <td>I wanted to pick up the habit of reading. I fo...</td>\n      <td>[IE10]</td>\n    </tr>\n    <tr>\n      <th>31ee6726-f6d0-453f-9482-4e36b8dbdc04</th>\n      <td>Looming Layoff</td>\n      <td>There have been rounds of layoffs happening at...</td>\n      <td>[ER4, DT7]</td>\n    </tr>\n    <tr>\n      <th>feed36a3-d156-49b7-8f8d-d174472daa0d</th>\n      <td>Surrendering to Sweat</td>\n      <td>I've been following workout routines online bu...</td>\n      <td>[ER6]</td>\n    </tr>\n  </tbody>\n</table>\n<p>82 rows × 3 columns</p>\n</div>"
     },
     "execution_count": 9,
     "metadata": {},
     "output_type": "execute_result"
    }
   ],
   "source": [
    "prompts_df = pd.read_csv(\n",
    "    './data/prompts_with_ids.tsv',\n",
    "    delimiter='\\t',\n",
    ").rename(\n",
    "    {\n",
    "        'Initial Message':  'initial_message',\n",
    "        'Target Skill IDs': 'target_skill_ids',\n",
    "        'id':               'conversation_id',\n",
    "    },\n",
    "    axis=1,\n",
    ").set_index(\n",
    "    'conversation_id'\n",
    ")\n",
    "prompts_df['target_skill_ids'] = prompts_df['target_skill_ids'].apply(ast.literal_eval)\n",
    "prompts_df"
   ],
   "metadata": {
    "collapsed": false
   }
  },
  {
   "cell_type": "code",
   "execution_count": 11,
   "outputs": [
    {
     "data": {
      "text/plain": "                                                                           conversation\nconversation_id                                                                        \nbc97e560-2f17-40c6-bbbc-cf1455e5536b  Therapist: Hello! It's wonderful to have you h...\n817c2b6f-51bf-401c-8b06-cdf9f83b5948  Therapist: Hello there! I’m glad you’ve come t...",
      "text/html": "<div>\n<style scoped>\n    .dataframe tbody tr th:only-of-type {\n        vertical-align: middle;\n    }\n\n    .dataframe tbody tr th {\n        vertical-align: top;\n    }\n\n    .dataframe thead th {\n        text-align: right;\n    }\n</style>\n<table border=\"1\" class=\"dataframe\">\n  <thead>\n    <tr style=\"text-align: right;\">\n      <th></th>\n      <th>conversation</th>\n    </tr>\n    <tr>\n      <th>conversation_id</th>\n      <th></th>\n    </tr>\n  </thead>\n  <tbody>\n    <tr>\n      <th>bc97e560-2f17-40c6-bbbc-cf1455e5536b</th>\n      <td>Therapist: Hello! It's wonderful to have you h...</td>\n    </tr>\n    <tr>\n      <th>817c2b6f-51bf-401c-8b06-cdf9f83b5948</th>\n      <td>Therapist: Hello there! I’m glad you’ve come t...</td>\n    </tr>\n  </tbody>\n</table>\n</div>"
     },
     "execution_count": 11,
     "metadata": {},
     "output_type": "execute_result"
    }
   ],
   "source": [
    "convo_df = pd.read_csv(\n",
    "    CONVO_GEN_CSV_PATH\n",
    ").set_index(\n",
    "    'conversation_id'\n",
    ").drop(\n",
    "    'Unnamed: 0',\n",
    "    axis=1,\n",
    ")\n",
    "convo_df"
   ],
   "metadata": {
    "collapsed": false
   }
  },
  {
   "cell_type": "code",
   "execution_count": 12,
   "outputs": [
    {
     "data": {
      "text/plain": "                                                                        initial_message  \\\nconversation_id                                                                           \nbc97e560-2f17-40c6-bbbc-cf1455e5536b  My grandmother passed away two days ago and ev...   \n817c2b6f-51bf-401c-8b06-cdf9f83b5948  I have a hard time falling asleep at night. I ...   \n\n                                                                           conversation  \\\nconversation_id                                                                           \nbc97e560-2f17-40c6-bbbc-cf1455e5536b  Therapist: Hello! It's wonderful to have you h...   \n817c2b6f-51bf-401c-8b06-cdf9f83b5948  Therapist: Hello there! I’m glad you’ve come t...   \n\n                                     target_skill_ids detected_skill_ids  \nconversation_id                                                           \nbc97e560-2f17-40c6-bbbc-cf1455e5536b             [M1]              [DT5]  \n817c2b6f-51bf-401c-8b06-cdf9f83b5948             [M2]             [DT11]  ",
      "text/html": "<div>\n<style scoped>\n    .dataframe tbody tr th:only-of-type {\n        vertical-align: middle;\n    }\n\n    .dataframe tbody tr th {\n        vertical-align: top;\n    }\n\n    .dataframe thead th {\n        text-align: right;\n    }\n</style>\n<table border=\"1\" class=\"dataframe\">\n  <thead>\n    <tr style=\"text-align: right;\">\n      <th></th>\n      <th>initial_message</th>\n      <th>conversation</th>\n      <th>target_skill_ids</th>\n      <th>detected_skill_ids</th>\n    </tr>\n    <tr>\n      <th>conversation_id</th>\n      <th></th>\n      <th></th>\n      <th></th>\n      <th></th>\n    </tr>\n  </thead>\n  <tbody>\n    <tr>\n      <th>bc97e560-2f17-40c6-bbbc-cf1455e5536b</th>\n      <td>My grandmother passed away two days ago and ev...</td>\n      <td>Therapist: Hello! It's wonderful to have you h...</td>\n      <td>[M1]</td>\n      <td>[DT5]</td>\n    </tr>\n    <tr>\n      <th>817c2b6f-51bf-401c-8b06-cdf9f83b5948</th>\n      <td>I have a hard time falling asleep at night. I ...</td>\n      <td>Therapist: Hello there! I’m glad you’ve come t...</td>\n      <td>[M2]</td>\n      <td>[DT11]</td>\n    </tr>\n  </tbody>\n</table>\n</div>"
     },
     "execution_count": 12,
     "metadata": {},
     "output_type": "execute_result"
    }
   ],
   "source": [
    "skills_presence_df = skills_detected_df.join(\n",
    "    [prompts_df, convo_df],\n",
    ")[['initial_message', 'conversation', 'target_skill_ids', 'detected_skill_ids']]\n",
    "skills_presence_df"
   ],
   "metadata": {
    "collapsed": false
   }
  }
 ],
 "metadata": {
  "kernelspec": {
   "display_name": "Python 3 (ipykernel)",
   "language": "python",
   "name": "python3"
  },
  "language_info": {
   "codemirror_mode": {
    "name": "ipython",
    "version": 3
   },
   "file_extension": ".py",
   "mimetype": "text/x-python",
   "name": "python",
   "nbconvert_exporter": "python",
   "pygments_lexer": "ipython3",
   "version": "3.11.7"
  }
 },
 "nbformat": 4,
 "nbformat_minor": 5
}
