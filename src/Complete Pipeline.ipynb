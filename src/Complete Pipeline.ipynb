{
 "cells": [
  {
   "cell_type": "code",
   "execution_count": 1,
   "id": "e176d813-a3a0-4713-aa5f-90c2e79d494d",
   "metadata": {},
   "outputs": [],
   "source": [
    "# Imports\n",
    "import pandas as pd\n",
    "import pickle\n",
    "import os\n",
    "import logging\n",
    "from openai import AzureOpenAI\n",
    "import time\n",
    "import tiktoken\n",
    "from dotenv import load_dotenv\n",
    "from utils.openai_api import get_openai_response, get_openai_response_content\n",
    "import sys\n",
    "sys.path.append(os.path.join(sys.path[0], '..'))"
   ]
  },
  {
   "cell_type": "markdown",
   "id": "f05c6a3f-f118-4095-abcf-77b817c23c31",
   "metadata": {},
   "source": [
    "# Generate Conversations\n",
    "- Run generate_conversations.py in the command line"
   ]
  },
  {
   "cell_type": "code",
   "execution_count": 2,
   "id": "48298dbc-e7b5-4d80-a1c3-601aaa6d8fa9",
   "metadata": {},
   "outputs": [],
   "source": [
    "os.environ['OPENAI_API_KEY'] = '12858f5908ee4b17b986977b35d604dd'\n",
    "os.environ['MODEL_DEPLOYMENT'] = 'gpt4-1106'\n",
    "os.environ['OAI_ENDPOINT'] = 'dbt-openai-usea2-assistants'\n",
    "#logging.basicConfig(level=logging.DEBUG)"
   ]
  },
  {
   "cell_type": "code",
   "execution_count": 3,
   "id": "1ca197a4-7e5d-4830-9828-ee04313979c4",
   "metadata": {},
   "outputs": [],
   "source": [
    "#src/convo_generation/output/20240306_convos_full.pickle\n",
    "test = pd.read_pickle('./convo_generation/output/20240306_convos_full.pickle')\n",
    "for key, value in pd.read_pickle('./convo_generation/output/20240306_convos_full.pickle').items():\n",
    "    a = value['result']['eval_messages']"
   ]
  },
  {
   "cell_type": "code",
   "execution_count": 4,
   "id": "e6cb1992-2ef0-4449-862d-876a739a81b4",
   "metadata": {},
   "outputs": [],
   "source": [
    "conversation = test['bc97e560-2f17-40c6-bbbc-cf1455e5536b']['result']['eval_messages']"
   ]
  },
  {
   "cell_type": "code",
   "execution_count": 5,
   "id": "ac783e0d-e7ef-48bb-b09e-2f1b0deddd53",
   "metadata": {},
   "outputs": [],
   "source": [
    "convdf = pd.DataFrame.from_dict([{'conversation_id': 'bc97e560-2f17-40c6-bbbc-cf1455e5536b', 'conversation': conversation}])\n",
    "convdf.to_csv('test.csv', index=False)"
   ]
  },
  {
   "cell_type": "code",
   "execution_count": 6,
   "id": "40cfa650-343d-4684-967b-81f4a60dd1c7",
   "metadata": {},
   "outputs": [],
   "source": [
    "# Run Evals\n",
    "from evaluation.evaluation_pipeline import run_evaluations"
   ]
  },
  {
   "cell_type": "code",
   "execution_count": null,
   "id": "15e542d1-4d3a-4a01-88c6-5014b52cabcd",
   "metadata": {},
   "outputs": [
    {
     "name": "stderr",
     "output_type": "stream",
     "text": [
      "2024-03-26 18:15:06,188 - adherence_evaluation - INFO: Running iteration 0\n",
      "2024-03-26 18:15:06,191 - adherence_evaluation - INFO: Running criterion: Organize by Targets (1/23)\n",
      "2024-03-26 18:15:07,047 - adherence_evaluation - INFO: Running criterion: Emotion Focus (2/23)\n",
      "2024-03-26 18:15:14,103 - adherence_evaluation - INFO: Running criterion: Describe Specifically (3/23)\n",
      "2024-03-26 18:15:14,646 - adherence_evaluation - INFO: Running criterion: Chain Analysis (4/23)\n",
      "2024-03-26 18:15:16,107 - adherence_evaluation - INFO: Running criterion: Teach New Information (5/23)\n",
      "2024-03-26 18:15:21,598 - adherence_evaluation - INFO: Running criterion: Generate Solutions (6/23)\n"
     ]
    }
   ],
   "source": [
    "# Run Analysis\n",
    "run_evaluations('test.csv', 'adherence_result.json')"
   ]
  }
 ],
 "metadata": {
  "kernelspec": {
   "display_name": "Python 3 (ipykernel)",
   "language": "python",
   "name": "python3"
  },
  "language_info": {
   "codemirror_mode": {
    "name": "ipython",
    "version": 3
   },
   "file_extension": ".py",
   "mimetype": "text/x-python",
   "name": "python",
   "nbconvert_exporter": "python",
   "pygments_lexer": "ipython3",
   "version": "3.11.8"
  }
 },
 "nbformat": 4,
 "nbformat_minor": 5
}
