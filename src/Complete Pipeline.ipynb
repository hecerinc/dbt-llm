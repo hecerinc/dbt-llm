{
 "cells": [
  {
   "cell_type": "code",
   "execution_count": 8,
   "id": "e176d813-a3a0-4713-aa5f-90c2e79d494d",
   "metadata": {},
   "outputs": [
    {
     "ename": "SyntaxError",
     "evalue": "invalid syntax (evaluation.py, line 13)",
     "output_type": "error",
     "traceback": [
      "Traceback \u001b[0;36m(most recent call last)\u001b[0m:\n",
      "  File \u001b[1;32m\"/Users/robmueller/opt/anaconda3/lib/python3.8/site-packages/IPython/core/interactiveshell.py\"\u001b[0m, line \u001b[1;32m3437\u001b[0m, in \u001b[1;35mrun_code\u001b[0m\n    exec(code_obj, self.user_global_ns, self.user_ns)\n",
      "\u001b[0;36m  File \u001b[0;32m\"<ipython-input-8-bc0f9009d86c>\"\u001b[0;36m, line \u001b[0;32m10\u001b[0;36m, in \u001b[0;35m<module>\u001b[0;36m\u001b[0m\n\u001b[0;31m    from evaluation.evaluation import AdherenceEvaluation\u001b[0m\n",
      "\u001b[0;36m  File \u001b[0;32m\"/Users/robmueller/Desktop/Berkeley/W210 - Capstone/dbt-llm/src/evaluation/evaluation.py\"\u001b[0;36m, line \u001b[0;32m13\u001b[0m\n\u001b[0;31m    from dbt-llm.src.utils.openai_api import get_openai_response_content\u001b[0m\n\u001b[0m            ^\u001b[0m\n\u001b[0;31mSyntaxError\u001b[0m\u001b[0;31m:\u001b[0m invalid syntax\n"
     ]
    }
   ],
   "source": [
    "# Imports\n",
    "import pandas as pd\n",
    "import pickle\n",
    "import os\n",
    "import logging\n",
    "from openai import AzureOpenAI\n",
    "import time\n",
    "import tiktoken\n",
    "from dotenv import load_dotenv\n",
    "from evaluation.evaluation import AdherenceEvaluation\n",
    "from utils.openai_api import get_openai_response, get_openai_response_content"
   ]
  },
  {
   "cell_type": "code",
   "execution_count": null,
   "id": "1ca197a4-7e5d-4830-9828-ee04313979c4",
   "metadata": {},
   "outputs": [],
   "source": []
  }
 ],
 "metadata": {
  "kernelspec": {
   "display_name": "Python 3",
   "language": "python",
   "name": "python3"
  },
  "language_info": {
   "codemirror_mode": {
    "name": "ipython",
    "version": 3
   },
   "file_extension": ".py",
   "mimetype": "text/x-python",
   "name": "python",
   "nbconvert_exporter": "python",
   "pygments_lexer": "ipython3",
   "version": "3.8.5"
  }
 },
 "nbformat": 4,
 "nbformat_minor": 5
}
