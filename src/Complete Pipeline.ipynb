{
 "cells": [
  {
   "cell_type": "code",
   "execution_count": 3,
   "id": "e176d813-a3a0-4713-aa5f-90c2e79d494d",
   "metadata": {},
   "outputs": [],
   "source": [
    "# Imports\n",
    "import pandas as pd\n",
    "import pickle\n",
    "import os\n",
    "import logging\n",
    "from openai import AzureOpenAI\n",
    "import time\n",
    "import tiktoken\n",
    "from dotenv import load_dotenv\n",
    "from evaluation.evaluation import AdherenceEvaluation\n",
    "from utils.openai_api import get_openai_response, get_openai_response_content"
   ]
  },
  {
   "cell_type": "code",
   "execution_count": null,
   "id": "872163cb-fc4d-4bf2-a83d-620b4dd521f8",
   "metadata": {},
   "outputs": [],
   "source": [
    "# Generate Conversations\n",
    "- Run generate_conversations.py in the command line"
   ]
  },
  {
   "cell_type": "code",
   "execution_count": null,
   "id": "48298dbc-e7b5-4d80-a1c3-601aaa6d8fa9",
   "metadata": {},
   "outputs": [],
   "source": []
  },
  {
   "cell_type": "code",
   "execution_count": 6,
   "id": "1ca197a4-7e5d-4830-9828-ee04313979c4",
   "metadata": {},
   "outputs": [
    {
     "ename": "KeyError",
     "evalue": "'eval_messages'",
     "output_type": "error",
     "traceback": [
      "\u001b[0;31m---------------------------------------------------------------------------\u001b[0m",
      "\u001b[0;31mKeyError\u001b[0m                                  Traceback (most recent call last)",
      "\u001b[0;32m<ipython-input-6-0925841fc66e>\u001b[0m in \u001b[0;36m<module>\u001b[0;34m\u001b[0m\n\u001b[1;32m      1\u001b[0m \u001b[0;32mfor\u001b[0m \u001b[0mkey\u001b[0m\u001b[0;34m,\u001b[0m \u001b[0mvalue\u001b[0m \u001b[0;32min\u001b[0m \u001b[0mpd\u001b[0m\u001b[0;34m.\u001b[0m\u001b[0mread_pickle\u001b[0m\u001b[0;34m(\u001b[0m\u001b[0;34m'./convo_generation/output/result.pickle'\u001b[0m\u001b[0;34m)\u001b[0m\u001b[0;34m.\u001b[0m\u001b[0mitems\u001b[0m\u001b[0;34m(\u001b[0m\u001b[0;34m)\u001b[0m\u001b[0;34m:\u001b[0m\u001b[0;34m\u001b[0m\u001b[0;34m\u001b[0m\u001b[0m\n\u001b[0;32m----> 2\u001b[0;31m     \u001b[0ma\u001b[0m \u001b[0;34m=\u001b[0m \u001b[0mvalue\u001b[0m\u001b[0;34m[\u001b[0m\u001b[0;34m'result'\u001b[0m\u001b[0;34m]\u001b[0m\u001b[0;34m[\u001b[0m\u001b[0;34m'eval_messages'\u001b[0m\u001b[0;34m]\u001b[0m\u001b[0;34m\u001b[0m\u001b[0;34m\u001b[0m\u001b[0m\n\u001b[0m",
      "\u001b[0;31mKeyError\u001b[0m: 'eval_messages'"
     ]
    }
   ],
   "source": [
    "for key, value in pd.read_pickle('./convo_generation/output/result.pickle').items():\n",
    "    a = value['result']['eval_messages']"
   ]
  },
  {
   "cell_type": "code",
   "execution_count": null,
   "id": "40cfa650-343d-4684-967b-81f4a60dd1c7",
   "metadata": {},
   "outputs": [],
   "source": [
    "# Run Evals"
   ]
  },
  {
   "cell_type": "code",
   "execution_count": null,
   "id": "15e542d1-4d3a-4a01-88c6-5014b52cabcd",
   "metadata": {},
   "outputs": [],
   "source": [
    "# Run Analysis"
   ]
  }
 ],
 "metadata": {
  "kernelspec": {
   "display_name": "Python 3",
   "language": "python",
   "name": "python3"
  },
  "language_info": {
   "codemirror_mode": {
    "name": "ipython",
    "version": 3
   },
   "file_extension": ".py",
   "mimetype": "text/x-python",
   "name": "python",
   "nbconvert_exporter": "python",
   "pygments_lexer": "ipython3",
   "version": "3.8.5"
  }
 },
 "nbformat": 4,
 "nbformat_minor": 5
}
