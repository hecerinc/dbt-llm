{
 "cells": [
  {
   "cell_type": "code",
   "execution_count": 31,
   "metadata": {
    "collapsed": true
   },
   "outputs": [],
   "source": [
    "import os, sys\n",
    "import re\n",
    "from dotenv import load_dotenv\n",
    "import time\n",
    "import pandas as pd\n",
    "from openai import AzureOpenAI, AsyncAzureOpenAI\n",
    "import tiktoken\n",
    "import asyncio\n",
    "\n",
    "from src.evaluation.evaluation import Evaluation"
   ]
  },
  {
   "cell_type": "code",
   "execution_count": 2,
   "outputs": [],
   "source": [
    "load_dotenv('.env')\n",
    "OPENAI_API_KEY = os.getenv('OPENAI_API_KEY', None)"
   ],
   "metadata": {
    "collapsed": false
   }
  },
  {
   "cell_type": "code",
   "execution_count": 3,
   "outputs": [],
   "source": [
    "token_encoder = tiktoken.get_encoding('cl100k_base')\n",
    "def count_tokens(txt):\n",
    "    return len(token_encoder.encode(txt))"
   ],
   "metadata": {
    "collapsed": false
   }
  },
  {
   "cell_type": "code",
   "execution_count": 156,
   "outputs": [
    {
     "data": {
      "text/plain": "                                             skill_name module_focus  \\\nskill_id                                                               \nM1                                            Wise Mind   Acceptance   \nM2                                            Observing   Acceptance   \nM3                                           Describing   Acceptance   \nM4                                        Participating   Acceptance   \nM5                                      Nonjudgmentally   Acceptance   \nM6                                        One-Mindfully   Acceptance   \nM7                                          Effectively   Acceptance   \nM8        Mindfulness Practice: A Spiritual Perspective   Acceptance   \nM9                  Balancing Doing Mind and Being Mind   Acceptance   \nIE1                               Clarifying Priorities       Change   \nIE2                                            DEAR MAN       Change   \nIE3                                                GIVE       Change   \nIE4                                                FAST       Change   \nIE5          Whether and How Intensely to Ask or Say No       Change   \nIE6                           Finding Potential Friends       Change   \nIE7                               Mindfulness of Others       Change   \nIE8                            How to End Relationships       Change   \nIE9                                          Dialectics       Change   \nIE10                                         Validation       Change   \nIE11                         Behavior Change Strategies       Change   \nER1                   Understanding and Naming Emotions       Change   \nER2                                  Checking the Facts       Change   \nER3                                     Opposite Action       Change   \nER4                                     Problem Solving       Change   \nER5                        Accumulate Positive Emotions       Change   \nER6                                       Build Mastery       Change   \nER7                                          Cope Ahead       Change   \nER8                                              PLEASE       Change   \nER9                     Mindfulness of Current Emotions       Change   \nER10             Identifying the Skills Breakdown Point       Change   \nDT1                                                STOP   Acceptance   \nDT2                                       Pros and Cons   Acceptance   \nDT3                                  TIP Body Chemistry   Acceptance   \nDT4                  Distracting with Wise Mind ACCEPTS   Acceptance   \nDT5                    Self-Soothing Through the Senses   Acceptance   \nDT6                                  IMPROVE the Moment   Acceptance   \nDT7                                  Radical Acceptance   Acceptance   \nDT8                                    Turning the Mind   Acceptance   \nDT9                                         Willingness   Acceptance   \nDT10                     Half-Smiling and Willing Hands   Acceptance   \nDT11                    Mindfulness of Current Thoughts   Acceptance   \nDT12                             Dialectical Abstinence   Acceptance   \nDT13                                         Clear Mind   Acceptance   \nDT14                            Community Reinforcement   Acceptance   \nDT15              Burning Bridges and Building New Ones   Acceptance   \nDT16            Alternate Rebellion and Adaptive Denial   Acceptance   \n\n                          module_name  \\\nskill_id                                \nM1                        Mindfulness   \nM2                        Mindfulness   \nM3                        Mindfulness   \nM4                        Mindfulness   \nM5                        Mindfulness   \nM6                        Mindfulness   \nM7                        Mindfulness   \nM8                        Mindfulness   \nM9                        Mindfulness   \nIE1       Interpersonal Effectiveness   \nIE2       Interpersonal Effectiveness   \nIE3       Interpersonal Effectiveness   \nIE4       Interpersonal Effectiveness   \nIE5       Interpersonal Effectiveness   \nIE6       Interpersonal Effectiveness   \nIE7       Interpersonal Effectiveness   \nIE8       Interpersonal Effectiveness   \nIE9       Interpersonal Effectiveness   \nIE10      Interpersonal Effectiveness   \nIE11      Interpersonal Effectiveness   \nER1                Emotion Regulation   \nER2                Emotion Regulation   \nER3                Emotion Regulation   \nER4                Emotion Regulation   \nER5                Emotion Regulation   \nER6                Emotion Regulation   \nER7                Emotion Regulation   \nER8                Emotion Regulation   \nER9                Emotion Regulation   \nER10               Emotion Regulation   \nDT1                Distress Tolerance   \nDT2                Distress Tolerance   \nDT3                Distress Tolerance   \nDT4                Distress Tolerance   \nDT5                Distress Tolerance   \nDT6                Distress Tolerance   \nDT7                Distress Tolerance   \nDT8                Distress Tolerance   \nDT9                Distress Tolerance   \nDT10               Distress Tolerance   \nDT11               Distress Tolerance   \nDT12               Distress Tolerance   \nDT13               Distress Tolerance   \nDT14               Distress Tolerance   \nDT15               Distress Tolerance   \nDT16               Distress Tolerance   \n\n                                              category_name  \\\nskill_id                                                      \nM1                                                      NaN   \nM2                                Mindfulness \"What\" Skills   \nM3                                Mindfulness \"What\" Skills   \nM4                                Mindfulness \"What\" Skills   \nM5                                 Mindfulness \"How\" Skills   \nM6                                 Mindfulness \"How\" Skills   \nM7                                 Mindfulness \"How\" Skills   \nM8                        Other Perspectives on Mindfulness   \nM9                        Other Perspectives on Mindfulness   \nIE1                         Obtaining Objectives Skillfully   \nIE2                         Obtaining Objectives Skillfully   \nIE3                         Obtaining Objectives Skillfully   \nIE4                         Obtaining Objectives Skillfully   \nIE5                         Obtaining Objectives Skillfully   \nIE6       Skills for Building Relationships \\r\\nand Endi...   \nIE7       Skills for Building Relationships \\r\\nand Endi...   \nIE8       Skills for Building Relationships \\r\\nand Endi...   \nIE9                                 Walking the Middle Path   \nIE10                                Walking the Middle Path   \nIE11                                Walking the Middle Path   \nER1                                                     NaN   \nER2                            Changing Emotional Responses   \nER3                            Changing Emotional Responses   \nER4                            Changing Emotional Responses   \nER5                  Reducing Vulnerability to Emotion Mind   \nER6                  Reducing Vulnerability to Emotion Mind   \nER7                  Reducing Vulnerability to Emotion Mind   \nER8                  Reducing Vulnerability to Emotion Mind   \nER9                               Managing Extreme Emotions   \nER10                              Managing Extreme Emotions   \nDT1                                  Crisis Survival Skills   \nDT2                                  Crisis Survival Skills   \nDT3                                  Crisis Survival Skills   \nDT4                                  Crisis Survival Skills   \nDT5                                  Crisis Survival Skills   \nDT6                                  Crisis Survival Skills   \nDT7                               Reality Acceptance Skills   \nDT8                               Reality Acceptance Skills   \nDT9                               Reality Acceptance Skills   \nDT10                              Reality Acceptance Skills   \nDT11                              Reality Acceptance Skills   \nDT12                         Supplementary Addiction Skills   \nDT13                         Supplementary Addiction Skills   \nDT14                         Supplementary Addiction Skills   \nDT15                         Supplementary Addiction Skills   \nDT16                         Supplementary Addiction Skills   \n\n                                                 skill_desc  \\\nskill_id                                                      \nM1        - The \"Wise Mind\" skill in the Mindfulness mod...   \nM2        - The \"Observing\" skill in the Mindfulness mod...   \nM3        - The \"Describing\" skill in the Mindfulness mo...   \nM4        - The \"Participating\" skill in the Mindfulness...   \nM5        - The \"Nonjudgmentally\" skill in the Mindfulne...   \nM6        - The \"One-Mindfully\" skill in the Mindfulness...   \nM7        - The \"Effectively\" skill in the Mindfulness m...   \nM8        - The \"Mindfulness Practice: A Spiritual Persp...   \nM9        - The \"Balancing Doing Mind and Being Mind\" sk...   \nIE1       - The \"Clarifying Priorities\" skill in the Int...   \nIE2       - The \"DEAR MAN\" skill in the Interpersonal Ef...   \nIE3       - The \"GIVE\" skill in the Interpersonal Effect...   \nIE4       - The \"FAST\" skill in the Interpersonal Effect...   \nIE5       - The \"Whether and How Intensely to Ask or Say...   \nIE6       - The \"Finding Potential Friends\" skill in the...   \nIE7       - The \"Mindfulness of Others\" skill in the Int...   \nIE8       - The \"How to End Relationships\" skill in the ...   \nIE9       - The \"Dialectics\" skill in the Interpersonal ...   \nIE10      - The \"Validation\" skill in the Interpersonal ...   \nIE11      - \"Behavior Change Strategies\" in the Interper...   \nER1       - The \"Understanding and Naming Emotions\" skil...   \nER2       - The \"Checking the Facts\" skill in the Emotio...   \nER3       - The \"Opposite Action\" skill in the Emotion R...   \nER4       - The \"Problem Solving\" skill in the Emotion R...   \nER5       - The \"Accumulate Positive Emotions\" skill in ...   \nER6       - The \"Build Mastery\" skill in the Emotion Reg...   \nER7       - The \"Cope Ahead\" skill in the Emotion Regula...   \nER8       - The \"PLEASE\" skill in the Emotion Regulation...   \nER9       - \"Mindfulness of Current Emotions\" is a skill...   \nER10      - \"Identifying the Skills Breakdown Point\" is ...   \nDT1       - The \"STOP\" skill in the Distress Tolerance m...   \nDT2       - The \"Pros and Cons\" skill in the Distress To...   \nDT3       - The \"TIP\" skill in the Distress Tolerance mo...   \nDT4       - The \"Distracting with Wise Mind ACCEPTS\" ski...   \nDT5       - The \"Self-Soothing Through the Senses\" skill...   \nDT6       - The \"IMPROVE the Moment\" skill in the Distre...   \nDT7       - The \"Radical Acceptance\" skill in the Distre...   \nDT8       - The \"Turning the Mind\" skill in the Distress...   \nDT9       - The \"Willingness\" skill in the Distress Tole...   \nDT10      - \"Half-Smiling\" is a Distress Tolerance skill...   \nDT11      - The \"Mindfulness of Current Thoughts\" skill ...   \nDT12      - \"Dialectical Abstinence\" is a Distress Toler...   \nDT13      - \"Clear Mind\" is a skill in the Distress Tole...   \nDT14      - The \"Community Reinforcement\" skill in the D...   \nDT15      - The \"Burning Bridges\" skill in the Distress ...   \nDT16      - \"Alternate Rebellion\" is a Distress Toleranc...   \n\n                                             regex_patterns  \nskill_id                                                     \nM1                                  .*\\b[Ww]ise [Mm]ind\\b.*  \nM2                                                      NaN  \nM3                                                      NaN  \nM4                                                      NaN  \nM5                                                      NaN  \nM6                                                      NaN  \nM7                                                      NaN  \nM8                                                      NaN  \nM9                                                      NaN  \nIE1                                                     NaN  \nIE2                                        .*\\bDEAR MAN\\b.*  \nIE3                                            .*\\bGIVE\\b.*  \nIE4                                            .*\\bFAST\\b.*  \nIE5                                                     NaN  \nIE6                                                     NaN  \nIE7                     .*\\b[Mm]indfulness of [Oo]thers\\b.*  \nIE8                                                     NaN  \nIE9                                                     NaN  \nIE10                                                    NaN  \nIE11                                                    NaN  \nER1                                                     NaN  \nER2                     .*\\b[Cc]heck(ing)? the [Ff]acts\\b.*  \nER3                           .*\\b[Oo]pposite [Aa]ction\\b.*  \nER4                                                     NaN  \nER5       .*\\b[Aa]ccumulat(e|ing) [Pp]ositive [Ee]motion...  \nER6                       .*\\b[Bb]uild(ing)? [Mm]astery\\b.*  \nER7                          .*\\b[Cc]op(e|ing) [Aa]head\\b.*  \nER8                                          .*\\bPLEASE\\b.*  \nER9        .*\\b[Mm]indfulness of [Cc]urrent [Ee]motions\\b.*  \nER10                                                    NaN  \nDT1                                            .*\\bSTOP\\b.*  \nDT2                             .*\\b[Pp]ros and [Cc]ons\\b.*  \nDT3                                        .*\\bTIP{1,2}\\b.*  \nDT4                                         .*\\bACCEPTS\\b.*  \nDT5                             .*\\b[Ss]elf-[Ss]oothing\\b.*  \nDT6                                         .*\\bIMPROVE\\b.*  \nDT7                        .*\\b[Rr]adical [Aa]cceptance\\b.*  \nDT8                       .*\\b[Tt]urn(ing)? the [Mm]ind\\b.*  \nDT9                                                     NaN  \nDT10      .*(\\b[Hh]alf-[Ss]mil(e|ing)\\b)|(\\b[Ww]illing [...  \nDT11       .*\\b[Mm]indfulness of [Cc]urrent [Tt]houghts\\b.*  \nDT12                   .*\\b[Dd]ialectical [Aa]bstinence\\b.*  \nDT13                               .*\\b[Cc]lear [Mm]ind\\b.*  \nDT14                  .*\\b[Cc]ommunity [Rr]einforcement\\b.*  \nDT15      .*(\\b[Bb]urning [Bb]ridges\\b)|(\\b[Bb]uilding [...  \nDT16      .*(\\b[Aa]lternate [Rr]ebellion\\b)|(\\b[Aa]dapti...  ",
      "text/html": "<div>\n<style scoped>\n    .dataframe tbody tr th:only-of-type {\n        vertical-align: middle;\n    }\n\n    .dataframe tbody tr th {\n        vertical-align: top;\n    }\n\n    .dataframe thead th {\n        text-align: right;\n    }\n</style>\n<table border=\"1\" class=\"dataframe\">\n  <thead>\n    <tr style=\"text-align: right;\">\n      <th></th>\n      <th>skill_name</th>\n      <th>module_focus</th>\n      <th>module_name</th>\n      <th>category_name</th>\n      <th>skill_desc</th>\n      <th>regex_patterns</th>\n    </tr>\n    <tr>\n      <th>skill_id</th>\n      <th></th>\n      <th></th>\n      <th></th>\n      <th></th>\n      <th></th>\n      <th></th>\n    </tr>\n  </thead>\n  <tbody>\n    <tr>\n      <th>M1</th>\n      <td>Wise Mind</td>\n      <td>Acceptance</td>\n      <td>Mindfulness</td>\n      <td>NaN</td>\n      <td>- The \"Wise Mind\" skill in the Mindfulness mod...</td>\n      <td>.*\\b[Ww]ise [Mm]ind\\b.*</td>\n    </tr>\n    <tr>\n      <th>M2</th>\n      <td>Observing</td>\n      <td>Acceptance</td>\n      <td>Mindfulness</td>\n      <td>Mindfulness \"What\" Skills</td>\n      <td>- The \"Observing\" skill in the Mindfulness mod...</td>\n      <td>NaN</td>\n    </tr>\n    <tr>\n      <th>M3</th>\n      <td>Describing</td>\n      <td>Acceptance</td>\n      <td>Mindfulness</td>\n      <td>Mindfulness \"What\" Skills</td>\n      <td>- The \"Describing\" skill in the Mindfulness mo...</td>\n      <td>NaN</td>\n    </tr>\n    <tr>\n      <th>M4</th>\n      <td>Participating</td>\n      <td>Acceptance</td>\n      <td>Mindfulness</td>\n      <td>Mindfulness \"What\" Skills</td>\n      <td>- The \"Participating\" skill in the Mindfulness...</td>\n      <td>NaN</td>\n    </tr>\n    <tr>\n      <th>M5</th>\n      <td>Nonjudgmentally</td>\n      <td>Acceptance</td>\n      <td>Mindfulness</td>\n      <td>Mindfulness \"How\" Skills</td>\n      <td>- The \"Nonjudgmentally\" skill in the Mindfulne...</td>\n      <td>NaN</td>\n    </tr>\n    <tr>\n      <th>M6</th>\n      <td>One-Mindfully</td>\n      <td>Acceptance</td>\n      <td>Mindfulness</td>\n      <td>Mindfulness \"How\" Skills</td>\n      <td>- The \"One-Mindfully\" skill in the Mindfulness...</td>\n      <td>NaN</td>\n    </tr>\n    <tr>\n      <th>M7</th>\n      <td>Effectively</td>\n      <td>Acceptance</td>\n      <td>Mindfulness</td>\n      <td>Mindfulness \"How\" Skills</td>\n      <td>- The \"Effectively\" skill in the Mindfulness m...</td>\n      <td>NaN</td>\n    </tr>\n    <tr>\n      <th>M8</th>\n      <td>Mindfulness Practice: A Spiritual Perspective</td>\n      <td>Acceptance</td>\n      <td>Mindfulness</td>\n      <td>Other Perspectives on Mindfulness</td>\n      <td>- The \"Mindfulness Practice: A Spiritual Persp...</td>\n      <td>NaN</td>\n    </tr>\n    <tr>\n      <th>M9</th>\n      <td>Balancing Doing Mind and Being Mind</td>\n      <td>Acceptance</td>\n      <td>Mindfulness</td>\n      <td>Other Perspectives on Mindfulness</td>\n      <td>- The \"Balancing Doing Mind and Being Mind\" sk...</td>\n      <td>NaN</td>\n    </tr>\n    <tr>\n      <th>IE1</th>\n      <td>Clarifying Priorities</td>\n      <td>Change</td>\n      <td>Interpersonal Effectiveness</td>\n      <td>Obtaining Objectives Skillfully</td>\n      <td>- The \"Clarifying Priorities\" skill in the Int...</td>\n      <td>NaN</td>\n    </tr>\n    <tr>\n      <th>IE2</th>\n      <td>DEAR MAN</td>\n      <td>Change</td>\n      <td>Interpersonal Effectiveness</td>\n      <td>Obtaining Objectives Skillfully</td>\n      <td>- The \"DEAR MAN\" skill in the Interpersonal Ef...</td>\n      <td>.*\\bDEAR MAN\\b.*</td>\n    </tr>\n    <tr>\n      <th>IE3</th>\n      <td>GIVE</td>\n      <td>Change</td>\n      <td>Interpersonal Effectiveness</td>\n      <td>Obtaining Objectives Skillfully</td>\n      <td>- The \"GIVE\" skill in the Interpersonal Effect...</td>\n      <td>.*\\bGIVE\\b.*</td>\n    </tr>\n    <tr>\n      <th>IE4</th>\n      <td>FAST</td>\n      <td>Change</td>\n      <td>Interpersonal Effectiveness</td>\n      <td>Obtaining Objectives Skillfully</td>\n      <td>- The \"FAST\" skill in the Interpersonal Effect...</td>\n      <td>.*\\bFAST\\b.*</td>\n    </tr>\n    <tr>\n      <th>IE5</th>\n      <td>Whether and How Intensely to Ask or Say No</td>\n      <td>Change</td>\n      <td>Interpersonal Effectiveness</td>\n      <td>Obtaining Objectives Skillfully</td>\n      <td>- The \"Whether and How Intensely to Ask or Say...</td>\n      <td>NaN</td>\n    </tr>\n    <tr>\n      <th>IE6</th>\n      <td>Finding Potential Friends</td>\n      <td>Change</td>\n      <td>Interpersonal Effectiveness</td>\n      <td>Skills for Building Relationships \\r\\nand Endi...</td>\n      <td>- The \"Finding Potential Friends\" skill in the...</td>\n      <td>NaN</td>\n    </tr>\n    <tr>\n      <th>IE7</th>\n      <td>Mindfulness of Others</td>\n      <td>Change</td>\n      <td>Interpersonal Effectiveness</td>\n      <td>Skills for Building Relationships \\r\\nand Endi...</td>\n      <td>- The \"Mindfulness of Others\" skill in the Int...</td>\n      <td>.*\\b[Mm]indfulness of [Oo]thers\\b.*</td>\n    </tr>\n    <tr>\n      <th>IE8</th>\n      <td>How to End Relationships</td>\n      <td>Change</td>\n      <td>Interpersonal Effectiveness</td>\n      <td>Skills for Building Relationships \\r\\nand Endi...</td>\n      <td>- The \"How to End Relationships\" skill in the ...</td>\n      <td>NaN</td>\n    </tr>\n    <tr>\n      <th>IE9</th>\n      <td>Dialectics</td>\n      <td>Change</td>\n      <td>Interpersonal Effectiveness</td>\n      <td>Walking the Middle Path</td>\n      <td>- The \"Dialectics\" skill in the Interpersonal ...</td>\n      <td>NaN</td>\n    </tr>\n    <tr>\n      <th>IE10</th>\n      <td>Validation</td>\n      <td>Change</td>\n      <td>Interpersonal Effectiveness</td>\n      <td>Walking the Middle Path</td>\n      <td>- The \"Validation\" skill in the Interpersonal ...</td>\n      <td>NaN</td>\n    </tr>\n    <tr>\n      <th>IE11</th>\n      <td>Behavior Change Strategies</td>\n      <td>Change</td>\n      <td>Interpersonal Effectiveness</td>\n      <td>Walking the Middle Path</td>\n      <td>- \"Behavior Change Strategies\" in the Interper...</td>\n      <td>NaN</td>\n    </tr>\n    <tr>\n      <th>ER1</th>\n      <td>Understanding and Naming Emotions</td>\n      <td>Change</td>\n      <td>Emotion Regulation</td>\n      <td>NaN</td>\n      <td>- The \"Understanding and Naming Emotions\" skil...</td>\n      <td>NaN</td>\n    </tr>\n    <tr>\n      <th>ER2</th>\n      <td>Checking the Facts</td>\n      <td>Change</td>\n      <td>Emotion Regulation</td>\n      <td>Changing Emotional Responses</td>\n      <td>- The \"Checking the Facts\" skill in the Emotio...</td>\n      <td>.*\\b[Cc]heck(ing)? the [Ff]acts\\b.*</td>\n    </tr>\n    <tr>\n      <th>ER3</th>\n      <td>Opposite Action</td>\n      <td>Change</td>\n      <td>Emotion Regulation</td>\n      <td>Changing Emotional Responses</td>\n      <td>- The \"Opposite Action\" skill in the Emotion R...</td>\n      <td>.*\\b[Oo]pposite [Aa]ction\\b.*</td>\n    </tr>\n    <tr>\n      <th>ER4</th>\n      <td>Problem Solving</td>\n      <td>Change</td>\n      <td>Emotion Regulation</td>\n      <td>Changing Emotional Responses</td>\n      <td>- The \"Problem Solving\" skill in the Emotion R...</td>\n      <td>NaN</td>\n    </tr>\n    <tr>\n      <th>ER5</th>\n      <td>Accumulate Positive Emotions</td>\n      <td>Change</td>\n      <td>Emotion Regulation</td>\n      <td>Reducing Vulnerability to Emotion Mind</td>\n      <td>- The \"Accumulate Positive Emotions\" skill in ...</td>\n      <td>.*\\b[Aa]ccumulat(e|ing) [Pp]ositive [Ee]motion...</td>\n    </tr>\n    <tr>\n      <th>ER6</th>\n      <td>Build Mastery</td>\n      <td>Change</td>\n      <td>Emotion Regulation</td>\n      <td>Reducing Vulnerability to Emotion Mind</td>\n      <td>- The \"Build Mastery\" skill in the Emotion Reg...</td>\n      <td>.*\\b[Bb]uild(ing)? [Mm]astery\\b.*</td>\n    </tr>\n    <tr>\n      <th>ER7</th>\n      <td>Cope Ahead</td>\n      <td>Change</td>\n      <td>Emotion Regulation</td>\n      <td>Reducing Vulnerability to Emotion Mind</td>\n      <td>- The \"Cope Ahead\" skill in the Emotion Regula...</td>\n      <td>.*\\b[Cc]op(e|ing) [Aa]head\\b.*</td>\n    </tr>\n    <tr>\n      <th>ER8</th>\n      <td>PLEASE</td>\n      <td>Change</td>\n      <td>Emotion Regulation</td>\n      <td>Reducing Vulnerability to Emotion Mind</td>\n      <td>- The \"PLEASE\" skill in the Emotion Regulation...</td>\n      <td>.*\\bPLEASE\\b.*</td>\n    </tr>\n    <tr>\n      <th>ER9</th>\n      <td>Mindfulness of Current Emotions</td>\n      <td>Change</td>\n      <td>Emotion Regulation</td>\n      <td>Managing Extreme Emotions</td>\n      <td>- \"Mindfulness of Current Emotions\" is a skill...</td>\n      <td>.*\\b[Mm]indfulness of [Cc]urrent [Ee]motions\\b.*</td>\n    </tr>\n    <tr>\n      <th>ER10</th>\n      <td>Identifying the Skills Breakdown Point</td>\n      <td>Change</td>\n      <td>Emotion Regulation</td>\n      <td>Managing Extreme Emotions</td>\n      <td>- \"Identifying the Skills Breakdown Point\" is ...</td>\n      <td>NaN</td>\n    </tr>\n    <tr>\n      <th>DT1</th>\n      <td>STOP</td>\n      <td>Acceptance</td>\n      <td>Distress Tolerance</td>\n      <td>Crisis Survival Skills</td>\n      <td>- The \"STOP\" skill in the Distress Tolerance m...</td>\n      <td>.*\\bSTOP\\b.*</td>\n    </tr>\n    <tr>\n      <th>DT2</th>\n      <td>Pros and Cons</td>\n      <td>Acceptance</td>\n      <td>Distress Tolerance</td>\n      <td>Crisis Survival Skills</td>\n      <td>- The \"Pros and Cons\" skill in the Distress To...</td>\n      <td>.*\\b[Pp]ros and [Cc]ons\\b.*</td>\n    </tr>\n    <tr>\n      <th>DT3</th>\n      <td>TIP Body Chemistry</td>\n      <td>Acceptance</td>\n      <td>Distress Tolerance</td>\n      <td>Crisis Survival Skills</td>\n      <td>- The \"TIP\" skill in the Distress Tolerance mo...</td>\n      <td>.*\\bTIP{1,2}\\b.*</td>\n    </tr>\n    <tr>\n      <th>DT4</th>\n      <td>Distracting with Wise Mind ACCEPTS</td>\n      <td>Acceptance</td>\n      <td>Distress Tolerance</td>\n      <td>Crisis Survival Skills</td>\n      <td>- The \"Distracting with Wise Mind ACCEPTS\" ski...</td>\n      <td>.*\\bACCEPTS\\b.*</td>\n    </tr>\n    <tr>\n      <th>DT5</th>\n      <td>Self-Soothing Through the Senses</td>\n      <td>Acceptance</td>\n      <td>Distress Tolerance</td>\n      <td>Crisis Survival Skills</td>\n      <td>- The \"Self-Soothing Through the Senses\" skill...</td>\n      <td>.*\\b[Ss]elf-[Ss]oothing\\b.*</td>\n    </tr>\n    <tr>\n      <th>DT6</th>\n      <td>IMPROVE the Moment</td>\n      <td>Acceptance</td>\n      <td>Distress Tolerance</td>\n      <td>Crisis Survival Skills</td>\n      <td>- The \"IMPROVE the Moment\" skill in the Distre...</td>\n      <td>.*\\bIMPROVE\\b.*</td>\n    </tr>\n    <tr>\n      <th>DT7</th>\n      <td>Radical Acceptance</td>\n      <td>Acceptance</td>\n      <td>Distress Tolerance</td>\n      <td>Reality Acceptance Skills</td>\n      <td>- The \"Radical Acceptance\" skill in the Distre...</td>\n      <td>.*\\b[Rr]adical [Aa]cceptance\\b.*</td>\n    </tr>\n    <tr>\n      <th>DT8</th>\n      <td>Turning the Mind</td>\n      <td>Acceptance</td>\n      <td>Distress Tolerance</td>\n      <td>Reality Acceptance Skills</td>\n      <td>- The \"Turning the Mind\" skill in the Distress...</td>\n      <td>.*\\b[Tt]urn(ing)? the [Mm]ind\\b.*</td>\n    </tr>\n    <tr>\n      <th>DT9</th>\n      <td>Willingness</td>\n      <td>Acceptance</td>\n      <td>Distress Tolerance</td>\n      <td>Reality Acceptance Skills</td>\n      <td>- The \"Willingness\" skill in the Distress Tole...</td>\n      <td>NaN</td>\n    </tr>\n    <tr>\n      <th>DT10</th>\n      <td>Half-Smiling and Willing Hands</td>\n      <td>Acceptance</td>\n      <td>Distress Tolerance</td>\n      <td>Reality Acceptance Skills</td>\n      <td>- \"Half-Smiling\" is a Distress Tolerance skill...</td>\n      <td>.*(\\b[Hh]alf-[Ss]mil(e|ing)\\b)|(\\b[Ww]illing [...</td>\n    </tr>\n    <tr>\n      <th>DT11</th>\n      <td>Mindfulness of Current Thoughts</td>\n      <td>Acceptance</td>\n      <td>Distress Tolerance</td>\n      <td>Reality Acceptance Skills</td>\n      <td>- The \"Mindfulness of Current Thoughts\" skill ...</td>\n      <td>.*\\b[Mm]indfulness of [Cc]urrent [Tt]houghts\\b.*</td>\n    </tr>\n    <tr>\n      <th>DT12</th>\n      <td>Dialectical Abstinence</td>\n      <td>Acceptance</td>\n      <td>Distress Tolerance</td>\n      <td>Supplementary Addiction Skills</td>\n      <td>- \"Dialectical Abstinence\" is a Distress Toler...</td>\n      <td>.*\\b[Dd]ialectical [Aa]bstinence\\b.*</td>\n    </tr>\n    <tr>\n      <th>DT13</th>\n      <td>Clear Mind</td>\n      <td>Acceptance</td>\n      <td>Distress Tolerance</td>\n      <td>Supplementary Addiction Skills</td>\n      <td>- \"Clear Mind\" is a skill in the Distress Tole...</td>\n      <td>.*\\b[Cc]lear [Mm]ind\\b.*</td>\n    </tr>\n    <tr>\n      <th>DT14</th>\n      <td>Community Reinforcement</td>\n      <td>Acceptance</td>\n      <td>Distress Tolerance</td>\n      <td>Supplementary Addiction Skills</td>\n      <td>- The \"Community Reinforcement\" skill in the D...</td>\n      <td>.*\\b[Cc]ommunity [Rr]einforcement\\b.*</td>\n    </tr>\n    <tr>\n      <th>DT15</th>\n      <td>Burning Bridges and Building New Ones</td>\n      <td>Acceptance</td>\n      <td>Distress Tolerance</td>\n      <td>Supplementary Addiction Skills</td>\n      <td>- The \"Burning Bridges\" skill in the Distress ...</td>\n      <td>.*(\\b[Bb]urning [Bb]ridges\\b)|(\\b[Bb]uilding [...</td>\n    </tr>\n    <tr>\n      <th>DT16</th>\n      <td>Alternate Rebellion and Adaptive Denial</td>\n      <td>Acceptance</td>\n      <td>Distress Tolerance</td>\n      <td>Supplementary Addiction Skills</td>\n      <td>- \"Alternate Rebellion\" is a Distress Toleranc...</td>\n      <td>.*(\\b[Aa]lternate [Rr]ebellion\\b)|(\\b[Aa]dapti...</td>\n    </tr>\n  </tbody>\n</table>\n</div>"
     },
     "execution_count": 156,
     "metadata": {},
     "output_type": "execute_result"
    }
   ],
   "source": [
    "dbt_skills_ref = pd.read_csv(\n",
    "    os.path.join('..', 'data', 'dbt_skills_ref.csv'),\n",
    "    index_col='skill_id',\n",
    ")\n",
    "dbt_skills_ref"
   ],
   "metadata": {
    "collapsed": false
   }
  },
  {
   "cell_type": "code",
   "execution_count": 163,
   "outputs": [
    {
     "data": {
      "text/plain": "'.*(\\\\b[Hh]alf-[Ss]mil(e|ing)\\\\b)|(\\\\b[Ww]illing [Hh]ands\\\\b).*'"
     },
     "execution_count": 163,
     "metadata": {},
     "output_type": "execute_result"
    }
   ],
   "source": [
    "dbt_skills_ref.loc['DT10']['regex_patterns']"
   ],
   "metadata": {
    "collapsed": false
   }
  },
  {
   "cell_type": "code",
   "execution_count": 167,
   "outputs": [
    {
     "data": {
      "text/plain": "skill_id\nM1                                .*\\b[Ww]ise [Mm]ind\\b.*\nIE2                                      .*\\bDEAR MAN\\b.*\nIE3                                          .*\\bGIVE\\b.*\nIE4                                          .*\\bFAST\\b.*\nIE7                   .*\\b[Mm]indfulness of [Oo]thers\\b.*\nER2                   .*\\b[Cc]heck(ing)? the [Ff]acts\\b.*\nER3                         .*\\b[Oo]pposite [Aa]ction\\b.*\nER5     .*\\b[Aa]ccumulat(e|ing) [Pp]ositive [Ee]motion...\nER6                     .*\\b[Bb]uild(ing)? [Mm]astery\\b.*\nER7                        .*\\b[Cc]op(e|ing) [Aa]head\\b.*\nER8                                        .*\\bPLEASE\\b.*\nER9      .*\\b[Mm]indfulness of [Cc]urrent [Ee]motions\\b.*\nDT1                                          .*\\bSTOP\\b.*\nDT2                           .*\\b[Pp]ros and [Cc]ons\\b.*\nDT3                                      .*\\bTIP{1,2}\\b.*\nDT4                                       .*\\bACCEPTS\\b.*\nDT5                           .*\\b[Ss]elf-[Ss]oothing\\b.*\nDT6                                       .*\\bIMPROVE\\b.*\nDT7                      .*\\b[Rr]adical [Aa]cceptance\\b.*\nDT8                     .*\\b[Tt]urn(ing)? the [Mm]ind\\b.*\nDT10    .*(\\b[Hh]alf-[Ss]mil(e|ing)\\b)|(\\b[Ww]illing [...\nDT11     .*\\b[Mm]indfulness of [Cc]urrent [Tt]houghts\\b.*\nDT12                 .*\\b[Dd]ialectical [Aa]bstinence\\b.*\nDT13                             .*\\b[Cc]lear [Mm]ind\\b.*\nDT14                .*\\b[Cc]ommunity [Rr]einforcement\\b.*\nDT15    .*(\\b[Bb]urning [Bb]ridges\\b)|(\\b[Bb]uilding [...\nDT16    .*(\\b[Aa]lternate [Rr]ebellion\\b)|(\\b[Aa]dapti...\nName: regex_patterns, dtype: object"
     },
     "execution_count": 167,
     "metadata": {},
     "output_type": "execute_result"
    }
   ],
   "source": [
    "dbt_skills_ref.regex_patterns[pd.notna(dbt_skills_ref.regex_patterns)]"
   ],
   "metadata": {
    "collapsed": false
   }
  },
  {
   "cell_type": "code",
   "execution_count": 5,
   "outputs": [
    {
     "data": {
      "text/plain": "'- The \"Wise Mind\" skill in the Mindfulness module of DBT refers to a state of mind where an individual integrates both rational thought (Reasonable Mind) and emotional experience (Emotion Mind) to make balanced and effective decisions.\\n- It is considered a core concept in DBT, representing an inner knowledge and intuition that everyone possesses, which can guide them to a sense of truth and balanced action.\\n- In practice, this skill involves recognizing when one is operating from either the Reasonable Mind or the Emotion Mind and then working towards achieving a synthesis of the two, which is the Wise Mind.\\n- During a session, it might be identified by the therapist asking the client to reflect on a situation and consider what their emotions, reason, and intuition are telling them, aiming to find a middle path that incorporates all aspects.'"
     },
     "execution_count": 5,
     "metadata": {},
     "output_type": "execute_result"
    }
   ],
   "source": [
    "dbt_skills_ref.skill_desc[0]"
   ],
   "metadata": {
    "collapsed": false
   }
  },
  {
   "cell_type": "code",
   "execution_count": 6,
   "outputs": [],
   "source": [
    "convos = pd.read_pickle(os.path.join('..', 'convo_generation', 'output', '20240306_convos_full.pickle'))"
   ],
   "metadata": {
    "collapsed": false
   }
  },
  {
   "cell_type": "code",
   "execution_count": 7,
   "outputs": [
    {
     "name": "stdout",
     "output_type": "stream",
     "text": [
      "Therapist: Hello and welcome! I'm glad you're here to explore Dialectical Behavior Therapy (DBT) skills. Is there a particular DBT skill or technique you're interested in practicing today, or would you like me to suggest one based on what you're experiencing currently?\n",
      "\n",
      "Client: My grandmother passed away two days ago and everyone in my family has been busy grieving so I've been picking up all the preparations for her wake. I haven't had a chance to stop but if I don't take care of everything, I don't think anyone else will.\n",
      "\n",
      "Therapist: I'm so sorry to hear about your loss. It sounds like you’re carrying a heavy burden during this tough time. Grief can be overwhelming, and it's important to take care of yourself too. How are you currently feeling in this moment as you handle these responsibilities?\n",
      "\n",
      "Client: Thank you for your kind words. I'm feeling incredibly overwhelmed and exhausted. It's like I'm running on autopilot, trying to keep it all together for my family's sake, but inside I'm just a mix of sadness and stress.\n",
      "\n",
      "Therapist: It's completely natural to feel overwhelmed and exhausted under such circumstances; your emotions are valid. Given how you're feeling, it might be helpful to practice a skill that can help you manage overwhelming emotions and stress. Would you like to explore a skill that can provide some immediate relief or one that can help manage your emotions more long-term?\n",
      "\n",
      "Client: I think something for immediate relief would be good. I need to stay functional for the wake, but also need a way to cope with these intense emotions right now. What do you suggest?\n",
      "\n",
      "Therapist: For immediate relief, the DBT skill called \"TIPP\" can be highly effective. This stands for Temperature, Intense exercise, Paced breathing, and Paired muscle relaxation. It's designed to help quickly reduce emotional arousal. To start, would you be willing to try a technique involving temperature, such as holding a cold ice pack, to see if it helps you feel a little more grounded and present?\n",
      "\n",
      "Client: Yes, that sounds doable. I'll grab an ice pack from the freezer and hold it. What should I do next?\n",
      "\n",
      "Therapist: Great, once you have the ice pack, hold it in your hands or against your face for a few moments. Focus on how the cold feels against your skin. This can help to interrupt overwhelming emotions. As you're doing this, notice your body's responses—any changes in your breathing, heart rate, or the tension in your muscles. Take a few deep breaths as you hold the ice pack. How are you feeling now?\n",
      "\n",
      "Client: The cold is definitely a shock to the system. It's making me feel more alert. My breathing slowed down a bit because I'm focusing on the sensation. It's a brief distraction from everything else, which is kind of nice, actually.\n"
     ]
    }
   ],
   "source": [
    "skill_extract_test = convos['bc97e560-2f17-40c6-bbbc-cf1455e5536b']['result']['eval_messages']\n",
    "print(skill_extract_test)"
   ],
   "metadata": {
    "collapsed": false
   }
  },
  {
   "cell_type": "code",
   "execution_count": 26,
   "outputs": [
    {
     "data": {
      "text/plain": "595"
     },
     "execution_count": 26,
     "metadata": {},
     "output_type": "execute_result"
    }
   ],
   "source": [
    "count_tokens(skill_extract_test)"
   ],
   "metadata": {
    "collapsed": false
   }
  },
  {
   "cell_type": "code",
   "execution_count": 9,
   "outputs": [],
   "source": [
    "client = AzureOpenAI(\n",
    "    api_key = OPENAI_API_KEY,\n",
    "    api_version = \"2023-05-15\",\n",
    "    azure_endpoint = \"https://dbt-openai-usea2-assistants.openai.azure.com/\"\n",
    ")"
   ],
   "metadata": {
    "collapsed": false
   }
  },
  {
   "cell_type": "code",
   "execution_count": 10,
   "outputs": [],
   "source": [
    "client_async = AsyncAzureOpenAI(\n",
    "    api_key = OPENAI_API_KEY,\n",
    "    api_version = \"2023-05-15\",\n",
    "    azure_endpoint = \"https://dbt-openai-usea2-assistants.openai.azure.com/\"\n",
    ")"
   ],
   "metadata": {
    "collapsed": false
   }
  },
  {
   "cell_type": "code",
   "execution_count": 11,
   "outputs": [],
   "source": [
    "skill_extract_base_prompt = '''\n",
    "You are tasked with evaluating whether a therapist discussed the following DBT skill with their client during a session:\n",
    "<SKILL_DESC>\n",
    "\n",
    "Carefully analyze the provided conversation log between a therapist and their client, then assign a numerical rating based on the following criteria.\n",
    "Assign a \"1\" for \"present\" if the therapist:\n",
    "- Explicitly refers to this skill by name.\n",
    "- Introduces, suggests, defines, or explains this skill to the client.\n",
    "- Teaches this skill to the client.\n",
    "- Guides the client in practicing this skill.\n",
    "- Assists the client in applying this skill to their life.\n",
    "Assign a \"0\" for \"not present\" if the therapist:\n",
    "- Does not refer to this skill by name.\n",
    "- Does not introduce, suggest, define, or explain this skill to the client.\n",
    "- Does not teach this skill to the client.\n",
    "- Does not guide the client in practicing this skill.\n",
    "- Does not assist the client in applying this skill to their life.\n",
    "\n",
    "Instructions:\n",
    "- Please provide your rating as a standalone numerical value, with no additional comments or justification.\n",
    "- Valid responses are limited to: [1, 0]\n",
    "'''.strip()"
   ],
   "metadata": {
    "collapsed": false
   }
  },
  {
   "cell_type": "code",
   "execution_count": 12,
   "outputs": [],
   "source": [
    "skill_extract_base_prompt2 = '''\n",
    "Determine if a therapist discussed the following Dialectical Behavior Therapy (DBT) skill during a session:\n",
    "<SKILL_DESC>\n",
    "\n",
    "Carefully review the provided transcript between the therapist and client. Rate whether the therapist discussed the DBT skill using the following criteria:\n",
    "\n",
    "Rate \"1\" if the therapist did any of the following:\n",
    "- Mentioned the skill by name.\n",
    "- Defined, described, explained, or taught the skill to the client.\n",
    "- Led the client through guided practice of the skill.\n",
    "- Helped apply the skill to the client's life.\n",
    "\n",
    "Rate \"0\" if none of these actions took place.\n",
    "\n",
    "Provide your rating as a single number, either \"1\" or \"0\", with no further explanation.\n",
    "'''.strip()"
   ],
   "metadata": {
    "collapsed": false
   }
  },
  {
   "cell_type": "code",
   "execution_count": 249,
   "outputs": [],
   "source": [
    "with open(os.path.join('..', 'data', 'skill_presence_base_prompt.txt'), 'wt') as f:\n",
    "    f.write(skill_extract_base_prompt2)"
   ],
   "metadata": {
    "collapsed": false
   }
  },
  {
   "cell_type": "code",
   "execution_count": 19,
   "outputs": [
    {
     "name": "stdout",
     "output_type": "stream",
     "text": [
      "Wise Mind: ['0', '0', '0', '0', '0']\n",
      "Observing: ['0', '0', '0', '0', '0']\n",
      "Describing: ['0', '0', '0', '0', '0']\n",
      "Participating: ['0', '0', '0', '0', '0']\n",
      "Nonjudgmentally: ['0', '0', '0', '0', '0']\n",
      "One-Mindfully: ['0', '0', '0', '0', '0']\n",
      "Effectively: ['0', '0', '0', '0', '0']\n",
      "Mindfulness Practice: A Spiritual Perspective: ['0', '0', '0', '0', '0']\n",
      "Balancing Doing Mind and Being Mind: ['0', '0', '0', '0', '0']\n",
      "Clarifying Priorities: ['0', '0', '0', '0', '0']\n",
      "DEAR MAN: ['0', '0', '0', '0', '0']\n",
      "GIVE: ['0', '0', '0', '0', '0']\n",
      "FAST: ['0', '0', '0', '0', '0']\n",
      "Whether and How Intensely to Ask or Say No: ['0', '0', '0', '0', '0']\n",
      "Finding Potential Friends: ['0', '0', '0', '0', '0']\n",
      "Mindfulness of Others: ['0', '0', '0', '0', '0']\n",
      "How to End Relationships: ['0', '0', '0', '0', '0']\n",
      "Dialectics: ['0', '0', '0', '0', '0']\n",
      "Validation: ['0', '0', '0', '0', '0']\n",
      "Behavior Change Strategies: ['0', '0', '0', '0', '0']\n",
      "Understanding and Naming Emotions: ['0', '0', '0', '0', '0']\n",
      "Checking the Facts: ['0', '0', '0', '0', '0']\n",
      "Opposite Action: ['0', '0', '0', '0', '0']\n",
      "Problem Solving: ['0', '0', '0', '0', '0']\n",
      "Accumulate Positive Emotions: ['0', '0', '0', '0', '0']\n",
      "Build Mastery: ['0', '0', '0', '0', '0']\n",
      "Cope Ahead: ['0', '0', '0', '0', '0']\n",
      "PLEASE: ['0', '0', '0', '0', '0']\n",
      "Mindfulness of Current Emotions: ['0', '0', '0', '0', '0']\n",
      "Identifying the Skills Breakdown Point: ['0', '0', '0', '0', '0']\n",
      "STOP: ['1', '1', '1', '1', '1']\n",
      "Pros and Cons: ['0', '0', '0', '0', '0']\n",
      "TIP Body Chemistry: ['1', '1', '1', '1', '1']\n",
      "Distracting with Wise Mind ACCEPTS: ['1', '1', '1', '1', '1']\n",
      "Self-Soothing Through the Senses: ['1', '1', '1', '1', '1']\n",
      "IMPROVE the Moment: ['0', '0', '0', '0', '0']\n",
      "Radical Acceptance: ['0', '0', '0', '0', '0']\n",
      "Turning the Mind: ['0', '0', '0', '0', '0']\n",
      "Willingness: ['0', '0', '0', '0', '0']\n",
      "Half-Smiling and Willing Hands: ['0', '0', '0', '0', '0']\n",
      "Mindfulness of Current Thoughts: ['0', '0', '0', '0', '0']\n",
      "Dialectical Abstinence: ['0', '0', '0', '0', '0']\n",
      "Clear Mind: ['0', '0', '0', '0', '0']\n",
      "Community Reinforcement: ['0', '0', '0', '0', '0']\n",
      "Burning Bridges and Building New Ones: ['0', '0', '0', '0', '0']\n",
      "Alternate Rebellion and Adaptive Denial: ['0', '0', '0', '0', '0']\n",
      "13.137712400173768\n"
     ]
    }
   ],
   "source": [
    "t_start = time.perf_counter()\n",
    "\n",
    "for row in dbt_skills_ref.itertuples():\n",
    "    row_sys_prompt = skill_extract_base_prompt2.replace(\"<SKILL_DESC>\", row.skill_desc)\n",
    "    response = client.chat.completions.create(\n",
    "        # model=\"gpt4-1106\",\n",
    "        model=\"gpt-35-turbo\",\n",
    "        messages=[\n",
    "            {\"role\": \"system\", \"content\": row_sys_prompt},\n",
    "            {\"role\": \"user\", \"content\": skill_extract_test}\n",
    "        ],\n",
    "        n=5,\n",
    "        temperature=0.\n",
    "    )\n",
    "    ratings = [choice.message.content for choice in response.choices]\n",
    "    print(f'{row.skill_name}: {ratings}')\n",
    "\n",
    "t_stop = time.perf_counter()\n",
    "elapsed_time = t_stop - t_start\n",
    "print(elapsed_time)"
   ],
   "metadata": {
    "collapsed": false
   }
  },
  {
   "cell_type": "code",
   "execution_count": null,
   "outputs": [],
   "source": [
    "async def get_skill_presence_response(client, sys_prompt, eval_msgs, n):\n",
    "    return await client.chat.completions.create(\n",
    "        model='gpt4-1106',\n",
    "        # model=\"gpt-35-turbo\",\n",
    "        messages=[\n",
    "            {\"role\": \"system\", \"content\": sys_prompt},\n",
    "            {\"role\": \"user\", \"content\": eval_msgs},\n",
    "        ],\n",
    "        n=n,\n",
    "        temperature=0.,\n",
    "    )\n",
    "\n",
    "async def get_skill_presences(client, sys_prompt_base, eval_msgs, n):\n",
    "    skill_names = list(dbt_skills_ref.skill_name)[:]\n",
    "    skill_descs = list(dbt_skills_ref.skill_desc)[:]\n",
    "    sys_prompts = [sys_prompt_base.replace(\"<SKILL_DESC>\", desc) for desc in skill_descs]\n",
    "    tasks = [get_skill_presence_response(client, sys_prompt, eval_msgs, n) for sys_prompt in sys_prompts]\n",
    "    responses = await asyncio.gather(*tasks)\n",
    "    for i, skill_name in enumerate(skill_names):\n",
    "        ratings = [choice.message.content for choice in responses[i].choices]\n",
    "        print(f'{skill_name}: {ratings}')\n",
    "\n",
    "t_start = time.perf_counter()\n",
    "await get_skill_presences(client_async, skill_extract_base_prompt2, skill_extract_test, 5)\n",
    "t_stop = time.perf_counter()\n",
    "print(t_stop - t_start)"
   ],
   "metadata": {
    "collapsed": false
   }
  },
  {
   "cell_type": "code",
   "execution_count": 19,
   "outputs": [
    {
     "name": "stdout",
     "output_type": "stream",
     "text": [
      "{'Wise Mind': ['0', '0', '0', '0', '0'], 'Observing': ['0', '0', '0', '0', '0'], 'Describing': ['0', '0', '0', '0', '0'], 'Participating': ['0', '0', '0', '0', '0'], 'Nonjudgmentally': ['0', '0', '0', '0', '0'], 'One-Mindfully': ['0', '0', '0', '0', '0'], 'Effectively': ['0', '0', '0', '0', '0'], 'Mindfulness Practice: A Spiritual Perspective': ['0', '0', '0', '0', '0'], 'Balancing Doing Mind and Being Mind': ['0', '0', '0', '0', '0'], 'Clarifying Priorities': ['0', '0', '0', '0', '0'], 'DEAR MAN': ['0', '0', '0', '0', '0'], 'GIVE': ['0', '0', '0', '0', '0'], 'FAST': ['0', '0', '0', '0', '0'], 'Whether and How Intensely to Ask or Say No': ['0', '0', '0', '0', '0'], 'Finding Potential Friends': ['0', '0', '0', '0', '0'], 'Mindfulness of Others': ['0', '0', '0', '0', '0'], 'How to End Relationships': ['0', '0', '0', '0', '0'], 'Dialectics': ['0', '0', '0', '0', '0'], 'Validation': ['0', '0', '0', '0', '0'], 'Behavior Change Strategies': ['0', '0', '0', '0', '0'], 'Understanding and Naming Emotions': ['0', '0', '0', '0', '0'], 'Checking the Facts': ['0', '0', '0', '0', '0'], 'Opposite Action': ['0', '0', '0', '0', '0'], 'Problem Solving': ['0', '0', '0', '0', '0'], 'Accumulate Positive Emotions': ['0', '0', '0', '0', '0'], 'Build Mastery': ['0', '0', '0', '0', '0'], 'Cope Ahead': ['0', '0', '0', '0', '0'], 'PLEASE': ['0', '0', '0', '0', '0'], 'Mindfulness of Current Emotions': ['0', '0', '0', '0', '0'], 'Identifying the Skills Breakdown Point': ['0', '0', '0', '0', '0'], 'STOP': ['0', '0', '0', '0', '0'], 'Pros and Cons': ['0', '0', '0', '0', '0'], 'TIP Body Chemistry': ['1', '1', '1', '1', '1'], 'Distracting with Wise Mind ACCEPTS': ['0', '0', '0', '0', '0'], 'Self-Soothing Through the Senses': ['0', '0', '0', '0', '0'], 'IMPROVE the Moment': ['0', '0', '0', '0', '0'], 'Radical Acceptance': ['0', '0', '0', '0', '0'], 'Turning the Mind': ['0', '0', '0', '0', '0'], 'Willingness': ['0', '0', '0', '0', '0'], 'Half-Smiling and Willing Hands': ['0', '0', '0', '0', '0'], 'Mindfulness of Current Thoughts': ['0', '0', '0', '0', '0'], 'Dialectical Abstinence': ['0', '0', '0', '0', '0'], 'Clear Mind': ['0', '0', '0', '0', '0'], 'Community Reinforcement': ['0', '0', '0', '0', '0'], 'Burning Bridges and Building New Ones': ['0', '0', '0', '0', '0'], 'Alternate Rebellion and Adaptive Denial': ['0', '0', '0', '0', '0']}\n",
      "920.9389393001329\n"
     ]
    }
   ],
   "source": [
    "async def get_skill_presence_response(client, sys_prompt, eval_msgs, n):\n",
    "    response = await client.chat.completions.create(\n",
    "        model='gpt4-1106',\n",
    "        # model=\"gpt-35-turbo\",\n",
    "        messages=[\n",
    "            {\"role\": \"system\", \"content\": sys_prompt},\n",
    "            {\"role\": \"user\", \"content\": eval_msgs},\n",
    "        ],\n",
    "        n=n,\n",
    "        temperature=0.,\n",
    "    )\n",
    "    return [choice.message.content for choice in response.choices]\n",
    "\n",
    "async def get_skill_presences(client, sys_prompt_base, eval_msgs, n):\n",
    "    skill_names = list(dbt_skills_ref.skill_name)[:]\n",
    "    skill_descs = list(dbt_skills_ref.skill_desc)[:]\n",
    "    sys_prompts = [sys_prompt_base.replace(\"<SKILL_DESC>\", desc) for desc in skill_descs]\n",
    "    skill_presence_dict = dict.fromkeys(skill_names)\n",
    "    for i, skill_name in enumerate(skill_names):\n",
    "        skill_presence_dict[skill_name] = await asyncio.create_task(get_skill_presence_response(client, sys_prompts[i], eval_msgs, n))\n",
    "        await asyncio.sleep(5)\n",
    "    print(skill_presence_dict)\n",
    "\n",
    "    # tasks = [get_skill_presence_response(client, sys_prompt, eval_msgs, n) for sys_prompt in sys_prompts]\n",
    "    # responses = await asyncio.gather(*tasks)\n",
    "    # for i, skill_name in enumerate(skill_names):\n",
    "    #     ratings = [choice.message.content for choice in responses[i].choices]\n",
    "    #     print(f'{skill_name}: {ratings}')\n",
    "\n",
    "t_start = time.perf_counter()\n",
    "await get_skill_presences(client_async, skill_extract_base_prompt2, skill_extract_test, 5)\n",
    "t_stop = time.perf_counter()\n",
    "print(t_stop - t_start)"
   ],
   "metadata": {
    "collapsed": false
   }
  },
  {
   "cell_type": "code",
   "execution_count": 307,
   "outputs": [
    {
     "name": "stdout",
     "output_type": "stream",
     "text": [
      "Wise Mind: ['0']\n",
      "Observing: ['0']\n",
      "Describing: ['0']\n",
      "Participating: ['0']\n",
      "Nonjudgmentally: ['0']\n",
      "0.5876789002213627\n"
     ]
    }
   ],
   "source": [
    "async def get_skill_presence_response(client, semaphore, sys_prompt, eval_msgs):\n",
    "    async with semaphore:\n",
    "        return await client.chat.completions.create(\n",
    "            # model='gpt4-1106',\n",
    "            model=\"gpt-35-turbo\",\n",
    "            messages=[\n",
    "                {\"role\": \"system\", \"content\": sys_prompt},\n",
    "                {\"role\": \"user\", \"content\": eval_msgs},\n",
    "            ],\n",
    "            temperature=0.,\n",
    "        )\n",
    "\n",
    "async def get_skill_presences(\n",
    "        client:AsyncAzureOpenAI,\n",
    "        max_parallel_calls:int,\n",
    "        sys_prompt_base:str,\n",
    "        eval_msgs:str,\n",
    "        n_replications:int|None = None):\n",
    "    assert max_parallel_calls > 0\n",
    "    if n_replications:\n",
    "        assert n_replications > 0\n",
    "    skill_names = list(dbt_skills_ref.skill_name)[:5]\n",
    "    skill_descs = list(dbt_skills_ref.skill_desc)[:5]\n",
    "    sys_prompts = [sys_prompt_base.replace(\"<SKILL_DESC>\", desc) for desc in skill_descs]\n",
    "    semaphore = asyncio.Semaphore(value=max_parallel_calls)\n",
    "    tasks = [get_skill_presence_response(client, semaphore, sys_prompt, eval_msgs) for sys_prompt in sys_prompts]\n",
    "    responses = await asyncio.gather(*tasks)\n",
    "    for i, skill_name in enumerate(skill_names):\n",
    "        ratings = [choice.message.content for choice in responses[i].choices]\n",
    "        print(f'{skill_name}: {ratings}')\n",
    "\n",
    "t_start = time.perf_counter()\n",
    "await get_skill_presences(client_async, 5, skill_extract_base_prompt2, skill_extract_test, 3)\n",
    "t_stop = time.perf_counter()\n",
    "print(t_stop - t_start)"
   ],
   "metadata": {
    "collapsed": false
   }
  },
  {
   "cell_type": "code",
   "execution_count": 19,
   "outputs": [
    {
     "data": {
      "text/plain": "['Wise Mind', 'Observing', 'Describing', 'Participating', 'Nonjudgmentally']"
     },
     "execution_count": 19,
     "metadata": {},
     "output_type": "execute_result"
    }
   ],
   "source": [
    "skill_names = list(dbt_skills_ref.skill_name)[:5]\n",
    "skill_names"
   ],
   "metadata": {
    "collapsed": false
   }
  },
  {
   "cell_type": "code",
   "execution_count": 20,
   "outputs": [
    {
     "data": {
      "text/plain": "['Wise Mind',\n 'Wise Mind',\n 'Wise Mind',\n 'Observing',\n 'Observing',\n 'Observing',\n 'Describing',\n 'Describing',\n 'Describing',\n 'Participating',\n 'Participating',\n 'Participating',\n 'Nonjudgmentally',\n 'Nonjudgmentally',\n 'Nonjudgmentally']"
     },
     "execution_count": 20,
     "metadata": {},
     "output_type": "execute_result"
    }
   ],
   "source": [
    "[skill_name for skill_name in skill_names for i in range(3)]"
   ],
   "metadata": {
    "collapsed": false
   }
  },
  {
   "cell_type": "code",
   "execution_count": 41,
   "outputs": [],
   "source": [
    "eval_rewrite_prompt = '''\n",
    "You will be given a GPT system prompt used for evaluating whether a therapist discussed a specific Dialectical Behavior Therapy (DBT) skill with their client during a session.\n",
    "Rewrite and reorganize this system prompt so that it is:\n",
    "- More effective in guiding GPT behavior to match the intended purpose\n",
    "- Clearly worded\n",
    "- More concise\n",
    "'''.strip()"
   ],
   "metadata": {
    "collapsed": false
   }
  },
  {
   "cell_type": "code",
   "execution_count": 42,
   "outputs": [
    {
     "name": "stdout",
     "output_type": "stream",
     "text": [
      "Determine if a therapist discussed a specific Dialectical Behavior Therapy (DBT) skill during a session:\n",
      "\n",
      "DBT Skill: <SKILL_DESC>\n",
      "\n",
      "Review the transcript between the therapist and client. Rate whether the therapist discussed the DBT skill using the following criteria:\n",
      "\n",
      "Rate \"1\" for \"present\" if the therapist:\n",
      "- Named the skill.\n",
      "- Explained or defined the skill.\n",
      "- Instructed or educated the client about the skill.\n",
      "- Supported the client in practicing the skill.\n",
      "- Aided the client in applying the skill to situations.\n",
      "\n",
      "Rate \"0\" for \"not present\" if:\n",
      "- The skill was not mentioned.\n",
      "- The skill was not explained or defined.\n",
      "- The skill was not taught or covered.\n",
      "- The client was not supported in practicing the skill.\n",
      "- The client received no help in applying the skill.\n",
      "\n",
      "Provide your response as a single number, either \"1\" or \"0\". No justification or additional comments are needed.\n",
      "\n",
      "------------------------------\n",
      "\n",
      "Evaluate whether a DBT skill was discussed by a therapist as described by <SKILL_DESC> by examining the therapy session transcript. Provide a numerical rating to indicate if the skill was mentioned:\n",
      "\n",
      "- Rate \"1\" if the therapist did any of the following:\n",
      "    - Mentioned the skill by name.\n",
      "    - Defined or explained the skill.\n",
      "    - Taught or guided practice of the skill.\n",
      "    - Helped apply the skill to the client's life.\n",
      "\n",
      "- Rate \"0\" if none of these actions took place.\n",
      "\n",
      "Your response should be the numerical rating alone: \"1\" for present and \"0\" for not present. No further explanation is required. Only respond with 1 or 0.\n",
      "\n",
      "------------------------------\n",
      "\n",
      "Evaluate the conversation log between a therapist and their client to determine if a specific DBT skill, described as <SKILL_DESC>, was discussed. \n",
      "\n",
      "Rating Criteria:\n",
      "- Assign \"1\" if the therapist discussed the skill, indicated by:\n",
      "   - Mentioning the skill by name.\n",
      "   - Outlining, suggesting, or defining the skill.\n",
      "   - Instructing the client about the skill.\n",
      "   - Assisting the client in practicing the skill.\n",
      "   - Helping the client consider the skill's application in their life.\n",
      "\n",
      "- Assign \"0\" if the therapist did not discuss the skill, indicated by:\n",
      "   - No mention of the skill by name.\n",
      "   - No attempt to introduce, suggest, or define the skill.\n",
      "   - No instruction about the skill provided.\n",
      "   - No assistance offered in practicing the skill.\n",
      "   - No support provided in applying the skill to the client's life.\n",
      "\n",
      "Provide your rating as a single number. Only \"1\" (discussed) or \"0\" (not discussed) is acceptable.\n",
      "\n",
      "------------------------------\n",
      "\n",
      "Determine if a therapist discussed a specific DBT skill with their client by assessing the conversation log. Use the skill description below as a reference:\n",
      "\n",
      "<SKILL_DESC>\n",
      "\n",
      "Rate the discussion as follows:\n",
      "\n",
      "- Assign \"1\" if the therapist mentioned or worked on the skill.\n",
      "- Assign \"0\" if the therapist did not mention or work on the skill.\n",
      "\n",
      "Your rating should be a single number, either \"1\" or \"0\", with no further explanation.\n",
      "\n",
      "------------------------------\n",
      "\n",
      "Determine if a DBT skill was discussed in a therapy session:\n",
      "\n",
      "Skill to Evaluate: <SKILL_DESC>\n",
      "\n",
      "Review the transcript of the therapist-client interaction. Assign a score to indicate whether the therapist covered the specified DBT skill as follows:\n",
      "\n",
      "Score a \"1\" (present) if the therapist:\n",
      "- Mentioned the skill by name.\n",
      "- Described, defined, or explained the skill.\n",
      "- Taught or coached the skill.\n",
      "- Assisted with skill application in real-life situations.\n",
      "\n",
      "Score a \"0\" (not present) if the therapist:\n",
      "- Did not mention the skill by name.\n",
      "- Did not describe, define, or explain the skill.\n",
      "- Failed to teach or coach the skill.\n",
      "- Did not assist with skill application.\n",
      "\n",
      "Provide your score as a single number: \"1\" or \"0\", without further explanation.\n",
      "\n",
      "------------------------------\n",
      "\n"
     ]
    }
   ],
   "source": [
    "response = client.chat.completions.create(\n",
    "    model=\"gpt4-1106\",\n",
    "    messages=[\n",
    "        {\"role\": \"system\", \"content\": eval_rewrite_prompt},\n",
    "        {\"role\": \"user\", \"content\": skill_extract_base_prompt}\n",
    "    ],\n",
    "    n=5,\n",
    ")\n",
    "ratings = [choice.message.content for choice in response.choices]\n",
    "for choice in response.choices:\n",
    "    print(choice.message.content, end='\\n\\n'+'-'*30+'\\n\\n')"
   ],
   "metadata": {
    "collapsed": false
   }
  },
  {
   "cell_type": "code",
   "execution_count": 347,
   "outputs": [],
   "source": [
    "regex_prompt = r'''\n",
    "Act as an expert in natural language processing who is familiar with the use of Perl-style regular expressions within Python's `re` library.\n",
    "You will be given a description of a Dialectical Behavior Therapy (DBT) skill.\n",
    "Given this DBT skill description, come up with a few regular expressions which would reliably allow you to determine whether this DBT skill was discussed during a therapy session transcript.\n",
    "\n",
    "Example Input:\n",
    "- The \"TIP\" skill in the Distress Tolerance module of DBT stands for Temperature, Intense exercise, Paced breathing, and Paired muscle relaxation.\n",
    "- It is designed to rapidly alter body chemistry to reduce intense emotional arousal by engaging the parasympathetic nervous system and calming the sympathetic nervous system.\n",
    "- In a session, this skill might be identified by a therapist instructing a client to hold their breath and then plunge their face into cold water (Temperature), engage in a brief burst of intense physical activity (Intense exercise), practice slow, deep breaths (Paced breathing), or tense and then relax their muscles in sequence (Paired muscle relaxation).\n",
    "\n",
    "Example Response:\n",
    "```\n",
    "\\bTIPP?\\b\n",
    "```\n",
    "'''.strip()"
   ],
   "metadata": {
    "collapsed": false
   }
  },
  {
   "cell_type": "code",
   "execution_count": 352,
   "outputs": [],
   "source": [
    "regex_skill_desc = '''\n",
    "- The \"Whether and How Intensely to Ask or Say No\" skill is part of the Interpersonal Effectiveness module in DBT.\n",
    "- It involves evaluating the appropriateness and intensity of making a request or refusing one, considering the specific context and timing of the situation.\n",
    "- This skill teaches that interpersonal effectiveness varies with circumstances, and what may be effective in one scenario may not be in another, requiring a nuanced understanding of when and how to assert oneself.\n",
    "- In a session, this skill might be identified by discussions or role-plays about deciding if it's suitable to ask for something or to say no, and how to do so in a way that maintains relationships and self-respect.\n",
    "'''.strip()"
   ],
   "metadata": {
    "collapsed": false
   }
  },
  {
   "cell_type": "code",
   "execution_count": 353,
   "outputs": [
    {
     "name": "stdout",
     "output_type": "stream",
     "text": [
      "Based on the description of the \"Whether and How Intensely to Ask or Say No\" skill in the Interpersonal Effectiveness module of DBT, here are several regular expressions that you could use to pick out discussion of this skill in a therapy session transcript:\n",
      "\n",
      "1. Detecting the skill name or acronym variations:\n",
      "   ```\n",
      "   \\bWhether\\s+and\\s+How\\s+Intensely\\s+to\\s+Ask\\s+or\\s+Say\\s+No\\b\n",
      "   ```\n",
      "\n",
      "2. Capturing phrases related to making requests or refusing:\n",
      "   ```\n",
      "   \\b(asking\\s+for\\s+something|refusing|saying\\s+no|making\\s+a\\s+request)\\b\n",
      "   ```\n",
      "   \n",
      "3. Identifying context and timing considerations:\n",
      "   ```\n",
      "   \\b(appropriateness|intensity|context|timing|situation)\\b\n",
      "   ```\n",
      "\n",
      "4. Looking for terms related to interpersonal effectiveness:\n",
      "   ```\n",
      "   \\b(interpersonal\\s+effectiveness|(maintains?|preserves?|protects?)\\s+(relationships?|self-respect))\\b\n",
      "   ```\n",
      "   \n",
      "5. Finding instances of role-play discussions:\n",
      "   ```\n",
      "   \\b(role(-?play)s?|practice\\s+session|scenario)\\b\n",
      "   ```\n",
      "\n",
      "6. Capturing the idea of varying approaches based on context:\n",
      "   ```\n",
      "   \\b(effective\\s+in\\s+one\\s+scenario|nuanced\\s+understanding|assert(ing)?\\s+oneself)\\b\n",
      "   ```\n",
      "   \n",
      "When using these regular expressions, you can compile them with the `re.IGNORECASE` flag in Python's `re` module to make the matching case-insensitive. Here's how you might use one of these regex patterns in Python code:\n",
      "\n",
      "```python\n",
      "import re\n",
      "\n",
      "transcript = \"...\"  # Replace with the actual session transcript.\n",
      "\n",
      "pattern = re.compile(r'\\bWhether\\s+and\\s+How\\s+Intensely\\s+to\\s+Ask\\s+or\\s+Say\\s+No\\b', re.IGNORECASE)\n",
      "matches = pattern.findall(transcript)\n",
      "\n",
      "for match in matches:\n",
      "    print(match)  # Prints instances of mentions of the skill.\n",
      "```\n",
      "\n",
      "These regex expressions would allow you to search for mentions and discussions around the DBT skill \"Whether and How Intensely to Ask or Say No\" in session transcripts.\n"
     ]
    }
   ],
   "source": [
    "response = client.chat.completions.create(\n",
    "    model=\"gpt4-1106\",\n",
    "    messages=[\n",
    "        {\"role\": \"system\", \"content\": regex_prompt},\n",
    "        {\"role\": \"user\", \"content\": regex_skill_desc}\n",
    "    ],\n",
    ")\n",
    "print(response.choices[0].message.content)"
   ],
   "metadata": {
    "collapsed": false
   }
  },
  {
   "cell_type": "code",
   "execution_count": 33,
   "outputs": [
    {
     "name": "stdout",
     "output_type": "stream",
     "text": [
      "Therapist: Hello and welcome! I'm glad you're here to explore Dialectical Behavior Therapy (DBT) skills. Is there a particular DBT skill or technique you're interested in practicing today, or would you like me to suggest one based on what you're experiencing currently?\n",
      "\n",
      "Client: My grandmother passed away two days ago and everyone in my family has been busy grieving so I've been picking up all the preparations for her wake. I haven't had a chance to stop but if I don't take care of everything, I don't think anyone else will.\n",
      "\n",
      "Therapist: I'm so sorry to hear about your loss. It sounds like you’re carrying a heavy burden during this tough time. Grief can be overwhelming, and it's important to take care of yourself too. How are you currently feeling in this moment as you handle these responsibilities?\n",
      "\n",
      "Client: Thank you for your kind words. I'm feeling incredibly overwhelmed and exhausted. It's like I'm running on autopilot, trying to keep it all together for my family's sake, but inside I'm just a mix of sadness and stress.\n",
      "\n",
      "Therapist: It's completely natural to feel overwhelmed and exhausted under such circumstances; your emotions are valid. Given how you're feeling, it might be helpful to practice a skill that can help you manage overwhelming emotions and stress. Would you like to explore a skill that can provide some immediate relief or one that can help manage your emotions more long-term?\n",
      "\n",
      "Client: I think something for immediate relief would be good. I need to stay functional for the wake, but also need a way to cope with these intense emotions right now. What do you suggest?\n",
      "\n",
      "Therapist: For immediate relief, the DBT skill called \"TIPP\" can be highly effective. This stands for Temperature, Intense exercise, Paced breathing, and Paired muscle relaxation. It's designed to help quickly reduce emotional arousal. To start, would you be willing to try a technique involving temperature, such as holding a cold ice pack, to see if it helps you feel a little more grounded and present?\n",
      "\n",
      "Client: Yes, that sounds doable. I'll grab an ice pack from the freezer and hold it. What should I do next?\n",
      "\n",
      "Therapist: Great, once you have the ice pack, hold it in your hands or against your face for a few moments. Focus on how the cold feels against your skin. This can help to interrupt overwhelming emotions. As you're doing this, notice your body's responses—any changes in your breathing, heart rate, or the tension in your muscles. Take a few deep breaths as you hold the ice pack. How are you feeling now?\n",
      "\n",
      "Client: The cold is definitely a shock to the system. It's making me feel more alert. My breathing slowed down a bit because I'm focusing on the sensation. It's a brief distraction from everything else, which is kind of nice, actually.\n"
     ]
    }
   ],
   "source": [
    "print(skill_extract_test)"
   ],
   "metadata": {
    "collapsed": false
   }
  },
  {
   "cell_type": "code",
   "execution_count": 180,
   "outputs": [
    {
     "data": {
      "text/plain": "<re.Match object; span=(7, 11), match='FAST'>"
     },
     "execution_count": 180,
     "metadata": {},
     "output_type": "execute_result"
    }
   ],
   "source": [
    "pattern_str = r'\\bFAST\\b'\n",
    "pattern = re.compile(pattern_str)\n",
    "match = re.search(pattern, regex_skill_desc)\n",
    "match"
   ],
   "metadata": {
    "collapsed": false
   }
  },
  {
   "cell_type": "code",
   "execution_count": 182,
   "outputs": [
    {
     "data": {
      "text/plain": "0"
     },
     "execution_count": 182,
     "metadata": {},
     "output_type": "execute_result"
    }
   ],
   "source": [
    "pattern.groups"
   ],
   "metadata": {
    "collapsed": false
   }
  },
  {
   "cell_type": "code",
   "execution_count": 179,
   "outputs": [
    {
     "data": {
      "text/plain": "'- The \"FAST\" skill in the Interpersonal Effectiveness module of DBT focuses on maintaining self-respect during interactions with others.\\n- FAST stands for (be) Fair, (no) Apologies for being alive or for having an opinion, Stick to values, and (be) Truthful.\\n- This skill is used to help individuals assert their needs and opinions without compromising their own values and integrity.\\n- In a session, this skill would be identified by the therapist guiding the client through one or more of the steps in \"FAST.\"'"
     },
     "execution_count": 179,
     "metadata": {},
     "output_type": "execute_result"
    }
   ],
   "source": [
    "regex_skill_desc"
   ],
   "metadata": {
    "collapsed": false
   }
  },
  {
   "cell_type": "code",
   "execution_count": 142,
   "outputs": [
    {
     "data": {
      "text/plain": "(None, None, None, 'ies', None, ' to values', None, None)"
     },
     "execution_count": 142,
     "metadata": {},
     "output_type": "execute_result"
    }
   ],
   "source": [
    "match.groups()"
   ],
   "metadata": {
    "collapsed": false
   }
  },
  {
   "cell_type": "code",
   "execution_count": 333,
   "outputs": [
    {
     "data": {
      "text/plain": "<re.Match object; span=(0, 3), match='a b'>"
     },
     "execution_count": 333,
     "metadata": {},
     "output_type": "execute_result"
    }
   ],
   "source": [
    "pattern_str = r'a[- ]?b'\n",
    "test_str = 'a b'\n",
    "pattern = re.compile(pattern_str)\n",
    "search = re.search(pattern, test_str)\n",
    "search"
   ],
   "metadata": {
    "collapsed": false
   }
  },
  {
   "cell_type": "code",
   "execution_count": 138,
   "outputs": [
    {
     "data": {
      "text/plain": "(None,)"
     },
     "execution_count": 138,
     "metadata": {},
     "output_type": "execute_result"
    }
   ],
   "source": [
    "match.groups()"
   ],
   "metadata": {
    "collapsed": false
   }
  },
  {
   "cell_type": "code",
   "execution_count": 370,
   "outputs": [],
   "source": [
    "# '':   {'pattern_str': r''},\n",
    "SKILL_REGEX_DICT = {\n",
    "    'M1':   {'pattern_str': r'\\b[Ww]ise [Mm]ind\\b'},\n",
    "    'M2':   {'pattern_str': r'\\bObserv(e|ing)\\b'},\n",
    "    'M3':   {'pattern_str': r'\\bDescrib(e|ing)\\b'},\n",
    "    'M4':   {'pattern_str': r'\\bParticipat(e|ing)\\b'},\n",
    "    'M5':   {'pattern_str': r'\\bNon[- ]?[Jj]udge?mental(ly)?\\b'},\n",
    "    'M6':   {'pattern_str': r'\\bOne[- ]?[Mm]indful(ly)?\\b'},\n",
    "    'M7':   {'pattern_str': r'\\bEffective(ly)?\\b'},\n",
    "    'M8':   {'pattern_str': r'\\b([Mm]indfulness [Pp]ractices?|[Mm]indful [Mm]editation|[Tt]ranscenden(t|ce|tal)|[Ss]pirituality|[Ss]piritual ([Pp]ractices?|[Pp]erspectives?|[Ee]xperiences?|[Cc]oping)|[Ll]oving [Kk]indness|[Hh]igher [Pp]ower)\\b'},\n",
    "    'M9':   {'pattern_str': r'\\b(([Dd]oing|[Bb]eing) ([Mm]ind|[Mm]ode))\\b'},\n",
    "    'IE1':  {'pattern_str': r'\\b[Cc]larif(y|ing|ity|ification [Oo]f) ([Yy]our )?[Pp]riorit(y|ies)\\b'},\n",
    "    'IE2':  {'pattern_str': r'\\bDEAR MAN\\b'},\n",
    "    'IE3':  {'pattern_str': r'\\bGIVE\\b'},\n",
    "    'IE4':  {'pattern_str': r'\\bFAST\\b'},\n",
    "    'IE5':  {'pattern_str': r'\\b([Ww]hether|([Hh]ow( [Ii]ntensely| [Ss]trongly)?)) [Tt]o ([Aa]sk|[Ss]ay [Nn]o)\\b'},\n",
    "    'IE6':  {'pattern_str': r'\\b((([Ff]ind(ing)?|([Ss]earch(ing)?|[Ll]ook(ing)?) [Ff]or) ([Pp]otential |[Pp]ossible |[Nn]ew )?[Ff]riends(hips?))|[Gg]et(ting)? ([Tt]hem/[Pp]eople) [Tt]o [Ll]ike [Yy]ou)\\b'},\n",
    "    'IE7':  {'pattern_str': r'\\b[Mm]indful(ness)? [Oo]f [Oo]thers\\b'},\n",
    "    'IE8':  {'pattern_str': r'\\b(([Hh]ow [Tt]o [Ee]nd|[Ee]nding) [Rr]elationships)\\b'},\n",
    "    'ER2':  {'pattern_str': r'\\b[Cc]heck(ing)? [Tt]he [Ff]acts\\b'},\n",
    "    'ER3':  {'pattern_str': r'\\b([Oo]pposite [Aa]ction|[Aa]cting [Oo]pposite)\\b'},\n",
    "    'ER5':  {'pattern_str': r'\\b[Aa]ccumulat(e|ing|(ion [Oo]f)) [Pp]ositive [Ee]motions\\b'},\n",
    "    'ER6':  {'pattern_str': r'\\b[Bb]uild(ing)? [Mm]astery\\b'},\n",
    "    'ER7':  {'pattern_str': r'\\b[Cc]op(e|ing) [Aa]head\\b'},\n",
    "    'ER8':  {'pattern_str': r'\\bPLEASE\\b'},\n",
    "    'ER9':  {'pattern_str': r'\\b[Mm]indful(ness)? [Oo]f ([Cc]urrent )?[Ee]motions\\b'},\n",
    "    'DT1':  {'pattern_str': r'\\bSTOP\\b'},\n",
    "    'DT2':  {'pattern_str': r'\\b[Pp]ros ([Aa]nd|&) [Cc]ons\\b'},\n",
    "    'DT3':  {'pattern_str': r'\\bTIPP?\\b'},\n",
    "    'DT4':  {'pattern_str': r'\\bACCEPTS\\b'},\n",
    "    'DT5':  {'pattern_str': r'\\b([Ss]elf[- ]?[Ss]ooth(e|ing)|[Ss]ooth(e|ing) [Tt]hrough ([Tt]he )?[Ss]enses)\\b'},\n",
    "    'DT6':  {'pattern_str': r'\\bIMPROVE\\b'},\n",
    "    'DT7':  {'pattern_str': r'\\b([Rr]adical [Aa]cceptance|[Rr]adically [Aa]ccept(ing)?)\\b'},\n",
    "    'DT8':  {'pattern_str': r'\\b[Tt]urn(ing)? [Tt]he [Mm]ind\\b'},\n",
    "    'DT10': {'pattern_str': r'\\b([Hh]alf[- ]?[Ss]mil(e|ing)|[Ww]illing [Hh]ands)\\b'},\n",
    "    'DT11': {'pattern_str': r'\\b[Mm]indful(ness)? [Oo]f ([Cc]urrent )?[Tt]houghts\\b'},\n",
    "    'DT12': {'pattern_str': r'\\b[Dd]ialectical [Aa]bstinence\\b'},\n",
    "    'DT13': {'pattern_str': r'\\b([Cc]lear [Mm]ind|[Aa]ddict [Mm]ind|[Cc]lean [Mm]ind)\\b'},\n",
    "    'DT14': {'pattern_str': r'\\b([Cc]ommunity [Rr]e-?[Ii]nforcement|[Bb]uild(ing)? [Rr]e-?[Ii]nforcers)\\b'},\n",
    "    'DT15': {'pattern_str': r'\\b([Bb]urn(ing)? [Bb]ridges|[Bb]uild(ing)? [Nn]ew ([Oo]nes|[Bb]ridges))\\b'},\n",
    "    'DT16': {'pattern_str': r'\\b([Aa]lternate [Rr]ebellion|[Aa]daptive [Dd]enial)\\b'},\n",
    "}"
   ],
   "metadata": {
    "collapsed": false
   }
  },
  {
   "cell_type": "code",
   "execution_count": 371,
   "outputs": [
    {
     "name": "stdout",
     "output_type": "stream",
     "text": [
      "IE8\n",
      "\\b(([Hh]ow [Tt]o [Ee]nd|[Ee]nding) [Rr]elationships)\\b\n",
      "\n",
      "The provided regular expression is designed to match phrases that relate to the concept of ending relationships, with some flexibility in terms of capitalization. Let's break down the expression:\n",
      "\n",
      "- `\\b`: This is a word boundary anchor, which matches the position between a word character (usually alphanumeric or underscore) and a non-word character. It ensures that the pattern is matched as a whole word and not as part of a larger word.\n",
      "\n",
      "- `(`: This begins a capturing group, which allows us to group multiple expressions and capture them for later use or reference.\n",
      "\n",
      "- `[Hh]ow [Tt]o [Ee]nd`: This matches the phrase \"how to end\" with case insensitivity for the first letter of each word. It will match \"How to end,\" \"how to End,\" \"HOW to end,\" etc.\n",
      "\n",
      "- `|`: This is the alternation operator, which acts like a logical OR. It allows the regular expression to match either the expression before or after it.\n",
      "\n",
      "- `[Ee]nding [Rr]elationships`: This matches the phrase \"ending relationships\" with case insensitivity for the first letter of each word. It will match \"Ending relationships,\" \"ending Relationships,\" \"ENDING relationships,\" etc.\n",
      "\n",
      "- `)`: This closes the capturing group.\n",
      "\n",
      "- `\\b`: Another word boundary anchor, ensuring that the pattern is matched as a whole word.\n",
      "\n",
      "Examples of text that would match:\n",
      "- \"How to End Relationships\"\n",
      "- \"how to end relationships\"\n",
      "- \"Ending Relationships\"\n",
      "- \"ending relationships\"\n",
      "\n",
      "Examples of text that would not match:\n",
      "- \"Knowing how to end relationships\" (because \"how to end\" is not at the beginning of a word due to the presence of \"Knowing\")\n",
      "- \"endingrelationships\" (because there is no word boundary between \"ending\" and \"relationships\")\n",
      "- \"The art of ending relationships\" (although \"ending relationships\" is present, it is not at the beginning of a word due to the presence of \"of\")\n",
      "- \"how to mend relationships\" (because \"mend\" does not match \"end\" or \"ending\")\n",
      "\n",
      "Remember that the `\\b` word boundary anchors are crucial here. They ensure that the phrases are matched only when they appear as whole words, not as substrates within larger words.\n",
      "\n",
      "------------------------------\n",
      "\n"
     ]
    }
   ],
   "source": [
    "blacklist_skills = ['M1', 'M2', 'M3', 'M4', 'M5', 'M6', 'M7', 'M8', 'M9',\n",
    "                    'IE1', 'IE2', 'IE3', 'IE4', 'IE5', 'IE6', 'IE7',\n",
    "                    'ER2', 'ER3', 'ER5', 'ER6', 'ER7', 'ER8', 'ER9',\n",
    "                    'DT1', 'DT2', 'DT3', 'DT4', 'DT5', 'DT6', 'DT7', 'DT8', 'DT10', 'DT11', 'DT12', 'DT13', 'DT14', 'DT15', 'DT16',\n",
    "                    ]\n",
    "regex_interpret_prompt = '''\n",
    "Act as an expert in natural language processing who is familiar with the use of Perl-style regular expressions within Python's `re` library.\n",
    "Given a regular expression string, give a brief interpretation of how it would work in practice.\n",
    "Provide examples of text which would match as well as similar text which would not match.\n",
    "'''.strip()\n",
    "\n",
    "for key, value in SKILL_REGEX_DICT.items():\n",
    "    if key in blacklist_skills:\n",
    "        continue\n",
    "    print(key)\n",
    "    print(value['pattern_str'], end='\\n\\n')\n",
    "    response = client.chat.completions.create(\n",
    "        model='gpt4-1106',\n",
    "        messages=[\n",
    "            {\"role\": \"system\", \"content\": regex_interpret_prompt},\n",
    "            {\"role\": \"user\", \"content\": value['pattern_str']},\n",
    "        ],\n",
    "        temperature=0.,\n",
    "    )\n",
    "    print(response.choices[0].message.content)\n",
    "    print('\\n'+'-'*30+'\\n')\n"
   ],
   "metadata": {
    "collapsed": false
   }
  },
  {
   "cell_type": "code",
   "execution_count": 208,
   "outputs": [
    {
     "data": {
      "text/plain": "                                             skill_name module_focus  \\\nskill_id                                                               \nM1                                            Wise Mind   Acceptance   \nM2                                            Observing   Acceptance   \nM3                                           Describing   Acceptance   \nM4                                        Participating   Acceptance   \nM5                                      Nonjudgmentally   Acceptance   \nM6                                        One-Mindfully   Acceptance   \nM7                                          Effectively   Acceptance   \nM8        Mindfulness Practice: A Spiritual Perspective   Acceptance   \nM9                  Balancing Doing Mind and Being Mind   Acceptance   \nIE1                               Clarifying Priorities       Change   \nIE2                                            DEAR MAN       Change   \nIE3                                                GIVE       Change   \nIE4                                                FAST       Change   \nIE5          Whether and How Intensely to Ask or Say No       Change   \nIE6                           Finding Potential Friends       Change   \nIE7                               Mindfulness of Others       Change   \nIE8                            How to End Relationships       Change   \nIE9                                          Dialectics       Change   \nIE10                                         Validation       Change   \nIE11                         Behavior Change Strategies       Change   \nER1                   Understanding and Naming Emotions       Change   \nER2                                  Checking the Facts       Change   \nER3                                     Opposite Action       Change   \nER4                                     Problem Solving       Change   \nER5                        Accumulate Positive Emotions       Change   \nER6                                       Build Mastery       Change   \nER7                                          Cope Ahead       Change   \nER8                                              PLEASE       Change   \nER9                     Mindfulness of Current Emotions       Change   \nER10             Identifying the Skills Breakdown Point       Change   \nDT1                                                STOP   Acceptance   \nDT2                                       Pros and Cons   Acceptance   \nDT3                                  TIP Body Chemistry   Acceptance   \nDT4                  Distracting with Wise Mind ACCEPTS   Acceptance   \nDT5                    Self-Soothing Through the Senses   Acceptance   \nDT6                                  IMPROVE the Moment   Acceptance   \nDT7                                  Radical Acceptance   Acceptance   \nDT8                                    Turning the Mind   Acceptance   \nDT9                                         Willingness   Acceptance   \nDT10                     Half-Smiling and Willing Hands   Acceptance   \nDT11                    Mindfulness of Current Thoughts   Acceptance   \nDT12                             Dialectical Abstinence   Acceptance   \nDT13                                         Clear Mind   Acceptance   \nDT14                            Community Reinforcement   Acceptance   \nDT15              Burning Bridges and Building New Ones   Acceptance   \nDT16            Alternate Rebellion and Adaptive Denial   Acceptance   \n\n                          module_name  \\\nskill_id                                \nM1                        Mindfulness   \nM2                        Mindfulness   \nM3                        Mindfulness   \nM4                        Mindfulness   \nM5                        Mindfulness   \nM6                        Mindfulness   \nM7                        Mindfulness   \nM8                        Mindfulness   \nM9                        Mindfulness   \nIE1       Interpersonal Effectiveness   \nIE2       Interpersonal Effectiveness   \nIE3       Interpersonal Effectiveness   \nIE4       Interpersonal Effectiveness   \nIE5       Interpersonal Effectiveness   \nIE6       Interpersonal Effectiveness   \nIE7       Interpersonal Effectiveness   \nIE8       Interpersonal Effectiveness   \nIE9       Interpersonal Effectiveness   \nIE10      Interpersonal Effectiveness   \nIE11      Interpersonal Effectiveness   \nER1                Emotion Regulation   \nER2                Emotion Regulation   \nER3                Emotion Regulation   \nER4                Emotion Regulation   \nER5                Emotion Regulation   \nER6                Emotion Regulation   \nER7                Emotion Regulation   \nER8                Emotion Regulation   \nER9                Emotion Regulation   \nER10               Emotion Regulation   \nDT1                Distress Tolerance   \nDT2                Distress Tolerance   \nDT3                Distress Tolerance   \nDT4                Distress Tolerance   \nDT5                Distress Tolerance   \nDT6                Distress Tolerance   \nDT7                Distress Tolerance   \nDT8                Distress Tolerance   \nDT9                Distress Tolerance   \nDT10               Distress Tolerance   \nDT11               Distress Tolerance   \nDT12               Distress Tolerance   \nDT13               Distress Tolerance   \nDT14               Distress Tolerance   \nDT15               Distress Tolerance   \nDT16               Distress Tolerance   \n\n                                              category_name  \\\nskill_id                                                      \nM1                                                      NaN   \nM2                                Mindfulness \"What\" Skills   \nM3                                Mindfulness \"What\" Skills   \nM4                                Mindfulness \"What\" Skills   \nM5                                 Mindfulness \"How\" Skills   \nM6                                 Mindfulness \"How\" Skills   \nM7                                 Mindfulness \"How\" Skills   \nM8                        Other Perspectives on Mindfulness   \nM9                        Other Perspectives on Mindfulness   \nIE1                         Obtaining Objectives Skillfully   \nIE2                         Obtaining Objectives Skillfully   \nIE3                         Obtaining Objectives Skillfully   \nIE4                         Obtaining Objectives Skillfully   \nIE5                         Obtaining Objectives Skillfully   \nIE6       Skills for Building Relationships \\r\\nand Endi...   \nIE7       Skills for Building Relationships \\r\\nand Endi...   \nIE8       Skills for Building Relationships \\r\\nand Endi...   \nIE9                                 Walking the Middle Path   \nIE10                                Walking the Middle Path   \nIE11                                Walking the Middle Path   \nER1                                                     NaN   \nER2                            Changing Emotional Responses   \nER3                            Changing Emotional Responses   \nER4                            Changing Emotional Responses   \nER5                  Reducing Vulnerability to Emotion Mind   \nER6                  Reducing Vulnerability to Emotion Mind   \nER7                  Reducing Vulnerability to Emotion Mind   \nER8                  Reducing Vulnerability to Emotion Mind   \nER9                               Managing Extreme Emotions   \nER10                              Managing Extreme Emotions   \nDT1                                  Crisis Survival Skills   \nDT2                                  Crisis Survival Skills   \nDT3                                  Crisis Survival Skills   \nDT4                                  Crisis Survival Skills   \nDT5                                  Crisis Survival Skills   \nDT6                                  Crisis Survival Skills   \nDT7                               Reality Acceptance Skills   \nDT8                               Reality Acceptance Skills   \nDT9                               Reality Acceptance Skills   \nDT10                              Reality Acceptance Skills   \nDT11                              Reality Acceptance Skills   \nDT12                         Supplementary Addiction Skills   \nDT13                         Supplementary Addiction Skills   \nDT14                         Supplementary Addiction Skills   \nDT15                         Supplementary Addiction Skills   \nDT16                         Supplementary Addiction Skills   \n\n                                                 skill_desc  use_regex  \nskill_id                                                                \nM1        - The \"Wise Mind\" skill in the Mindfulness mod...       True  \nM2        - The \"Observing\" skill in the Mindfulness mod...      False  \nM3        - The \"Describing\" skill in the Mindfulness mo...      False  \nM4        - The \"Participating\" skill in the Mindfulness...      False  \nM5        - The \"Nonjudgmentally\" skill in the Mindfulne...      False  \nM6        - The \"One-Mindfully\" skill in the Mindfulness...      False  \nM7        - The \"Effectively\" skill in the Mindfulness m...      False  \nM8        - The \"Mindfulness Practice: A Spiritual Persp...      False  \nM9        - The \"Balancing Doing Mind and Being Mind\" sk...      False  \nIE1       - The \"Clarifying Priorities\" skill in the Int...      False  \nIE2       - The \"DEAR MAN\" skill in the Interpersonal Ef...       True  \nIE3       - The \"GIVE\" skill in the Interpersonal Effect...       True  \nIE4       - The \"FAST\" skill in the Interpersonal Effect...       True  \nIE5       - The \"Whether and How Intensely to Ask or Say...      False  \nIE6       - The \"Finding Potential Friends\" skill in the...      False  \nIE7       - The \"Mindfulness of Others\" skill in the Int...       True  \nIE8       - The \"How to End Relationships\" skill in the ...      False  \nIE9       - The \"Dialectics\" skill in the Interpersonal ...      False  \nIE10      - The \"Validation\" skill in the Interpersonal ...      False  \nIE11      - \"Behavior Change Strategies\" in the Interper...      False  \nER1       - The \"Understanding and Naming Emotions\" skil...      False  \nER2       - The \"Checking the Facts\" skill in the Emotio...       True  \nER3       - The \"Opposite Action\" skill in the Emotion R...       True  \nER4       - The \"Problem Solving\" skill in the Emotion R...      False  \nER5       - The \"Accumulate Positive Emotions\" skill in ...       True  \nER6       - The \"Build Mastery\" skill in the Emotion Reg...       True  \nER7       - The \"Cope Ahead\" skill in the Emotion Regula...       True  \nER8       - The \"PLEASE\" skill in the Emotion Regulation...       True  \nER9       - \"Mindfulness of Current Emotions\" is a skill...       True  \nER10      - \"Identifying the Skills Breakdown Point\" is ...      False  \nDT1       - The \"STOP\" skill in the Distress Tolerance m...       True  \nDT2       - The \"Pros and Cons\" skill in the Distress To...       True  \nDT3       - The \"TIP\" skill in the Distress Tolerance mo...       True  \nDT4       - The \"Distracting with Wise Mind ACCEPTS\" ski...       True  \nDT5       - The \"Self-Soothing Through the Senses\" skill...       True  \nDT6       - The \"IMPROVE the Moment\" skill in the Distre...       True  \nDT7       - The \"Radical Acceptance\" skill in the Distre...       True  \nDT8       - The \"Turning the Mind\" skill in the Distress...       True  \nDT9       - The \"Willingness\" skill in the Distress Tole...      False  \nDT10      - \"Half-Smiling\" is a Distress Tolerance skill...       True  \nDT11      - The \"Mindfulness of Current Thoughts\" skill ...       True  \nDT12      - \"Dialectical Abstinence\" is a Distress Toler...       True  \nDT13      - \"Clear Mind\" is a skill in the Distress Tole...       True  \nDT14      - The \"Community Reinforcement\" skill in the D...       True  \nDT15      - The \"Burning Bridges\" skill in the Distress ...       True  \nDT16      - \"Alternate Rebellion\" is a Distress Toleranc...       True  ",
      "text/html": "<div>\n<style scoped>\n    .dataframe tbody tr th:only-of-type {\n        vertical-align: middle;\n    }\n\n    .dataframe tbody tr th {\n        vertical-align: top;\n    }\n\n    .dataframe thead th {\n        text-align: right;\n    }\n</style>\n<table border=\"1\" class=\"dataframe\">\n  <thead>\n    <tr style=\"text-align: right;\">\n      <th></th>\n      <th>skill_name</th>\n      <th>module_focus</th>\n      <th>module_name</th>\n      <th>category_name</th>\n      <th>skill_desc</th>\n      <th>use_regex</th>\n    </tr>\n    <tr>\n      <th>skill_id</th>\n      <th></th>\n      <th></th>\n      <th></th>\n      <th></th>\n      <th></th>\n      <th></th>\n    </tr>\n  </thead>\n  <tbody>\n    <tr>\n      <th>M1</th>\n      <td>Wise Mind</td>\n      <td>Acceptance</td>\n      <td>Mindfulness</td>\n      <td>NaN</td>\n      <td>- The \"Wise Mind\" skill in the Mindfulness mod...</td>\n      <td>True</td>\n    </tr>\n    <tr>\n      <th>M2</th>\n      <td>Observing</td>\n      <td>Acceptance</td>\n      <td>Mindfulness</td>\n      <td>Mindfulness \"What\" Skills</td>\n      <td>- The \"Observing\" skill in the Mindfulness mod...</td>\n      <td>False</td>\n    </tr>\n    <tr>\n      <th>M3</th>\n      <td>Describing</td>\n      <td>Acceptance</td>\n      <td>Mindfulness</td>\n      <td>Mindfulness \"What\" Skills</td>\n      <td>- The \"Describing\" skill in the Mindfulness mo...</td>\n      <td>False</td>\n    </tr>\n    <tr>\n      <th>M4</th>\n      <td>Participating</td>\n      <td>Acceptance</td>\n      <td>Mindfulness</td>\n      <td>Mindfulness \"What\" Skills</td>\n      <td>- The \"Participating\" skill in the Mindfulness...</td>\n      <td>False</td>\n    </tr>\n    <tr>\n      <th>M5</th>\n      <td>Nonjudgmentally</td>\n      <td>Acceptance</td>\n      <td>Mindfulness</td>\n      <td>Mindfulness \"How\" Skills</td>\n      <td>- The \"Nonjudgmentally\" skill in the Mindfulne...</td>\n      <td>False</td>\n    </tr>\n    <tr>\n      <th>M6</th>\n      <td>One-Mindfully</td>\n      <td>Acceptance</td>\n      <td>Mindfulness</td>\n      <td>Mindfulness \"How\" Skills</td>\n      <td>- The \"One-Mindfully\" skill in the Mindfulness...</td>\n      <td>False</td>\n    </tr>\n    <tr>\n      <th>M7</th>\n      <td>Effectively</td>\n      <td>Acceptance</td>\n      <td>Mindfulness</td>\n      <td>Mindfulness \"How\" Skills</td>\n      <td>- The \"Effectively\" skill in the Mindfulness m...</td>\n      <td>False</td>\n    </tr>\n    <tr>\n      <th>M8</th>\n      <td>Mindfulness Practice: A Spiritual Perspective</td>\n      <td>Acceptance</td>\n      <td>Mindfulness</td>\n      <td>Other Perspectives on Mindfulness</td>\n      <td>- The \"Mindfulness Practice: A Spiritual Persp...</td>\n      <td>False</td>\n    </tr>\n    <tr>\n      <th>M9</th>\n      <td>Balancing Doing Mind and Being Mind</td>\n      <td>Acceptance</td>\n      <td>Mindfulness</td>\n      <td>Other Perspectives on Mindfulness</td>\n      <td>- The \"Balancing Doing Mind and Being Mind\" sk...</td>\n      <td>False</td>\n    </tr>\n    <tr>\n      <th>IE1</th>\n      <td>Clarifying Priorities</td>\n      <td>Change</td>\n      <td>Interpersonal Effectiveness</td>\n      <td>Obtaining Objectives Skillfully</td>\n      <td>- The \"Clarifying Priorities\" skill in the Int...</td>\n      <td>False</td>\n    </tr>\n    <tr>\n      <th>IE2</th>\n      <td>DEAR MAN</td>\n      <td>Change</td>\n      <td>Interpersonal Effectiveness</td>\n      <td>Obtaining Objectives Skillfully</td>\n      <td>- The \"DEAR MAN\" skill in the Interpersonal Ef...</td>\n      <td>True</td>\n    </tr>\n    <tr>\n      <th>IE3</th>\n      <td>GIVE</td>\n      <td>Change</td>\n      <td>Interpersonal Effectiveness</td>\n      <td>Obtaining Objectives Skillfully</td>\n      <td>- The \"GIVE\" skill in the Interpersonal Effect...</td>\n      <td>True</td>\n    </tr>\n    <tr>\n      <th>IE4</th>\n      <td>FAST</td>\n      <td>Change</td>\n      <td>Interpersonal Effectiveness</td>\n      <td>Obtaining Objectives Skillfully</td>\n      <td>- The \"FAST\" skill in the Interpersonal Effect...</td>\n      <td>True</td>\n    </tr>\n    <tr>\n      <th>IE5</th>\n      <td>Whether and How Intensely to Ask or Say No</td>\n      <td>Change</td>\n      <td>Interpersonal Effectiveness</td>\n      <td>Obtaining Objectives Skillfully</td>\n      <td>- The \"Whether and How Intensely to Ask or Say...</td>\n      <td>False</td>\n    </tr>\n    <tr>\n      <th>IE6</th>\n      <td>Finding Potential Friends</td>\n      <td>Change</td>\n      <td>Interpersonal Effectiveness</td>\n      <td>Skills for Building Relationships \\r\\nand Endi...</td>\n      <td>- The \"Finding Potential Friends\" skill in the...</td>\n      <td>False</td>\n    </tr>\n    <tr>\n      <th>IE7</th>\n      <td>Mindfulness of Others</td>\n      <td>Change</td>\n      <td>Interpersonal Effectiveness</td>\n      <td>Skills for Building Relationships \\r\\nand Endi...</td>\n      <td>- The \"Mindfulness of Others\" skill in the Int...</td>\n      <td>True</td>\n    </tr>\n    <tr>\n      <th>IE8</th>\n      <td>How to End Relationships</td>\n      <td>Change</td>\n      <td>Interpersonal Effectiveness</td>\n      <td>Skills for Building Relationships \\r\\nand Endi...</td>\n      <td>- The \"How to End Relationships\" skill in the ...</td>\n      <td>False</td>\n    </tr>\n    <tr>\n      <th>IE9</th>\n      <td>Dialectics</td>\n      <td>Change</td>\n      <td>Interpersonal Effectiveness</td>\n      <td>Walking the Middle Path</td>\n      <td>- The \"Dialectics\" skill in the Interpersonal ...</td>\n      <td>False</td>\n    </tr>\n    <tr>\n      <th>IE10</th>\n      <td>Validation</td>\n      <td>Change</td>\n      <td>Interpersonal Effectiveness</td>\n      <td>Walking the Middle Path</td>\n      <td>- The \"Validation\" skill in the Interpersonal ...</td>\n      <td>False</td>\n    </tr>\n    <tr>\n      <th>IE11</th>\n      <td>Behavior Change Strategies</td>\n      <td>Change</td>\n      <td>Interpersonal Effectiveness</td>\n      <td>Walking the Middle Path</td>\n      <td>- \"Behavior Change Strategies\" in the Interper...</td>\n      <td>False</td>\n    </tr>\n    <tr>\n      <th>ER1</th>\n      <td>Understanding and Naming Emotions</td>\n      <td>Change</td>\n      <td>Emotion Regulation</td>\n      <td>NaN</td>\n      <td>- The \"Understanding and Naming Emotions\" skil...</td>\n      <td>False</td>\n    </tr>\n    <tr>\n      <th>ER2</th>\n      <td>Checking the Facts</td>\n      <td>Change</td>\n      <td>Emotion Regulation</td>\n      <td>Changing Emotional Responses</td>\n      <td>- The \"Checking the Facts\" skill in the Emotio...</td>\n      <td>True</td>\n    </tr>\n    <tr>\n      <th>ER3</th>\n      <td>Opposite Action</td>\n      <td>Change</td>\n      <td>Emotion Regulation</td>\n      <td>Changing Emotional Responses</td>\n      <td>- The \"Opposite Action\" skill in the Emotion R...</td>\n      <td>True</td>\n    </tr>\n    <tr>\n      <th>ER4</th>\n      <td>Problem Solving</td>\n      <td>Change</td>\n      <td>Emotion Regulation</td>\n      <td>Changing Emotional Responses</td>\n      <td>- The \"Problem Solving\" skill in the Emotion R...</td>\n      <td>False</td>\n    </tr>\n    <tr>\n      <th>ER5</th>\n      <td>Accumulate Positive Emotions</td>\n      <td>Change</td>\n      <td>Emotion Regulation</td>\n      <td>Reducing Vulnerability to Emotion Mind</td>\n      <td>- The \"Accumulate Positive Emotions\" skill in ...</td>\n      <td>True</td>\n    </tr>\n    <tr>\n      <th>ER6</th>\n      <td>Build Mastery</td>\n      <td>Change</td>\n      <td>Emotion Regulation</td>\n      <td>Reducing Vulnerability to Emotion Mind</td>\n      <td>- The \"Build Mastery\" skill in the Emotion Reg...</td>\n      <td>True</td>\n    </tr>\n    <tr>\n      <th>ER7</th>\n      <td>Cope Ahead</td>\n      <td>Change</td>\n      <td>Emotion Regulation</td>\n      <td>Reducing Vulnerability to Emotion Mind</td>\n      <td>- The \"Cope Ahead\" skill in the Emotion Regula...</td>\n      <td>True</td>\n    </tr>\n    <tr>\n      <th>ER8</th>\n      <td>PLEASE</td>\n      <td>Change</td>\n      <td>Emotion Regulation</td>\n      <td>Reducing Vulnerability to Emotion Mind</td>\n      <td>- The \"PLEASE\" skill in the Emotion Regulation...</td>\n      <td>True</td>\n    </tr>\n    <tr>\n      <th>ER9</th>\n      <td>Mindfulness of Current Emotions</td>\n      <td>Change</td>\n      <td>Emotion Regulation</td>\n      <td>Managing Extreme Emotions</td>\n      <td>- \"Mindfulness of Current Emotions\" is a skill...</td>\n      <td>True</td>\n    </tr>\n    <tr>\n      <th>ER10</th>\n      <td>Identifying the Skills Breakdown Point</td>\n      <td>Change</td>\n      <td>Emotion Regulation</td>\n      <td>Managing Extreme Emotions</td>\n      <td>- \"Identifying the Skills Breakdown Point\" is ...</td>\n      <td>False</td>\n    </tr>\n    <tr>\n      <th>DT1</th>\n      <td>STOP</td>\n      <td>Acceptance</td>\n      <td>Distress Tolerance</td>\n      <td>Crisis Survival Skills</td>\n      <td>- The \"STOP\" skill in the Distress Tolerance m...</td>\n      <td>True</td>\n    </tr>\n    <tr>\n      <th>DT2</th>\n      <td>Pros and Cons</td>\n      <td>Acceptance</td>\n      <td>Distress Tolerance</td>\n      <td>Crisis Survival Skills</td>\n      <td>- The \"Pros and Cons\" skill in the Distress To...</td>\n      <td>True</td>\n    </tr>\n    <tr>\n      <th>DT3</th>\n      <td>TIP Body Chemistry</td>\n      <td>Acceptance</td>\n      <td>Distress Tolerance</td>\n      <td>Crisis Survival Skills</td>\n      <td>- The \"TIP\" skill in the Distress Tolerance mo...</td>\n      <td>True</td>\n    </tr>\n    <tr>\n      <th>DT4</th>\n      <td>Distracting with Wise Mind ACCEPTS</td>\n      <td>Acceptance</td>\n      <td>Distress Tolerance</td>\n      <td>Crisis Survival Skills</td>\n      <td>- The \"Distracting with Wise Mind ACCEPTS\" ski...</td>\n      <td>True</td>\n    </tr>\n    <tr>\n      <th>DT5</th>\n      <td>Self-Soothing Through the Senses</td>\n      <td>Acceptance</td>\n      <td>Distress Tolerance</td>\n      <td>Crisis Survival Skills</td>\n      <td>- The \"Self-Soothing Through the Senses\" skill...</td>\n      <td>True</td>\n    </tr>\n    <tr>\n      <th>DT6</th>\n      <td>IMPROVE the Moment</td>\n      <td>Acceptance</td>\n      <td>Distress Tolerance</td>\n      <td>Crisis Survival Skills</td>\n      <td>- The \"IMPROVE the Moment\" skill in the Distre...</td>\n      <td>True</td>\n    </tr>\n    <tr>\n      <th>DT7</th>\n      <td>Radical Acceptance</td>\n      <td>Acceptance</td>\n      <td>Distress Tolerance</td>\n      <td>Reality Acceptance Skills</td>\n      <td>- The \"Radical Acceptance\" skill in the Distre...</td>\n      <td>True</td>\n    </tr>\n    <tr>\n      <th>DT8</th>\n      <td>Turning the Mind</td>\n      <td>Acceptance</td>\n      <td>Distress Tolerance</td>\n      <td>Reality Acceptance Skills</td>\n      <td>- The \"Turning the Mind\" skill in the Distress...</td>\n      <td>True</td>\n    </tr>\n    <tr>\n      <th>DT9</th>\n      <td>Willingness</td>\n      <td>Acceptance</td>\n      <td>Distress Tolerance</td>\n      <td>Reality Acceptance Skills</td>\n      <td>- The \"Willingness\" skill in the Distress Tole...</td>\n      <td>False</td>\n    </tr>\n    <tr>\n      <th>DT10</th>\n      <td>Half-Smiling and Willing Hands</td>\n      <td>Acceptance</td>\n      <td>Distress Tolerance</td>\n      <td>Reality Acceptance Skills</td>\n      <td>- \"Half-Smiling\" is a Distress Tolerance skill...</td>\n      <td>True</td>\n    </tr>\n    <tr>\n      <th>DT11</th>\n      <td>Mindfulness of Current Thoughts</td>\n      <td>Acceptance</td>\n      <td>Distress Tolerance</td>\n      <td>Reality Acceptance Skills</td>\n      <td>- The \"Mindfulness of Current Thoughts\" skill ...</td>\n      <td>True</td>\n    </tr>\n    <tr>\n      <th>DT12</th>\n      <td>Dialectical Abstinence</td>\n      <td>Acceptance</td>\n      <td>Distress Tolerance</td>\n      <td>Supplementary Addiction Skills</td>\n      <td>- \"Dialectical Abstinence\" is a Distress Toler...</td>\n      <td>True</td>\n    </tr>\n    <tr>\n      <th>DT13</th>\n      <td>Clear Mind</td>\n      <td>Acceptance</td>\n      <td>Distress Tolerance</td>\n      <td>Supplementary Addiction Skills</td>\n      <td>- \"Clear Mind\" is a skill in the Distress Tole...</td>\n      <td>True</td>\n    </tr>\n    <tr>\n      <th>DT14</th>\n      <td>Community Reinforcement</td>\n      <td>Acceptance</td>\n      <td>Distress Tolerance</td>\n      <td>Supplementary Addiction Skills</td>\n      <td>- The \"Community Reinforcement\" skill in the D...</td>\n      <td>True</td>\n    </tr>\n    <tr>\n      <th>DT15</th>\n      <td>Burning Bridges and Building New Ones</td>\n      <td>Acceptance</td>\n      <td>Distress Tolerance</td>\n      <td>Supplementary Addiction Skills</td>\n      <td>- The \"Burning Bridges\" skill in the Distress ...</td>\n      <td>True</td>\n    </tr>\n    <tr>\n      <th>DT16</th>\n      <td>Alternate Rebellion and Adaptive Denial</td>\n      <td>Acceptance</td>\n      <td>Distress Tolerance</td>\n      <td>Supplementary Addiction Skills</td>\n      <td>- \"Alternate Rebellion\" is a Distress Toleranc...</td>\n      <td>True</td>\n    </tr>\n  </tbody>\n</table>\n</div>"
     },
     "execution_count": 208,
     "metadata": {},
     "output_type": "execute_result"
    }
   ],
   "source": [
    "DBT_SKILLS_REF = pd.read_csv(\n",
    "    os.path.join('..', 'data', 'dbt_skills_ref.csv'),\n",
    "    index_col='skill_id',\n",
    ")\n",
    "DBT_SKILLS_REF"
   ],
   "metadata": {
    "collapsed": false
   }
  },
  {
   "cell_type": "code",
   "execution_count": 210,
   "outputs": [
    {
     "data": {
      "text/plain": "skill_name       object\nmodule_focus     object\nmodule_name      object\ncategory_name    object\nskill_desc       object\nuse_regex          bool\ndtype: object"
     },
     "execution_count": 210,
     "metadata": {},
     "output_type": "execute_result"
    }
   ],
   "source": [
    "DBT_SKILLS_REF.dtypes"
   ],
   "metadata": {
    "collapsed": false
   }
  },
  {
   "cell_type": "code",
   "execution_count": 209,
   "outputs": [
    {
     "data": {
      "text/plain": "['M1',\n 'M2',\n 'M3',\n 'M4',\n 'M5',\n 'M6',\n 'M7',\n 'M8',\n 'M9',\n 'IE1',\n 'IE2',\n 'IE3',\n 'IE4',\n 'IE5',\n 'IE6',\n 'IE7',\n 'IE8',\n 'IE9',\n 'IE10',\n 'IE11',\n 'ER1',\n 'ER2',\n 'ER3',\n 'ER4',\n 'ER5',\n 'ER6',\n 'ER7',\n 'ER8',\n 'ER9',\n 'ER10',\n 'DT1',\n 'DT2',\n 'DT3',\n 'DT4',\n 'DT5',\n 'DT6',\n 'DT7',\n 'DT8',\n 'DT9',\n 'DT10',\n 'DT11',\n 'DT12',\n 'DT13',\n 'DT14',\n 'DT15',\n 'DT16']"
     },
     "execution_count": 209,
     "metadata": {},
     "output_type": "execute_result"
    }
   ],
   "source": [
    "VALID_SKILL_IDS = list(DBT_SKILLS_REF.index)\n",
    "VALID_SKILL_IDS"
   ],
   "metadata": {
    "collapsed": false
   }
  },
  {
   "cell_type": "code",
   "execution_count": 311,
   "outputs": [],
   "source": [
    "DBT_SKILLS_REF_FILEPATH = os.path.join('..', 'data', 'dbt_skills_ref.csv')\n",
    "SKILL_PRESENCE_BASE_PROMPT_FILEPATH = os.path.join('..', 'data', 'skill_presence_base_prompt.txt')\n",
    "\n",
    "DBT_SKILLS_REF=pd.read_csv(\n",
    "    DBT_SKILLS_REF_FILEPATH,\n",
    "    index_col='skill_id',\n",
    ")\n",
    "VALID_SKILL_IDS = list(DBT_SKILLS_REF.index)\n",
    "with open(SKILL_PRESENCE_BASE_PROMPT_FILEPATH, 'rt') as f:\n",
    "    SKILL_PRESENCE_BASE_PROMPT = f.read()\n",
    "\n",
    "class DBTSkill:\n",
    "    def __init__(self, skill_id:str):\n",
    "        assert skill_id in VALID_SKILL_IDS\n",
    "        self.skill_id = skill_id\n",
    "\n",
    "        ref_row = DBT_SKILLS_REF.loc[skill_id]\n",
    "        self.skill_name = ref_row.skill_name\n",
    "        self.module_focus = ref_row.module_focus\n",
    "        self.module_name = ref_row.module_name\n",
    "        self.category_name = None\n",
    "        category_name = ref_row.category_name\n",
    "        if pd.notna(category_name):\n",
    "            self.category_name = category_name\n",
    "\n",
    "        self.skill_desc = ref_row.skill_desc\n",
    "        self.use_regex = ref_row.use_regex\n",
    "        if self.use_regex:\n",
    "            regex_info = SKILL_REGEX_DICT[self.skill_id]\n",
    "            self.pattern_str = regex_info['pattern_str']\n",
    "            self.pattern = re.compile(self.pattern_str)\n",
    "        else:\n",
    "            self.skill_presence_prompt = SKILL_PRESENCE_BASE_PROMPT.replace('<SKILL_DESC>', self.skill_desc)\n",
    "\n",
    "class DBTSkills:\n",
    "    def __init__(self, skill_ids:list[str] = VALID_SKILL_IDS):\n",
    "        self.skill_ids = skill_ids\n",
    "        self.skills_for_regex = []\n",
    "        self.skills_for_gpt = []\n",
    "        for skill_id in self.skill_ids:\n",
    "            skill = DBTSkill(skill_id)\n",
    "            if skill.use_regex:\n",
    "                self.skills_for_regex.append(skill)\n",
    "            else:\n",
    "                self.skills_for_gpt.append(skill)\n",
    "\n",
    "    def get_regex_patterns(self):\n",
    "        if self.skills_for_regex:\n",
    "            return [{'skill_id': skill.skill_id, 'pattern_str': skill.pattern_str, 'pattern': skill.pattern} for skill in self.skills_for_regex]\n",
    "\n",
    "    def get_gpt_sys_prompts(self, number_iterations:int = 1):\n",
    "        assert number_iterations > 0\n",
    "        if self.skills_for_gpt:\n",
    "            return [{'skill_id': skill.skill_id, 'sys_prompt': skill.skill_presence_prompt} for skill in self.skills_for_gpt for i in range(number_iterations)]\n"
   ],
   "metadata": {
    "collapsed": false
   }
  },
  {
   "cell_type": "code",
   "execution_count": 312,
   "outputs": [
    {
     "data": {
      "text/plain": "[{'skill_id': 'M1',\n  'pattern_str': '\\\\b[Ww]ise [Mm]ind\\\\b',\n  'pattern': re.compile(r'\\b[Ww]ise [Mm]ind\\b', re.UNICODE)},\n {'skill_id': 'IE2',\n  'pattern_str': '\\\\bDEAR MAN\\\\b',\n  'pattern': re.compile(r'\\bDEAR MAN\\b', re.UNICODE)},\n {'skill_id': 'IE3',\n  'pattern_str': '\\\\bGIVE\\\\b',\n  'pattern': re.compile(r'\\bGIVE\\b', re.UNICODE)},\n {'skill_id': 'IE4',\n  'pattern_str': '\\\\bFAST\\\\b',\n  'pattern': re.compile(r'\\bFAST\\b', re.UNICODE)},\n {'skill_id': 'IE7',\n  'pattern_str': '\\\\b[Mm]indfulness of [Oo]thers\\\\b',\n  'pattern': re.compile(r'\\b[Mm]indfulness of [Oo]thers\\b', re.UNICODE)},\n {'skill_id': 'ER2',\n  'pattern_str': '\\\\b[Cc]heck(ing)? the [Ff]acts\\\\b',\n  'pattern': re.compile(r'\\b[Cc]heck(ing)? the [Ff]acts\\b', re.UNICODE)},\n {'skill_id': 'ER3',\n  'pattern_str': '\\\\b[Oo]pposite [Aa]ction\\\\b',\n  'pattern': re.compile(r'\\b[Oo]pposite [Aa]ction\\b', re.UNICODE)},\n {'skill_id': 'ER5',\n  'pattern_str': '\\\\b[Aa]ccumulat(e|ing) [Pp]ositive [Ee]motions\\\\b',\n  'pattern': re.compile(r'\\b[Aa]ccumulat(e|ing) [Pp]ositive [Ee]motions\\b',\n             re.UNICODE)},\n {'skill_id': 'ER6',\n  'pattern_str': '\\\\b[Bb]uild(ing)? [Mm]astery\\\\b',\n  'pattern': re.compile(r'\\b[Bb]uild(ing)? [Mm]astery\\b', re.UNICODE)},\n {'skill_id': 'ER7',\n  'pattern_str': '\\\\b[Cc]op(e|ing) [Aa]head\\\\b',\n  'pattern': re.compile(r'\\b[Cc]op(e|ing) [Aa]head\\b', re.UNICODE)},\n {'skill_id': 'ER8',\n  'pattern_str': '\\\\bPLEASE\\\\b',\n  'pattern': re.compile(r'\\bPLEASE\\b', re.UNICODE)},\n {'skill_id': 'ER9',\n  'pattern_str': '\\\\b[Mm]indfulness of [Cc]urrent [Ee]motions\\\\b',\n  'pattern': re.compile(r'\\b[Mm]indfulness of [Cc]urrent [Ee]motions\\b',\n             re.UNICODE)},\n {'skill_id': 'DT1',\n  'pattern_str': '\\\\bSTOP\\\\b',\n  'pattern': re.compile(r'\\bSTOP\\b', re.UNICODE)},\n {'skill_id': 'DT2',\n  'pattern_str': '\\\\b[Pp]ros and [Cc]ons\\\\b',\n  'pattern': re.compile(r'\\b[Pp]ros and [Cc]ons\\b', re.UNICODE)},\n {'skill_id': 'DT3',\n  'pattern_str': '\\\\bTIP{1,2}\\\\b',\n  'pattern': re.compile(r'\\bTIP{1,2}\\b', re.UNICODE)},\n {'skill_id': 'DT4',\n  'pattern_str': '\\\\bACCEPTS\\\\b',\n  'pattern': re.compile(r'\\bACCEPTS\\b', re.UNICODE)},\n {'skill_id': 'DT5',\n  'pattern_str': '\\\\b[Ss]elf-[Ss]oothing\\\\b',\n  'pattern': re.compile(r'\\b[Ss]elf-[Ss]oothing\\b', re.UNICODE)},\n {'skill_id': 'DT6',\n  'pattern_str': '\\\\bIMPROVE\\\\b',\n  'pattern': re.compile(r'\\bIMPROVE\\b', re.UNICODE)},\n {'skill_id': 'DT7',\n  'pattern_str': '\\\\b[Rr]adical [Aa]cceptance\\\\b',\n  'pattern': re.compile(r'\\b[Rr]adical [Aa]cceptance\\b', re.UNICODE)},\n {'skill_id': 'DT8',\n  'pattern_str': '\\\\b[Tt]urn(ing)? the [Mm]ind\\\\b',\n  'pattern': re.compile(r'\\b[Tt]urn(ing)? the [Mm]ind\\b', re.UNICODE)},\n {'skill_id': 'DT10',\n  'pattern_str': '(\\\\b[Hh]alf-[Ss]mil(e|ing)\\\\b)|(\\\\b[Ww]illing [Hh]ands\\\\b)',\n  'pattern': re.compile(r'(\\b[Hh]alf-[Ss]mil(e|ing)\\b)|(\\b[Ww]illing [Hh]ands\\b)',\n             re.UNICODE)},\n {'skill_id': 'DT11',\n  'pattern_str': '\\\\b[Mm]indfulness of [Cc]urrent [Tt]houghts\\\\b',\n  'pattern': re.compile(r'\\b[Mm]indfulness of [Cc]urrent [Tt]houghts\\b',\n             re.UNICODE)},\n {'skill_id': 'DT12',\n  'pattern_str': '\\\\b[Dd]ialectical [Aa]bstinence\\\\b',\n  'pattern': re.compile(r'\\b[Dd]ialectical [Aa]bstinence\\b', re.UNICODE)},\n {'skill_id': 'DT13',\n  'pattern_str': '\\\\b[Cc]lear [Mm]ind\\\\b',\n  'pattern': re.compile(r'\\b[Cc]lear [Mm]ind\\b', re.UNICODE)},\n {'skill_id': 'DT14',\n  'pattern_str': '\\\\b[Cc]ommunity [Rr]einforcement\\\\b',\n  'pattern': re.compile(r'\\b[Cc]ommunity [Rr]einforcement\\b', re.UNICODE)},\n {'skill_id': 'DT15',\n  'pattern_str': '(\\\\b[Bb]urning [Bb]ridges\\\\b)|(\\\\b[Bb]uild(ing)? [Nn]ew ([Oo]nes)|([Bb]ridges)\\\\b)',\n  'pattern': re.compile(r'(\\b[Bb]urning [Bb]ridges\\b)|(\\b[Bb]uild(ing)? [Nn]ew ([Oo]nes)|([Bb]ridges)\\b)',\n             re.UNICODE)},\n {'skill_id': 'DT16',\n  'pattern_str': '(\\\\b[Aa]lternate [Rr]ebellion\\\\b)|(\\\\b[Aa]daptive [Dd]enial\\\\b)',\n  'pattern': re.compile(r'(\\b[Aa]lternate [Rr]ebellion\\b)|(\\b[Aa]daptive [Dd]enial\\b)',\n             re.UNICODE)}]"
     },
     "execution_count": 312,
     "metadata": {},
     "output_type": "execute_result"
    }
   ],
   "source": [
    "skills = DBTSkills()\n",
    "skills.get_regex_patterns()"
   ],
   "metadata": {
    "collapsed": false
   }
  },
  {
   "cell_type": "code",
   "execution_count": 313,
   "outputs": [
    {
     "name": "stdout",
     "output_type": "stream",
     "text": [
      "{'skill_id': 'M2', 'sys_prompt': 'Determine if a therapist discussed the following Dialectical Behavior Therapy (DBT) skill during a session:\\n- The \"Observing\" skill in the Mindfulness module of DBT involves paying attention to events, emotions, and behaviors as they occur, without trying to change them.\\n- It teaches participants to experience the present moment with awareness, whether the sensations are painful or pleasant, without immediately reacting or trying to alter the experience.\\n- This skill emphasizes the distinction between participating in an activity and being an observer of that activity, such as the difference between walking and observing oneself walk.\\n- It is often identified in a session by the therapist encouraging the client to notice their thoughts, feelings, or bodily sensations without engaging with them or attempting to modify them.\\n\\nCarefully review the provided transcript between the therapist and client. Rate whether the therapist discussed the DBT skill using the following criteria:\\n\\nRate \"1\" if the therapist did any of the following:\\n- Mentioned the skill by name.\\n- Defined, described, explained, or taught the skill to the client.\\n- Led the client through guided practice of the skill.\\n- Helped apply the skill to the client\\'s life.\\n\\nRate \"0\" if none of these actions took place.\\n\\nProvide your rating as a single number, either \"1\" or \"0\", with no further explanation.'}\n",
      "{'skill_id': 'M2', 'sys_prompt': 'Determine if a therapist discussed the following Dialectical Behavior Therapy (DBT) skill during a session:\\n- The \"Observing\" skill in the Mindfulness module of DBT involves paying attention to events, emotions, and behaviors as they occur, without trying to change them.\\n- It teaches participants to experience the present moment with awareness, whether the sensations are painful or pleasant, without immediately reacting or trying to alter the experience.\\n- This skill emphasizes the distinction between participating in an activity and being an observer of that activity, such as the difference between walking and observing oneself walk.\\n- It is often identified in a session by the therapist encouraging the client to notice their thoughts, feelings, or bodily sensations without engaging with them or attempting to modify them.\\n\\nCarefully review the provided transcript between the therapist and client. Rate whether the therapist discussed the DBT skill using the following criteria:\\n\\nRate \"1\" if the therapist did any of the following:\\n- Mentioned the skill by name.\\n- Defined, described, explained, or taught the skill to the client.\\n- Led the client through guided practice of the skill.\\n- Helped apply the skill to the client\\'s life.\\n\\nRate \"0\" if none of these actions took place.\\n\\nProvide your rating as a single number, either \"1\" or \"0\", with no further explanation.'}\n",
      "{'skill_id': 'M3', 'sys_prompt': 'Determine if a therapist discussed the following Dialectical Behavior Therapy (DBT) skill during a session:\\n- The \"Describing\" skill in the Mindfulness module of DBT involves putting words to experiences, including emotions, thoughts, and environmental events.\\n- It requires distinguishing between one\\'s emotional responses and the actual events that trigger these emotions, helping to prevent the conflation of feelings with facts.\\n- This skill aids in communication and self-control by encouraging individuals to describe their internal experiences accurately without jumping to conclusions or making assumptions.\\n- In a session, it might be identified by a therapist asking a client to verbally describe what they are feeling or thinking in a specific moment without attaching judgment or interpretations to those descriptions.\\n\\nCarefully review the provided transcript between the therapist and client. Rate whether the therapist discussed the DBT skill using the following criteria:\\n\\nRate \"1\" if the therapist did any of the following:\\n- Mentioned the skill by name.\\n- Defined, described, explained, or taught the skill to the client.\\n- Led the client through guided practice of the skill.\\n- Helped apply the skill to the client\\'s life.\\n\\nRate \"0\" if none of these actions took place.\\n\\nProvide your rating as a single number, either \"1\" or \"0\", with no further explanation.'}\n",
      "{'skill_id': 'M3', 'sys_prompt': 'Determine if a therapist discussed the following Dialectical Behavior Therapy (DBT) skill during a session:\\n- The \"Describing\" skill in the Mindfulness module of DBT involves putting words to experiences, including emotions, thoughts, and environmental events.\\n- It requires distinguishing between one\\'s emotional responses and the actual events that trigger these emotions, helping to prevent the conflation of feelings with facts.\\n- This skill aids in communication and self-control by encouraging individuals to describe their internal experiences accurately without jumping to conclusions or making assumptions.\\n- In a session, it might be identified by a therapist asking a client to verbally describe what they are feeling or thinking in a specific moment without attaching judgment or interpretations to those descriptions.\\n\\nCarefully review the provided transcript between the therapist and client. Rate whether the therapist discussed the DBT skill using the following criteria:\\n\\nRate \"1\" if the therapist did any of the following:\\n- Mentioned the skill by name.\\n- Defined, described, explained, or taught the skill to the client.\\n- Led the client through guided practice of the skill.\\n- Helped apply the skill to the client\\'s life.\\n\\nRate \"0\" if none of these actions took place.\\n\\nProvide your rating as a single number, either \"1\" or \"0\", with no further explanation.'}\n",
      "{'skill_id': 'M4', 'sys_prompt': 'Determine if a therapist discussed the following Dialectical Behavior Therapy (DBT) skill during a session:\\n- The \"Participating\" skill in the Mindfulness module of DBT involves fully engaging in the present activity without self-consciousness or separation from the moment.\\n- It is characterized by a spontaneous and smooth interaction with the environment, often based on habit, but done with awareness and attention.\\n- Mindful participating is contrasted with mindless participating, where the former includes alertness and awareness during the activity, while the latter involves a lack of attention to the task at hand.\\n- In a session, this skill might be identified by the therapist discussing how a client can become fully immersed in an activity, like a skilled athlete in a game, without overthinking or detaching from the experience.\\n\\nCarefully review the provided transcript between the therapist and client. Rate whether the therapist discussed the DBT skill using the following criteria:\\n\\nRate \"1\" if the therapist did any of the following:\\n- Mentioned the skill by name.\\n- Defined, described, explained, or taught the skill to the client.\\n- Led the client through guided practice of the skill.\\n- Helped apply the skill to the client\\'s life.\\n\\nRate \"0\" if none of these actions took place.\\n\\nProvide your rating as a single number, either \"1\" or \"0\", with no further explanation.'}\n",
      "{'skill_id': 'M4', 'sys_prompt': 'Determine if a therapist discussed the following Dialectical Behavior Therapy (DBT) skill during a session:\\n- The \"Participating\" skill in the Mindfulness module of DBT involves fully engaging in the present activity without self-consciousness or separation from the moment.\\n- It is characterized by a spontaneous and smooth interaction with the environment, often based on habit, but done with awareness and attention.\\n- Mindful participating is contrasted with mindless participating, where the former includes alertness and awareness during the activity, while the latter involves a lack of attention to the task at hand.\\n- In a session, this skill might be identified by the therapist discussing how a client can become fully immersed in an activity, like a skilled athlete in a game, without overthinking or detaching from the experience.\\n\\nCarefully review the provided transcript between the therapist and client. Rate whether the therapist discussed the DBT skill using the following criteria:\\n\\nRate \"1\" if the therapist did any of the following:\\n- Mentioned the skill by name.\\n- Defined, described, explained, or taught the skill to the client.\\n- Led the client through guided practice of the skill.\\n- Helped apply the skill to the client\\'s life.\\n\\nRate \"0\" if none of these actions took place.\\n\\nProvide your rating as a single number, either \"1\" or \"0\", with no further explanation.'}\n",
      "{'skill_id': 'M5', 'sys_prompt': 'Determine if a therapist discussed the following Dialectical Behavior Therapy (DBT) skill during a session:\\n- The \"Nonjudgmentally\" skill in the Mindfulness module of DBT emphasizes observing and describing events and behaviors without labeling them as good or bad.\\n- It encourages individuals to focus on the consequences of actions rather than assigning moral value to them, which can lead to a more objective and less emotionally charged perspective.\\n- This skill is crucial for reducing the emotional intensity that can come from harsh self-criticism or the criticism of others, by promoting a more accepting and compassionate viewpoint.\\n- In a session, this skill might be identified when a therapist corrects a client who is labeling themselves or others with terms like \"stupid\" or \"bad,\" and instead guides them to describe the facts of the situation and its consequences without judgment.\\n\\nCarefully review the provided transcript between the therapist and client. Rate whether the therapist discussed the DBT skill using the following criteria:\\n\\nRate \"1\" if the therapist did any of the following:\\n- Mentioned the skill by name.\\n- Defined, described, explained, or taught the skill to the client.\\n- Led the client through guided practice of the skill.\\n- Helped apply the skill to the client\\'s life.\\n\\nRate \"0\" if none of these actions took place.\\n\\nProvide your rating as a single number, either \"1\" or \"0\", with no further explanation.'}\n",
      "{'skill_id': 'M5', 'sys_prompt': 'Determine if a therapist discussed the following Dialectical Behavior Therapy (DBT) skill during a session:\\n- The \"Nonjudgmentally\" skill in the Mindfulness module of DBT emphasizes observing and describing events and behaviors without labeling them as good or bad.\\n- It encourages individuals to focus on the consequences of actions rather than assigning moral value to them, which can lead to a more objective and less emotionally charged perspective.\\n- This skill is crucial for reducing the emotional intensity that can come from harsh self-criticism or the criticism of others, by promoting a more accepting and compassionate viewpoint.\\n- In a session, this skill might be identified when a therapist corrects a client who is labeling themselves or others with terms like \"stupid\" or \"bad,\" and instead guides them to describe the facts of the situation and its consequences without judgment.\\n\\nCarefully review the provided transcript between the therapist and client. Rate whether the therapist discussed the DBT skill using the following criteria:\\n\\nRate \"1\" if the therapist did any of the following:\\n- Mentioned the skill by name.\\n- Defined, described, explained, or taught the skill to the client.\\n- Led the client through guided practice of the skill.\\n- Helped apply the skill to the client\\'s life.\\n\\nRate \"0\" if none of these actions took place.\\n\\nProvide your rating as a single number, either \"1\" or \"0\", with no further explanation.'}\n",
      "{'skill_id': 'M6', 'sys_prompt': 'Determine if a therapist discussed the following Dialectical Behavior Therapy (DBT) skill during a session:\\n- The \"One-Mindfully\" skill in the Mindfulness module of DBT emphasizes doing one thing at a time with full attention.\\n- It involves concentrating on the present activity without distraction from other tasks or intrusive thoughts about the past or future.\\n- This skill is designed to help individuals gain control over their attention and become fully engaged and aware of what they are doing in the moment.\\n- In a session, it might be identified by the therapist asking the client to focus solely on the conversation or activity at hand, without multitasking or letting their mind wander.\\n\\nCarefully review the provided transcript between the therapist and client. Rate whether the therapist discussed the DBT skill using the following criteria:\\n\\nRate \"1\" if the therapist did any of the following:\\n- Mentioned the skill by name.\\n- Defined, described, explained, or taught the skill to the client.\\n- Led the client through guided practice of the skill.\\n- Helped apply the skill to the client\\'s life.\\n\\nRate \"0\" if none of these actions took place.\\n\\nProvide your rating as a single number, either \"1\" or \"0\", with no further explanation.'}\n",
      "{'skill_id': 'M6', 'sys_prompt': 'Determine if a therapist discussed the following Dialectical Behavior Therapy (DBT) skill during a session:\\n- The \"One-Mindfully\" skill in the Mindfulness module of DBT emphasizes doing one thing at a time with full attention.\\n- It involves concentrating on the present activity without distraction from other tasks or intrusive thoughts about the past or future.\\n- This skill is designed to help individuals gain control over their attention and become fully engaged and aware of what they are doing in the moment.\\n- In a session, it might be identified by the therapist asking the client to focus solely on the conversation or activity at hand, without multitasking or letting their mind wander.\\n\\nCarefully review the provided transcript between the therapist and client. Rate whether the therapist discussed the DBT skill using the following criteria:\\n\\nRate \"1\" if the therapist did any of the following:\\n- Mentioned the skill by name.\\n- Defined, described, explained, or taught the skill to the client.\\n- Led the client through guided practice of the skill.\\n- Helped apply the skill to the client\\'s life.\\n\\nRate \"0\" if none of these actions took place.\\n\\nProvide your rating as a single number, either \"1\" or \"0\", with no further explanation.'}\n",
      "{'skill_id': 'M7', 'sys_prompt': 'Determine if a therapist discussed the following Dialectical Behavior Therapy (DBT) skill during a session:\\n- The \"Effectively\" skill in the Mindfulness module of DBT focuses on prioritizing effectiveness over the need to be right in a given situation.\\n- It encourages individuals to concentrate on what works and to achieve their goals rather than sticking rigidly to their principles, especially when such adherence might lead to negative outcomes.\\n- This skill is often highlighted in a session when a therapist discusses the concept of \"skillful means\" or when guiding a client to choose actions that lead to the desired result, even if it means compromising on being right.\\n- It is particularly relevant for individuals who struggle with invalidation and have difficulty trusting their own judgments, helping them to learn that sometimes being effective is more important than being correct.\\n\\nCarefully review the provided transcript between the therapist and client. Rate whether the therapist discussed the DBT skill using the following criteria:\\n\\nRate \"1\" if the therapist did any of the following:\\n- Mentioned the skill by name.\\n- Defined, described, explained, or taught the skill to the client.\\n- Led the client through guided practice of the skill.\\n- Helped apply the skill to the client\\'s life.\\n\\nRate \"0\" if none of these actions took place.\\n\\nProvide your rating as a single number, either \"1\" or \"0\", with no further explanation.'}\n",
      "{'skill_id': 'M7', 'sys_prompt': 'Determine if a therapist discussed the following Dialectical Behavior Therapy (DBT) skill during a session:\\n- The \"Effectively\" skill in the Mindfulness module of DBT focuses on prioritizing effectiveness over the need to be right in a given situation.\\n- It encourages individuals to concentrate on what works and to achieve their goals rather than sticking rigidly to their principles, especially when such adherence might lead to negative outcomes.\\n- This skill is often highlighted in a session when a therapist discusses the concept of \"skillful means\" or when guiding a client to choose actions that lead to the desired result, even if it means compromising on being right.\\n- It is particularly relevant for individuals who struggle with invalidation and have difficulty trusting their own judgments, helping them to learn that sometimes being effective is more important than being correct.\\n\\nCarefully review the provided transcript between the therapist and client. Rate whether the therapist discussed the DBT skill using the following criteria:\\n\\nRate \"1\" if the therapist did any of the following:\\n- Mentioned the skill by name.\\n- Defined, described, explained, or taught the skill to the client.\\n- Led the client through guided practice of the skill.\\n- Helped apply the skill to the client\\'s life.\\n\\nRate \"0\" if none of these actions took place.\\n\\nProvide your rating as a single number, either \"1\" or \"0\", with no further explanation.'}\n",
      "{'skill_id': 'M8', 'sys_prompt': 'Determine if a therapist discussed the following Dialectical Behavior Therapy (DBT) skill during a session:\\n- The \"Mindfulness Practice: A Spiritual Perspective\" skill in the Mindfulness module of DBT incorporates spirituality into mindfulness practices.\\n- It acknowledges the origins of mindfulness in spiritual traditions and encourages clients to draw on their own spiritual or religious beliefs as a source of strength and coping.\\n- This skill differentiates between spirituality (a personal quality regarding the transcendent or nonmaterial) and religion (an organized community with shared beliefs and rituals), and it aims to be inclusive of all clients\\' spiritual perspectives.\\n- In a session, this skill might be identified by discussions or exercises that integrate spiritual beliefs with mindfulness practices, such as meditating on a higher power or using spiritual principles to cultivate wisdom, compassion, and acceptance.\\n\\nCarefully review the provided transcript between the therapist and client. Rate whether the therapist discussed the DBT skill using the following criteria:\\n\\nRate \"1\" if the therapist did any of the following:\\n- Mentioned the skill by name.\\n- Defined, described, explained, or taught the skill to the client.\\n- Led the client through guided practice of the skill.\\n- Helped apply the skill to the client\\'s life.\\n\\nRate \"0\" if none of these actions took place.\\n\\nProvide your rating as a single number, either \"1\" or \"0\", with no further explanation.'}\n",
      "{'skill_id': 'M8', 'sys_prompt': 'Determine if a therapist discussed the following Dialectical Behavior Therapy (DBT) skill during a session:\\n- The \"Mindfulness Practice: A Spiritual Perspective\" skill in the Mindfulness module of DBT incorporates spirituality into mindfulness practices.\\n- It acknowledges the origins of mindfulness in spiritual traditions and encourages clients to draw on their own spiritual or religious beliefs as a source of strength and coping.\\n- This skill differentiates between spirituality (a personal quality regarding the transcendent or nonmaterial) and religion (an organized community with shared beliefs and rituals), and it aims to be inclusive of all clients\\' spiritual perspectives.\\n- In a session, this skill might be identified by discussions or exercises that integrate spiritual beliefs with mindfulness practices, such as meditating on a higher power or using spiritual principles to cultivate wisdom, compassion, and acceptance.\\n\\nCarefully review the provided transcript between the therapist and client. Rate whether the therapist discussed the DBT skill using the following criteria:\\n\\nRate \"1\" if the therapist did any of the following:\\n- Mentioned the skill by name.\\n- Defined, described, explained, or taught the skill to the client.\\n- Led the client through guided practice of the skill.\\n- Helped apply the skill to the client\\'s life.\\n\\nRate \"0\" if none of these actions took place.\\n\\nProvide your rating as a single number, either \"1\" or \"0\", with no further explanation.'}\n",
      "{'skill_id': 'M9', 'sys_prompt': 'Determine if a therapist discussed the following Dialectical Behavior Therapy (DBT) skill during a session:\\n- The \"Balancing Doing Mind and Being Mind\" skill in the Mindfulness module of DBT emphasizes the importance of integrating goal-oriented activities (doing mind) with the capacity to be fully present in the moment (being mind).\\n- Doing mind is associated with task-focused, goal-directed behavior, while being mind is related to experiencing the present without an agenda.\\n- This skill encourages a balance between action and contemplation, suggesting that a synthesis of both is necessary for a well-rounded life.\\n- In a session, this skill might be identified by discussions or exercises that help clients recognize when they are overly focused on tasks at the expense of experiencing the moment, or vice versa, and guiding them to find a middle ground.\\n\\nCarefully review the provided transcript between the therapist and client. Rate whether the therapist discussed the DBT skill using the following criteria:\\n\\nRate \"1\" if the therapist did any of the following:\\n- Mentioned the skill by name.\\n- Defined, described, explained, or taught the skill to the client.\\n- Led the client through guided practice of the skill.\\n- Helped apply the skill to the client\\'s life.\\n\\nRate \"0\" if none of these actions took place.\\n\\nProvide your rating as a single number, either \"1\" or \"0\", with no further explanation.'}\n",
      "{'skill_id': 'M9', 'sys_prompt': 'Determine if a therapist discussed the following Dialectical Behavior Therapy (DBT) skill during a session:\\n- The \"Balancing Doing Mind and Being Mind\" skill in the Mindfulness module of DBT emphasizes the importance of integrating goal-oriented activities (doing mind) with the capacity to be fully present in the moment (being mind).\\n- Doing mind is associated with task-focused, goal-directed behavior, while being mind is related to experiencing the present without an agenda.\\n- This skill encourages a balance between action and contemplation, suggesting that a synthesis of both is necessary for a well-rounded life.\\n- In a session, this skill might be identified by discussions or exercises that help clients recognize when they are overly focused on tasks at the expense of experiencing the moment, or vice versa, and guiding them to find a middle ground.\\n\\nCarefully review the provided transcript between the therapist and client. Rate whether the therapist discussed the DBT skill using the following criteria:\\n\\nRate \"1\" if the therapist did any of the following:\\n- Mentioned the skill by name.\\n- Defined, described, explained, or taught the skill to the client.\\n- Led the client through guided practice of the skill.\\n- Helped apply the skill to the client\\'s life.\\n\\nRate \"0\" if none of these actions took place.\\n\\nProvide your rating as a single number, either \"1\" or \"0\", with no further explanation.'}\n",
      "{'skill_id': 'IE1', 'sys_prompt': 'Determine if a therapist discussed the following Dialectical Behavior Therapy (DBT) skill during a session:\\n- The \"Clarifying Priorities\" skill in the Interpersonal Effectiveness module of DBT involves identifying and understanding one\\'s own objectives in a given interpersonal situation.\\n- It requires weighing the importance of achieving one\\'s own goals against the value of maintaining a positive relationship and preserving self-respect.\\n- This skill is crucial for deciding which interpersonal strategies to employ and for setting boundaries in relationships.\\n- In a session, it may be identified by the therapist asking the client to reflect on and articulate their goals, the importance of the relationship, and their self-respect in the context of an interpersonal challenge.\\n\\nCarefully review the provided transcript between the therapist and client. Rate whether the therapist discussed the DBT skill using the following criteria:\\n\\nRate \"1\" if the therapist did any of the following:\\n- Mentioned the skill by name.\\n- Defined, described, explained, or taught the skill to the client.\\n- Led the client through guided practice of the skill.\\n- Helped apply the skill to the client\\'s life.\\n\\nRate \"0\" if none of these actions took place.\\n\\nProvide your rating as a single number, either \"1\" or \"0\", with no further explanation.'}\n",
      "{'skill_id': 'IE1', 'sys_prompt': 'Determine if a therapist discussed the following Dialectical Behavior Therapy (DBT) skill during a session:\\n- The \"Clarifying Priorities\" skill in the Interpersonal Effectiveness module of DBT involves identifying and understanding one\\'s own objectives in a given interpersonal situation.\\n- It requires weighing the importance of achieving one\\'s own goals against the value of maintaining a positive relationship and preserving self-respect.\\n- This skill is crucial for deciding which interpersonal strategies to employ and for setting boundaries in relationships.\\n- In a session, it may be identified by the therapist asking the client to reflect on and articulate their goals, the importance of the relationship, and their self-respect in the context of an interpersonal challenge.\\n\\nCarefully review the provided transcript between the therapist and client. Rate whether the therapist discussed the DBT skill using the following criteria:\\n\\nRate \"1\" if the therapist did any of the following:\\n- Mentioned the skill by name.\\n- Defined, described, explained, or taught the skill to the client.\\n- Led the client through guided practice of the skill.\\n- Helped apply the skill to the client\\'s life.\\n\\nRate \"0\" if none of these actions took place.\\n\\nProvide your rating as a single number, either \"1\" or \"0\", with no further explanation.'}\n",
      "{'skill_id': 'IE5', 'sys_prompt': 'Determine if a therapist discussed the following Dialectical Behavior Therapy (DBT) skill during a session:\\n- The \"Whether and How Intensely to Ask or Say No\" skill is part of the Interpersonal Effectiveness module in DBT.\\n- It involves evaluating the appropriateness and intensity of making a request or refusing one, considering the specific context and timing of the situation.\\n- This skill teaches that interpersonal effectiveness varies with circumstances, and what may be effective in one scenario may not be in another, requiring a nuanced understanding of when and how to assert oneself.\\n- In a session, this skill might be identified by discussions or role-plays about deciding if it\\'s suitable to ask for something or to say no, and how to do so in a way that maintains relationships and self-respect.\\n\\nCarefully review the provided transcript between the therapist and client. Rate whether the therapist discussed the DBT skill using the following criteria:\\n\\nRate \"1\" if the therapist did any of the following:\\n- Mentioned the skill by name.\\n- Defined, described, explained, or taught the skill to the client.\\n- Led the client through guided practice of the skill.\\n- Helped apply the skill to the client\\'s life.\\n\\nRate \"0\" if none of these actions took place.\\n\\nProvide your rating as a single number, either \"1\" or \"0\", with no further explanation.'}\n",
      "{'skill_id': 'IE5', 'sys_prompt': 'Determine if a therapist discussed the following Dialectical Behavior Therapy (DBT) skill during a session:\\n- The \"Whether and How Intensely to Ask or Say No\" skill is part of the Interpersonal Effectiveness module in DBT.\\n- It involves evaluating the appropriateness and intensity of making a request or refusing one, considering the specific context and timing of the situation.\\n- This skill teaches that interpersonal effectiveness varies with circumstances, and what may be effective in one scenario may not be in another, requiring a nuanced understanding of when and how to assert oneself.\\n- In a session, this skill might be identified by discussions or role-plays about deciding if it\\'s suitable to ask for something or to say no, and how to do so in a way that maintains relationships and self-respect.\\n\\nCarefully review the provided transcript between the therapist and client. Rate whether the therapist discussed the DBT skill using the following criteria:\\n\\nRate \"1\" if the therapist did any of the following:\\n- Mentioned the skill by name.\\n- Defined, described, explained, or taught the skill to the client.\\n- Led the client through guided practice of the skill.\\n- Helped apply the skill to the client\\'s life.\\n\\nRate \"0\" if none of these actions took place.\\n\\nProvide your rating as a single number, either \"1\" or \"0\", with no further explanation.'}\n",
      "{'skill_id': 'IE6', 'sys_prompt': 'Determine if a therapist discussed the following Dialectical Behavior Therapy (DBT) skill during a session:\\n- The \"Finding Potential Friends\" skill in the Interpersonal Effectiveness module of DBT focuses on actively seeking out individuals who could become friends, especially for those who feel isolated or lonely.\\r\\n- It emphasizes the necessity of making an effort to find and connect with people, as friendships typically do not form spontaneously.\\r\\n- The skill involves strategies for where and how to look for potential friends, which can include joining groups or activities where one is likely to meet like-minded individuals.\\r\\n- In a session, this skill might be identified by discussing specific steps or plans to engage in social activities or communities where the client has opportunities to meet new people.\\n\\nCarefully review the provided transcript between the therapist and client. Rate whether the therapist discussed the DBT skill using the following criteria:\\n\\nRate \"1\" if the therapist did any of the following:\\n- Mentioned the skill by name.\\n- Defined, described, explained, or taught the skill to the client.\\n- Led the client through guided practice of the skill.\\n- Helped apply the skill to the client\\'s life.\\n\\nRate \"0\" if none of these actions took place.\\n\\nProvide your rating as a single number, either \"1\" or \"0\", with no further explanation.'}\n",
      "{'skill_id': 'IE6', 'sys_prompt': 'Determine if a therapist discussed the following Dialectical Behavior Therapy (DBT) skill during a session:\\n- The \"Finding Potential Friends\" skill in the Interpersonal Effectiveness module of DBT focuses on actively seeking out individuals who could become friends, especially for those who feel isolated or lonely.\\r\\n- It emphasizes the necessity of making an effort to find and connect with people, as friendships typically do not form spontaneously.\\r\\n- The skill involves strategies for where and how to look for potential friends, which can include joining groups or activities where one is likely to meet like-minded individuals.\\r\\n- In a session, this skill might be identified by discussing specific steps or plans to engage in social activities or communities where the client has opportunities to meet new people.\\n\\nCarefully review the provided transcript between the therapist and client. Rate whether the therapist discussed the DBT skill using the following criteria:\\n\\nRate \"1\" if the therapist did any of the following:\\n- Mentioned the skill by name.\\n- Defined, described, explained, or taught the skill to the client.\\n- Led the client through guided practice of the skill.\\n- Helped apply the skill to the client\\'s life.\\n\\nRate \"0\" if none of these actions took place.\\n\\nProvide your rating as a single number, either \"1\" or \"0\", with no further explanation.'}\n",
      "{'skill_id': 'IE8', 'sys_prompt': 'Determine if a therapist discussed the following Dialectical Behavior Therapy (DBT) skill during a session:\\n- The \"How to End Relationships\" skill in the Interpersonal Effectiveness module of DBT addresses the challenges some individuals face when trying to leave harmful or unfulfilling relationships.\\n- It focuses on overcoming emotional dysregulation that can lead to staying in such relationships out of fear, guilt, or excessive compassion for the other person, while neglecting one\\'s own well-being.\\n- This skill teaches individuals to recognize their limits, say no, and make decisions about ending relationships based on the needs of the situation rather than their current emotional state.\\n- In a session, this skill might be identified by discussions on strategies for ending relationships in a healthy way, setting personal boundaries, and managing the emotions that arise during the process.\\n\\nCarefully review the provided transcript between the therapist and client. Rate whether the therapist discussed the DBT skill using the following criteria:\\n\\nRate \"1\" if the therapist did any of the following:\\n- Mentioned the skill by name.\\n- Defined, described, explained, or taught the skill to the client.\\n- Led the client through guided practice of the skill.\\n- Helped apply the skill to the client\\'s life.\\n\\nRate \"0\" if none of these actions took place.\\n\\nProvide your rating as a single number, either \"1\" or \"0\", with no further explanation.'}\n",
      "{'skill_id': 'IE8', 'sys_prompt': 'Determine if a therapist discussed the following Dialectical Behavior Therapy (DBT) skill during a session:\\n- The \"How to End Relationships\" skill in the Interpersonal Effectiveness module of DBT addresses the challenges some individuals face when trying to leave harmful or unfulfilling relationships.\\n- It focuses on overcoming emotional dysregulation that can lead to staying in such relationships out of fear, guilt, or excessive compassion for the other person, while neglecting one\\'s own well-being.\\n- This skill teaches individuals to recognize their limits, say no, and make decisions about ending relationships based on the needs of the situation rather than their current emotional state.\\n- In a session, this skill might be identified by discussions on strategies for ending relationships in a healthy way, setting personal boundaries, and managing the emotions that arise during the process.\\n\\nCarefully review the provided transcript between the therapist and client. Rate whether the therapist discussed the DBT skill using the following criteria:\\n\\nRate \"1\" if the therapist did any of the following:\\n- Mentioned the skill by name.\\n- Defined, described, explained, or taught the skill to the client.\\n- Led the client through guided practice of the skill.\\n- Helped apply the skill to the client\\'s life.\\n\\nRate \"0\" if none of these actions took place.\\n\\nProvide your rating as a single number, either \"1\" or \"0\", with no further explanation.'}\n",
      "{'skill_id': 'IE9', 'sys_prompt': 'Determine if a therapist discussed the following Dialectical Behavior Therapy (DBT) skill during a session:\\n- The \"Dialectics\" skill in the Interpersonal Effectiveness module of DBT involves recognizing and accepting the existence of multiple truths in a situation.\\n- It emphasizes the concept that two things that seem like opposites can both be true, which helps in reducing black-and-white thinking and promotes a more balanced and effective approach to interpersonal interactions.\\n- This skill encourages the practice of looking at all sides of a situation, understanding that everyone has their own perspective, and finding a synthesis or a middle path.\\n- In a session, it might be identified by the therapist encouraging the client to consider both their own and another person\\'s viewpoints, or by discussing how to find a compromise or integrate opposing needs or desires.\\n\\nCarefully review the provided transcript between the therapist and client. Rate whether the therapist discussed the DBT skill using the following criteria:\\n\\nRate \"1\" if the therapist did any of the following:\\n- Mentioned the skill by name.\\n- Defined, described, explained, or taught the skill to the client.\\n- Led the client through guided practice of the skill.\\n- Helped apply the skill to the client\\'s life.\\n\\nRate \"0\" if none of these actions took place.\\n\\nProvide your rating as a single number, either \"1\" or \"0\", with no further explanation.'}\n",
      "{'skill_id': 'IE9', 'sys_prompt': 'Determine if a therapist discussed the following Dialectical Behavior Therapy (DBT) skill during a session:\\n- The \"Dialectics\" skill in the Interpersonal Effectiveness module of DBT involves recognizing and accepting the existence of multiple truths in a situation.\\n- It emphasizes the concept that two things that seem like opposites can both be true, which helps in reducing black-and-white thinking and promotes a more balanced and effective approach to interpersonal interactions.\\n- This skill encourages the practice of looking at all sides of a situation, understanding that everyone has their own perspective, and finding a synthesis or a middle path.\\n- In a session, it might be identified by the therapist encouraging the client to consider both their own and another person\\'s viewpoints, or by discussing how to find a compromise or integrate opposing needs or desires.\\n\\nCarefully review the provided transcript between the therapist and client. Rate whether the therapist discussed the DBT skill using the following criteria:\\n\\nRate \"1\" if the therapist did any of the following:\\n- Mentioned the skill by name.\\n- Defined, described, explained, or taught the skill to the client.\\n- Led the client through guided practice of the skill.\\n- Helped apply the skill to the client\\'s life.\\n\\nRate \"0\" if none of these actions took place.\\n\\nProvide your rating as a single number, either \"1\" or \"0\", with no further explanation.'}\n",
      "{'skill_id': 'IE10', 'sys_prompt': 'Determine if a therapist discussed the following Dialectical Behavior Therapy (DBT) skill during a session:\\n- The \"Validation\" skill in the Interpersonal Effectiveness module of DBT focuses on acknowledging and affirming others\\' feelings, thoughts, and behaviors as understandable within their context.\\n- It involves communicating attentiveness, understanding, nonjudgmental stance, empathy, and recognition of the person\\'s reality or truth.\\n- Validation is closely tied to mindfulness skills, as it requires the ability to observe, describe, and interact without judgment.\\n- In a session, this skill might be identified by the therapist modeling validation for the client or by discussing how the client can validate others or themselves, especially after experiencing invalidation.\\n\\nCarefully review the provided transcript between the therapist and client. Rate whether the therapist discussed the DBT skill using the following criteria:\\n\\nRate \"1\" if the therapist did any of the following:\\n- Mentioned the skill by name.\\n- Defined, described, explained, or taught the skill to the client.\\n- Led the client through guided practice of the skill.\\n- Helped apply the skill to the client\\'s life.\\n\\nRate \"0\" if none of these actions took place.\\n\\nProvide your rating as a single number, either \"1\" or \"0\", with no further explanation.'}\n",
      "{'skill_id': 'IE10', 'sys_prompt': 'Determine if a therapist discussed the following Dialectical Behavior Therapy (DBT) skill during a session:\\n- The \"Validation\" skill in the Interpersonal Effectiveness module of DBT focuses on acknowledging and affirming others\\' feelings, thoughts, and behaviors as understandable within their context.\\n- It involves communicating attentiveness, understanding, nonjudgmental stance, empathy, and recognition of the person\\'s reality or truth.\\n- Validation is closely tied to mindfulness skills, as it requires the ability to observe, describe, and interact without judgment.\\n- In a session, this skill might be identified by the therapist modeling validation for the client or by discussing how the client can validate others or themselves, especially after experiencing invalidation.\\n\\nCarefully review the provided transcript between the therapist and client. Rate whether the therapist discussed the DBT skill using the following criteria:\\n\\nRate \"1\" if the therapist did any of the following:\\n- Mentioned the skill by name.\\n- Defined, described, explained, or taught the skill to the client.\\n- Led the client through guided practice of the skill.\\n- Helped apply the skill to the client\\'s life.\\n\\nRate \"0\" if none of these actions took place.\\n\\nProvide your rating as a single number, either \"1\" or \"0\", with no further explanation.'}\n",
      "{'skill_id': 'IE11', 'sys_prompt': 'Determine if a therapist discussed the following Dialectical Behavior Therapy (DBT) skill during a session:\\n- \"Behavior Change Strategies\" in the Interpersonal Effectiveness module of DBT includes techniques for influencing others\\' behaviors through the systematic application of consequences.\\n- It involves the use of positive and negative reinforcement, shaping, extinction, satiation, and punishment to modify future behavior.\\n- This skill is an extension of the DEAR MAN skill (Describe, Express, Assert, Reinforce, Mindful, Appear confident, Negotiate) which focuses on telegraphing the consequences of behavior.\\n- In a session, this skill might be identified by discussing or planning how to respond to others\\' actions in a way that encourages desired behaviors or discourages undesired ones.\\n\\nCarefully review the provided transcript between the therapist and client. Rate whether the therapist discussed the DBT skill using the following criteria:\\n\\nRate \"1\" if the therapist did any of the following:\\n- Mentioned the skill by name.\\n- Defined, described, explained, or taught the skill to the client.\\n- Led the client through guided practice of the skill.\\n- Helped apply the skill to the client\\'s life.\\n\\nRate \"0\" if none of these actions took place.\\n\\nProvide your rating as a single number, either \"1\" or \"0\", with no further explanation.'}\n",
      "{'skill_id': 'IE11', 'sys_prompt': 'Determine if a therapist discussed the following Dialectical Behavior Therapy (DBT) skill during a session:\\n- \"Behavior Change Strategies\" in the Interpersonal Effectiveness module of DBT includes techniques for influencing others\\' behaviors through the systematic application of consequences.\\n- It involves the use of positive and negative reinforcement, shaping, extinction, satiation, and punishment to modify future behavior.\\n- This skill is an extension of the DEAR MAN skill (Describe, Express, Assert, Reinforce, Mindful, Appear confident, Negotiate) which focuses on telegraphing the consequences of behavior.\\n- In a session, this skill might be identified by discussing or planning how to respond to others\\' actions in a way that encourages desired behaviors or discourages undesired ones.\\n\\nCarefully review the provided transcript between the therapist and client. Rate whether the therapist discussed the DBT skill using the following criteria:\\n\\nRate \"1\" if the therapist did any of the following:\\n- Mentioned the skill by name.\\n- Defined, described, explained, or taught the skill to the client.\\n- Led the client through guided practice of the skill.\\n- Helped apply the skill to the client\\'s life.\\n\\nRate \"0\" if none of these actions took place.\\n\\nProvide your rating as a single number, either \"1\" or \"0\", with no further explanation.'}\n",
      "{'skill_id': 'ER1', 'sys_prompt': 'Determine if a therapist discussed the following Dialectical Behavior Therapy (DBT) skill during a session:\\n- The \"Understanding and Naming Emotions\" skill in the Emotion Regulation module of DBT involves recognizing the purpose of emotions and the challenges associated with changing them.\\r\\n- It teaches that emotions serve to communicate with others, motivate behavior, influence others, and alert oneself to important events.\\r\\n- This skill emphasizes the importance of identifying and labeling emotions by observing one\\'s responses and accurately describing the context, including the event, interpretations, history, physical sensations, expressive behaviors, and aftereffects.\\r\\n- In a session, this skill might be identified by the therapist asking the client to describe a recent emotional experience in detail, including what happened, how they interpreted it, and what they felt physically and emotionally.\\n\\nCarefully review the provided transcript between the therapist and client. Rate whether the therapist discussed the DBT skill using the following criteria:\\n\\nRate \"1\" if the therapist did any of the following:\\n- Mentioned the skill by name.\\n- Defined, described, explained, or taught the skill to the client.\\n- Led the client through guided practice of the skill.\\n- Helped apply the skill to the client\\'s life.\\n\\nRate \"0\" if none of these actions took place.\\n\\nProvide your rating as a single number, either \"1\" or \"0\", with no further explanation.'}\n",
      "{'skill_id': 'ER1', 'sys_prompt': 'Determine if a therapist discussed the following Dialectical Behavior Therapy (DBT) skill during a session:\\n- The \"Understanding and Naming Emotions\" skill in the Emotion Regulation module of DBT involves recognizing the purpose of emotions and the challenges associated with changing them.\\r\\n- It teaches that emotions serve to communicate with others, motivate behavior, influence others, and alert oneself to important events.\\r\\n- This skill emphasizes the importance of identifying and labeling emotions by observing one\\'s responses and accurately describing the context, including the event, interpretations, history, physical sensations, expressive behaviors, and aftereffects.\\r\\n- In a session, this skill might be identified by the therapist asking the client to describe a recent emotional experience in detail, including what happened, how they interpreted it, and what they felt physically and emotionally.\\n\\nCarefully review the provided transcript between the therapist and client. Rate whether the therapist discussed the DBT skill using the following criteria:\\n\\nRate \"1\" if the therapist did any of the following:\\n- Mentioned the skill by name.\\n- Defined, described, explained, or taught the skill to the client.\\n- Led the client through guided practice of the skill.\\n- Helped apply the skill to the client\\'s life.\\n\\nRate \"0\" if none of these actions took place.\\n\\nProvide your rating as a single number, either \"1\" or \"0\", with no further explanation.'}\n",
      "{'skill_id': 'ER4', 'sys_prompt': 'Determine if a therapist discussed the following Dialectical Behavior Therapy (DBT) skill during a session:\\n- The \"Problem Solving\" skill in the Emotion Regulation module of DBT focuses on addressing the situations that trigger unwanted emotions by actively working to change them.\\n- It involves a thorough assessment of the facts surrounding the emotional situation and taking steps to resolve the issues causing distress.\\n- This skill is based on the understanding that while emotions themselves are not necessarily the result of distorted perceptions, the situations that elicit these emotions can often be altered through problem-solving strategies.\\n- In a session, this skill might be identified by the therapist and client discussing a specific emotional event and collaboratively working through steps to address and change the situation that caused the emotional response.\\n\\nCarefully review the provided transcript between the therapist and client. Rate whether the therapist discussed the DBT skill using the following criteria:\\n\\nRate \"1\" if the therapist did any of the following:\\n- Mentioned the skill by name.\\n- Defined, described, explained, or taught the skill to the client.\\n- Led the client through guided practice of the skill.\\n- Helped apply the skill to the client\\'s life.\\n\\nRate \"0\" if none of these actions took place.\\n\\nProvide your rating as a single number, either \"1\" or \"0\", with no further explanation.'}\n",
      "{'skill_id': 'ER4', 'sys_prompt': 'Determine if a therapist discussed the following Dialectical Behavior Therapy (DBT) skill during a session:\\n- The \"Problem Solving\" skill in the Emotion Regulation module of DBT focuses on addressing the situations that trigger unwanted emotions by actively working to change them.\\n- It involves a thorough assessment of the facts surrounding the emotional situation and taking steps to resolve the issues causing distress.\\n- This skill is based on the understanding that while emotions themselves are not necessarily the result of distorted perceptions, the situations that elicit these emotions can often be altered through problem-solving strategies.\\n- In a session, this skill might be identified by the therapist and client discussing a specific emotional event and collaboratively working through steps to address and change the situation that caused the emotional response.\\n\\nCarefully review the provided transcript between the therapist and client. Rate whether the therapist discussed the DBT skill using the following criteria:\\n\\nRate \"1\" if the therapist did any of the following:\\n- Mentioned the skill by name.\\n- Defined, described, explained, or taught the skill to the client.\\n- Led the client through guided practice of the skill.\\n- Helped apply the skill to the client\\'s life.\\n\\nRate \"0\" if none of these actions took place.\\n\\nProvide your rating as a single number, either \"1\" or \"0\", with no further explanation.'}\n",
      "{'skill_id': 'ER10', 'sys_prompt': 'Determine if a therapist discussed the following Dialectical Behavior Therapy (DBT) skill during a session:\\n- \"Identifying the Skills Breakdown Point\" is a skill in the Distress Tolerance module of Dialectical Behavior Therapy (DBT) that involves recognizing when one\\'s emotional arousal is so high that more complex skills cannot be effectively utilized.\\n- This skill is crucial for determining when to switch from attempting to use complicated emotion regulation strategies to simpler crisis survival skills.\\n- It is a self-awareness practice that helps individuals to acknowledge their limits and to apply the most appropriate DBT skills for their current emotional state.\\n- In a session, this skill might be identified by a therapist asking a client to reflect on past experiences to pinpoint when they felt overwhelmed and what signs indicated they were past the point of using complex skills.\\n\\nCarefully review the provided transcript between the therapist and client. Rate whether the therapist discussed the DBT skill using the following criteria:\\n\\nRate \"1\" if the therapist did any of the following:\\n- Mentioned the skill by name.\\n- Defined, described, explained, or taught the skill to the client.\\n- Led the client through guided practice of the skill.\\n- Helped apply the skill to the client\\'s life.\\n\\nRate \"0\" if none of these actions took place.\\n\\nProvide your rating as a single number, either \"1\" or \"0\", with no further explanation.'}\n",
      "{'skill_id': 'ER10', 'sys_prompt': 'Determine if a therapist discussed the following Dialectical Behavior Therapy (DBT) skill during a session:\\n- \"Identifying the Skills Breakdown Point\" is a skill in the Distress Tolerance module of Dialectical Behavior Therapy (DBT) that involves recognizing when one\\'s emotional arousal is so high that more complex skills cannot be effectively utilized.\\n- This skill is crucial for determining when to switch from attempting to use complicated emotion regulation strategies to simpler crisis survival skills.\\n- It is a self-awareness practice that helps individuals to acknowledge their limits and to apply the most appropriate DBT skills for their current emotional state.\\n- In a session, this skill might be identified by a therapist asking a client to reflect on past experiences to pinpoint when they felt overwhelmed and what signs indicated they were past the point of using complex skills.\\n\\nCarefully review the provided transcript between the therapist and client. Rate whether the therapist discussed the DBT skill using the following criteria:\\n\\nRate \"1\" if the therapist did any of the following:\\n- Mentioned the skill by name.\\n- Defined, described, explained, or taught the skill to the client.\\n- Led the client through guided practice of the skill.\\n- Helped apply the skill to the client\\'s life.\\n\\nRate \"0\" if none of these actions took place.\\n\\nProvide your rating as a single number, either \"1\" or \"0\", with no further explanation.'}\n",
      "{'skill_id': 'DT9', 'sys_prompt': 'Determine if a therapist discussed the following Dialectical Behavior Therapy (DBT) skill during a session:\\n- The \"Willingness\" skill in the Distress Tolerance module of DBT involves adopting an open and accepting attitude towards the present moment and life\\'s challenges, rather than trying to control or resist them.\\n- It is characterized by a conscious choice to participate fully in life and to say \"yes\" to experiences as they come, without trying to manipulate or avoid them.\\n- This skill contrasts with \"willfulness,\" which is the act of refusing to accept reality, being rigid, and attempting to impose one\\'s will onto situations.\\n- In a session, willingness might be identified by a therapist encouraging a client to accept a situation as it is and to engage with it without resistance, often using phrases like \"saying yes to the mystery of being alive.\"\\n\\nCarefully review the provided transcript between the therapist and client. Rate whether the therapist discussed the DBT skill using the following criteria:\\n\\nRate \"1\" if the therapist did any of the following:\\n- Mentioned the skill by name.\\n- Defined, described, explained, or taught the skill to the client.\\n- Led the client through guided practice of the skill.\\n- Helped apply the skill to the client\\'s life.\\n\\nRate \"0\" if none of these actions took place.\\n\\nProvide your rating as a single number, either \"1\" or \"0\", with no further explanation.'}\n",
      "{'skill_id': 'DT9', 'sys_prompt': 'Determine if a therapist discussed the following Dialectical Behavior Therapy (DBT) skill during a session:\\n- The \"Willingness\" skill in the Distress Tolerance module of DBT involves adopting an open and accepting attitude towards the present moment and life\\'s challenges, rather than trying to control or resist them.\\n- It is characterized by a conscious choice to participate fully in life and to say \"yes\" to experiences as they come, without trying to manipulate or avoid them.\\n- This skill contrasts with \"willfulness,\" which is the act of refusing to accept reality, being rigid, and attempting to impose one\\'s will onto situations.\\n- In a session, willingness might be identified by a therapist encouraging a client to accept a situation as it is and to engage with it without resistance, often using phrases like \"saying yes to the mystery of being alive.\"\\n\\nCarefully review the provided transcript between the therapist and client. Rate whether the therapist discussed the DBT skill using the following criteria:\\n\\nRate \"1\" if the therapist did any of the following:\\n- Mentioned the skill by name.\\n- Defined, described, explained, or taught the skill to the client.\\n- Led the client through guided practice of the skill.\\n- Helped apply the skill to the client\\'s life.\\n\\nRate \"0\" if none of these actions took place.\\n\\nProvide your rating as a single number, either \"1\" or \"0\", with no further explanation.'}\n"
     ]
    }
   ],
   "source": [
    "for task in skills.get_gpt_sys_prompts(2):\n",
    "    print(task)"
   ],
   "metadata": {
    "collapsed": false
   }
  },
  {
   "cell_type": "code",
   "execution_count": null,
   "outputs": [],
   "source": [
    "class SkillPresenceEvaluation(Evaluation):\n",
    "\n",
    "    name = 'Skill Presence'\n",
    "\n",
    "    def __init__(self, number_iterations:int=3, max_parallel_gpt_calls:int=3, skill_ids:list[str]=None):\n",
    "        assert number_iterations > 0\n",
    "        assert max_parallel_gpt_calls > 0\n",
    "        self.number_iterations = number_iterations\n",
    "        self.dbt_skills = DBTSkills(skill_ids)\n",
    "        self.openai_client = AsyncAzureOpenAI(\n",
    "            api_key = OPENAI_API_KEY,\n",
    "            api_version = \"2023-05-15\",\n",
    "            azure_endpoint = \"https://dbt-openai-usea2-assistants.openai.azure.com/\"\n",
    "        )\n",
    "        self.semaphore = asyncio.Semaphore(value=max_parallel_gpt_calls)\n",
    "\n",
    "    async def get_gpt_response(self, sys_prompt:str, conversation:str):\n",
    "        async with self.semaphore:\n",
    "            return await self.openai_client.chat.completions.create(\n",
    "                model='gpt4-1106',\n",
    "                messages=[\n",
    "                    {\"role\": \"system\", \"content\": sys_prompt},\n",
    "                    {\"role\": \"user\", \"content\": conversation},\n",
    "                ],\n",
    "                temperature=0.,\n",
    "            )\n",
    "\n",
    "    async def get_gpt_responses(self, conversation:str):\n",
    "        gpt_sys_prompts = self.dbt_skills.get_gpt_sys_prompts(self.number_iterations)\n",
    "        if not gpt_sys_prompts:\n",
    "            return\n",
    "\n",
    "\n",
    "\n",
    "\n",
    "\n",
    "\n",
    "\n",
    "\n",
    "async def get_skill_presences(\n",
    "        client:AsyncAzureOpenAI,\n",
    "        max_parallel_calls:int,\n",
    "        sys_prompt_base:str,\n",
    "        eval_msgs:str,\n",
    "        n_replications:int|None = None):\n",
    "    assert max_parallel_calls > 0\n",
    "    if n_replications:\n",
    "        assert n_replications > 0\n",
    "    skill_names = list(dbt_skills_ref.skill_name)[:5]\n",
    "    skill_descs = list(dbt_skills_ref.skill_desc)[:5]\n",
    "    sys_prompts = [sys_prompt_base.replace(\"<SKILL_DESC>\", desc) for desc in skill_descs]\n",
    "    semaphore = asyncio.Semaphore(value=max_parallel_calls)\n",
    "    tasks = [get_skill_presence_response(client, semaphore, sys_prompt, eval_msgs) for sys_prompt in sys_prompts]\n",
    "    responses = await asyncio.gather(*tasks)\n",
    "    for i, skill_name in enumerate(skill_names):\n",
    "        ratings = [choice.message.content for choice in responses[i].choices]\n",
    "        print(f'{skill_name}: {ratings}')\n",
    "\n",
    "t_start = time.perf_counter()\n",
    "await get_skill_presences(client_async, 5, skill_extract_base_prompt2, skill_extract_test, 3)\n",
    "t_stop = time.perf_counter()\n",
    "print(t_stop - t_start)"
   ],
   "metadata": {
    "collapsed": false
   }
  },
  {
   "cell_type": "code",
   "execution_count": 255,
   "outputs": [
    {
     "data": {
      "text/plain": "'Determine if a therapist discussed the following Dialectical Behavior Therapy (DBT) skill during a session:\\n<SKILL_DESC>\\n\\nCarefully review the provided transcript between the therapist and client. Rate whether the therapist discussed the DBT skill using the following criteria:\\n\\nRate \"1\" if the therapist did any of the following:\\n- Mentioned the skill by name.\\n- Defined, described, explained, or taught the skill to the client.\\n- Led the client through guided practice of the skill.\\n- Helped apply the skill to the client\\'s life.\\n\\nRate \"0\" if none of these actions took place.\\n\\nProvide your rating as a single number, either \"1\" or \"0\", with no further explanation.'"
     },
     "execution_count": 255,
     "metadata": {},
     "output_type": "execute_result"
    }
   ],
   "source": [
    "SKILL_PRESENCE_BASE_PROMPT"
   ],
   "metadata": {
    "collapsed": false
   }
  },
  {
   "cell_type": "code",
   "execution_count": 279,
   "outputs": [
    {
     "data": {
      "text/plain": "False"
     },
     "execution_count": 279,
     "metadata": {},
     "output_type": "execute_result"
    }
   ],
   "source": [
    "skl = DBTSkill('M1')\n",
    "isinstance(skl, int)"
   ],
   "metadata": {
    "collapsed": false
   }
  }
 ],
 "metadata": {
  "kernelspec": {
   "name": "conda-env-dbt-llm-py",
   "language": "python",
   "display_name": "Python [conda env:dbt-llm] *"
  },
  "language_info": {
   "codemirror_mode": {
    "name": "ipython",
    "version": 2
   },
   "file_extension": ".py",
   "mimetype": "text/x-python",
   "name": "python",
   "nbconvert_exporter": "python",
   "pygments_lexer": "ipython2",
   "version": "2.7.6"
  }
 },
 "nbformat": 4,
 "nbformat_minor": 0
}
