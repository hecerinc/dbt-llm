{
 "cells": [
  {
   "cell_type": "code",
   "execution_count": 31,
   "metadata": {
    "collapsed": true
   },
   "outputs": [],
   "source": [
    "import os, sys\n",
    "import re\n",
    "from dotenv import load_dotenv\n",
    "import time\n",
    "import pandas as pd\n",
    "from openai import AzureOpenAI, AsyncAzureOpenAI\n",
    "import tiktoken\n",
    "import asyncio"
   ]
  },
  {
   "cell_type": "code",
   "execution_count": 2,
   "outputs": [],
   "source": [
    "load_dotenv('.env')\n",
    "OPENAI_API_KEY = os.getenv('OPENAI_API_KEY', None)"
   ],
   "metadata": {
    "collapsed": false
   }
  },
  {
   "cell_type": "code",
   "execution_count": 3,
   "outputs": [],
   "source": [
    "token_encoder = tiktoken.get_encoding('cl100k_base')\n",
    "def count_tokens(txt):\n",
    "    return len(token_encoder.encode(txt))"
   ],
   "metadata": {
    "collapsed": false
   }
  },
  {
   "cell_type": "code",
   "execution_count": 4,
   "outputs": [
    {
     "data": {
      "text/plain": "   skill_id                                     skill_name  \\\n0        M1                                      Wise Mind   \n1        M2                                      Observing   \n2        M3                                     Describing   \n3        M4                                  Participating   \n4        M5                                Nonjudgmentally   \n5        M6                                  One-Mindfully   \n6        M7                                    Effectively   \n7        M8  Mindfulness Practice: A Spiritual Perspective   \n8        M9            Balancing Doing Mind and Being Mind   \n9       IE1                          Clarifying Priorities   \n10      IE2                                       DEAR MAN   \n11      IE3                                           GIVE   \n12      IE4                                           FAST   \n13      IE5     Whether and How Intensely to Ask or Say No   \n14      IE6                      Finding Potential Friends   \n15      IE7                          Mindfulness of Others   \n16      IE8                       How to End Relationships   \n17      IE9                                     Dialectics   \n18     IE10                                     Validation   \n19     IE11                     Behavior Change Strategies   \n20      ER1              Understanding and Naming Emotions   \n21      ER2                             Checking the Facts   \n22      ER3                                Opposite Action   \n23      ER4                                Problem Solving   \n24      ER5                   Accumulate Positive Emotions   \n25      ER6                                  Build Mastery   \n26      ER7                                     Cope Ahead   \n27      ER8                                         PLEASE   \n28      ER9                Mindfulness of Current Emotions   \n29     ER10         Identifying the Skills Breakdown Point   \n30      DT1                                           STOP   \n31      DT2                                  Pros and Cons   \n32      DT3                             TIP Body Chemistry   \n33      DT4             Distracting with Wise Mind ACCEPTS   \n34      DT5               Self-Soothing Through the Senses   \n35      DT6                             IMPROVE the Moment   \n36      DT7                             Radical Acceptance   \n37      DT8                               Turning the Mind   \n38      DT9                                    Willingness   \n39     DT10                 Half-Smiling and Willing Hands   \n40     DT11                Mindfulness of Current Thoughts   \n41     DT12                         Dialectical Abstinence   \n42     DT13                                     Clear Mind   \n43     DT14                        Community Reinforcement   \n44     DT15          Burning Bridges and Building New Ones   \n45     DT16        Alternate Rebellion and Adaptive Denial   \n\n                                           skill_desc module_focus  \\\n0   - The \"Wise Mind\" skill in the Mindfulness mod...   Acceptance   \n1   - The \"Observing\" skill in the Mindfulness mod...   Acceptance   \n2   - The \"Describing\" skill in the Mindfulness mo...   Acceptance   \n3   - The \"Participating\" skill in the Mindfulness...   Acceptance   \n4   - The \"Nonjudgmentally\" skill in the Mindfulne...   Acceptance   \n5   - The \"One-Mindfully\" skill in the Mindfulness...   Acceptance   \n6   - The \"Effectively\" skill in the Mindfulness m...   Acceptance   \n7   - The \"Mindfulness Practice: A Spiritual Persp...   Acceptance   \n8   - The \"Balancing Doing Mind and Being Mind\" sk...   Acceptance   \n9   - The \"Clarifying Priorities\" skill in the Int...       Change   \n10  - The \"DEAR MAN\" skill in the Interpersonal Ef...       Change   \n11  - The \"GIVE\" skill in the Interpersonal Effect...       Change   \n12  - The \"FAST\" skill in the Interpersonal Effect...       Change   \n13  - The \"Whether and How Intensely to Ask or Say...       Change   \n14  - The \"Finding Potential Friends\" skill in the...       Change   \n15  - The \"Mindfulness of Others\" skill in the Int...       Change   \n16  - The \"How to End Relationships\" skill in the ...       Change   \n17  - The \"Dialectics\" skill in the Interpersonal ...       Change   \n18  - The \"Validation\" skill in the Interpersonal ...       Change   \n19  - \"Behavior Change Strategies\" in the Interper...       Change   \n20  - The \"Understanding and Naming Emotions\" skil...       Change   \n21  - The \"Checking the Facts\" skill in the Emotio...       Change   \n22  - The \"Opposite Action\" skill in the Emotion R...       Change   \n23  - The \"Problem Solving\" skill in the Emotion R...       Change   \n24  - The \"Accumulate Positive Emotions\" skill in ...       Change   \n25  - The \"Build Mastery\" skill in the Emotion Reg...       Change   \n26  - The \"Cope Ahead\" skill in the Emotion Regula...       Change   \n27  - The \"PLEASE\" skill in the Emotion Regulation...       Change   \n28  - \"Mindfulness of Current Emotions\" is a skill...       Change   \n29  - \"Identifying the Skills Breakdown Point\" is ...       Change   \n30  - The \"STOP\" skill in the Distress Tolerance m...   Acceptance   \n31  - The \"Pros and Cons\" skill in the Distress To...   Acceptance   \n32  - The \"TIP\" skill in the Distress Tolerance mo...   Acceptance   \n33  - The \"Distracting with Wise Mind ACCEPTS\" ski...   Acceptance   \n34  - The \"Self-Soothing Through the Senses\" skill...   Acceptance   \n35  - The \"IMPROVE the Moment\" skill in the Distre...   Acceptance   \n36  - The \"Radical Acceptance\" skill in the Distre...   Acceptance   \n37  - The \"Turning the Mind\" skill in the Distress...   Acceptance   \n38  - The \"Willingness\" skill in the Distress Tole...   Acceptance   \n39  - \"Half-Smiling\" is a Distress Tolerance skill...   Acceptance   \n40  - The \"Mindfulness of Current Thoughts\" skill ...   Acceptance   \n41  - \"Dialectical Abstinence\" is a Distress Toler...   Acceptance   \n42  - \"Clear Mind\" is a skill in the Distress Tole...   Acceptance   \n43  - The \"Community Reinforcement\" skill in the D...   Acceptance   \n44  - The \"Burning Bridges\" skill in the Distress ...   Acceptance   \n45  - \"Alternate Rebellion\" is a Distress Toleranc...   Acceptance   \n\n                    module_name  \\\n0                   Mindfulness   \n1                   Mindfulness   \n2                   Mindfulness   \n3                   Mindfulness   \n4                   Mindfulness   \n5                   Mindfulness   \n6                   Mindfulness   \n7                   Mindfulness   \n8                   Mindfulness   \n9   Interpersonal Effectiveness   \n10  Interpersonal Effectiveness   \n11  Interpersonal Effectiveness   \n12  Interpersonal Effectiveness   \n13  Interpersonal Effectiveness   \n14  Interpersonal Effectiveness   \n15  Interpersonal Effectiveness   \n16  Interpersonal Effectiveness   \n17  Interpersonal Effectiveness   \n18  Interpersonal Effectiveness   \n19  Interpersonal Effectiveness   \n20           Emotion Regulation   \n21           Emotion Regulation   \n22           Emotion Regulation   \n23           Emotion Regulation   \n24           Emotion Regulation   \n25           Emotion Regulation   \n26           Emotion Regulation   \n27           Emotion Regulation   \n28           Emotion Regulation   \n29           Emotion Regulation   \n30           Distress Tolerance   \n31           Distress Tolerance   \n32           Distress Tolerance   \n33           Distress Tolerance   \n34           Distress Tolerance   \n35           Distress Tolerance   \n36           Distress Tolerance   \n37           Distress Tolerance   \n38           Distress Tolerance   \n39           Distress Tolerance   \n40           Distress Tolerance   \n41           Distress Tolerance   \n42           Distress Tolerance   \n43           Distress Tolerance   \n44           Distress Tolerance   \n45           Distress Tolerance   \n\n                                        category_name  \n0                                                 NaN  \n1                           Mindfulness \"What\" Skills  \n2                           Mindfulness \"What\" Skills  \n3                           Mindfulness \"What\" Skills  \n4                            Mindfulness \"How\" Skills  \n5                            Mindfulness \"How\" Skills  \n6                            Mindfulness \"How\" Skills  \n7                   Other Perspectives on Mindfulness  \n8                   Other Perspectives on Mindfulness  \n9                     Obtaining Objectives Skillfully  \n10                    Obtaining Objectives Skillfully  \n11                    Obtaining Objectives Skillfully  \n12                    Obtaining Objectives Skillfully  \n13                    Obtaining Objectives Skillfully  \n14  Skills for Building Relationships \\r\\nand Endi...  \n15  Skills for Building Relationships \\r\\nand Endi...  \n16  Skills for Building Relationships \\r\\nand Endi...  \n17                            Walking the Middle Path  \n18                            Walking the Middle Path  \n19                            Walking the Middle Path  \n20                                                NaN  \n21                       Changing Emotional Responses  \n22                       Changing Emotional Responses  \n23                       Changing Emotional Responses  \n24             Reducing Vulnerability to Emotion Mind  \n25             Reducing Vulnerability to Emotion Mind  \n26             Reducing Vulnerability to Emotion Mind  \n27             Reducing Vulnerability to Emotion Mind  \n28                          Managing Extreme Emotions  \n29                          Managing Extreme Emotions  \n30                             Crisis Survival Skills  \n31                             Crisis Survival Skills  \n32                             Crisis Survival Skills  \n33                             Crisis Survival Skills  \n34                             Crisis Survival Skills  \n35                             Crisis Survival Skills  \n36                          Reality Acceptance Skills  \n37                          Reality Acceptance Skills  \n38                          Reality Acceptance Skills  \n39                          Reality Acceptance Skills  \n40                          Reality Acceptance Skills  \n41                     Supplementary Addiction Skills  \n42                     Supplementary Addiction Skills  \n43                     Supplementary Addiction Skills  \n44                     Supplementary Addiction Skills  \n45                     Supplementary Addiction Skills  ",
      "text/html": "<div>\n<style scoped>\n    .dataframe tbody tr th:only-of-type {\n        vertical-align: middle;\n    }\n\n    .dataframe tbody tr th {\n        vertical-align: top;\n    }\n\n    .dataframe thead th {\n        text-align: right;\n    }\n</style>\n<table border=\"1\" class=\"dataframe\">\n  <thead>\n    <tr style=\"text-align: right;\">\n      <th></th>\n      <th>skill_id</th>\n      <th>skill_name</th>\n      <th>skill_desc</th>\n      <th>module_focus</th>\n      <th>module_name</th>\n      <th>category_name</th>\n    </tr>\n  </thead>\n  <tbody>\n    <tr>\n      <th>0</th>\n      <td>M1</td>\n      <td>Wise Mind</td>\n      <td>- The \"Wise Mind\" skill in the Mindfulness mod...</td>\n      <td>Acceptance</td>\n      <td>Mindfulness</td>\n      <td>NaN</td>\n    </tr>\n    <tr>\n      <th>1</th>\n      <td>M2</td>\n      <td>Observing</td>\n      <td>- The \"Observing\" skill in the Mindfulness mod...</td>\n      <td>Acceptance</td>\n      <td>Mindfulness</td>\n      <td>Mindfulness \"What\" Skills</td>\n    </tr>\n    <tr>\n      <th>2</th>\n      <td>M3</td>\n      <td>Describing</td>\n      <td>- The \"Describing\" skill in the Mindfulness mo...</td>\n      <td>Acceptance</td>\n      <td>Mindfulness</td>\n      <td>Mindfulness \"What\" Skills</td>\n    </tr>\n    <tr>\n      <th>3</th>\n      <td>M4</td>\n      <td>Participating</td>\n      <td>- The \"Participating\" skill in the Mindfulness...</td>\n      <td>Acceptance</td>\n      <td>Mindfulness</td>\n      <td>Mindfulness \"What\" Skills</td>\n    </tr>\n    <tr>\n      <th>4</th>\n      <td>M5</td>\n      <td>Nonjudgmentally</td>\n      <td>- The \"Nonjudgmentally\" skill in the Mindfulne...</td>\n      <td>Acceptance</td>\n      <td>Mindfulness</td>\n      <td>Mindfulness \"How\" Skills</td>\n    </tr>\n    <tr>\n      <th>5</th>\n      <td>M6</td>\n      <td>One-Mindfully</td>\n      <td>- The \"One-Mindfully\" skill in the Mindfulness...</td>\n      <td>Acceptance</td>\n      <td>Mindfulness</td>\n      <td>Mindfulness \"How\" Skills</td>\n    </tr>\n    <tr>\n      <th>6</th>\n      <td>M7</td>\n      <td>Effectively</td>\n      <td>- The \"Effectively\" skill in the Mindfulness m...</td>\n      <td>Acceptance</td>\n      <td>Mindfulness</td>\n      <td>Mindfulness \"How\" Skills</td>\n    </tr>\n    <tr>\n      <th>7</th>\n      <td>M8</td>\n      <td>Mindfulness Practice: A Spiritual Perspective</td>\n      <td>- The \"Mindfulness Practice: A Spiritual Persp...</td>\n      <td>Acceptance</td>\n      <td>Mindfulness</td>\n      <td>Other Perspectives on Mindfulness</td>\n    </tr>\n    <tr>\n      <th>8</th>\n      <td>M9</td>\n      <td>Balancing Doing Mind and Being Mind</td>\n      <td>- The \"Balancing Doing Mind and Being Mind\" sk...</td>\n      <td>Acceptance</td>\n      <td>Mindfulness</td>\n      <td>Other Perspectives on Mindfulness</td>\n    </tr>\n    <tr>\n      <th>9</th>\n      <td>IE1</td>\n      <td>Clarifying Priorities</td>\n      <td>- The \"Clarifying Priorities\" skill in the Int...</td>\n      <td>Change</td>\n      <td>Interpersonal Effectiveness</td>\n      <td>Obtaining Objectives Skillfully</td>\n    </tr>\n    <tr>\n      <th>10</th>\n      <td>IE2</td>\n      <td>DEAR MAN</td>\n      <td>- The \"DEAR MAN\" skill in the Interpersonal Ef...</td>\n      <td>Change</td>\n      <td>Interpersonal Effectiveness</td>\n      <td>Obtaining Objectives Skillfully</td>\n    </tr>\n    <tr>\n      <th>11</th>\n      <td>IE3</td>\n      <td>GIVE</td>\n      <td>- The \"GIVE\" skill in the Interpersonal Effect...</td>\n      <td>Change</td>\n      <td>Interpersonal Effectiveness</td>\n      <td>Obtaining Objectives Skillfully</td>\n    </tr>\n    <tr>\n      <th>12</th>\n      <td>IE4</td>\n      <td>FAST</td>\n      <td>- The \"FAST\" skill in the Interpersonal Effect...</td>\n      <td>Change</td>\n      <td>Interpersonal Effectiveness</td>\n      <td>Obtaining Objectives Skillfully</td>\n    </tr>\n    <tr>\n      <th>13</th>\n      <td>IE5</td>\n      <td>Whether and How Intensely to Ask or Say No</td>\n      <td>- The \"Whether and How Intensely to Ask or Say...</td>\n      <td>Change</td>\n      <td>Interpersonal Effectiveness</td>\n      <td>Obtaining Objectives Skillfully</td>\n    </tr>\n    <tr>\n      <th>14</th>\n      <td>IE6</td>\n      <td>Finding Potential Friends</td>\n      <td>- The \"Finding Potential Friends\" skill in the...</td>\n      <td>Change</td>\n      <td>Interpersonal Effectiveness</td>\n      <td>Skills for Building Relationships \\r\\nand Endi...</td>\n    </tr>\n    <tr>\n      <th>15</th>\n      <td>IE7</td>\n      <td>Mindfulness of Others</td>\n      <td>- The \"Mindfulness of Others\" skill in the Int...</td>\n      <td>Change</td>\n      <td>Interpersonal Effectiveness</td>\n      <td>Skills for Building Relationships \\r\\nand Endi...</td>\n    </tr>\n    <tr>\n      <th>16</th>\n      <td>IE8</td>\n      <td>How to End Relationships</td>\n      <td>- The \"How to End Relationships\" skill in the ...</td>\n      <td>Change</td>\n      <td>Interpersonal Effectiveness</td>\n      <td>Skills for Building Relationships \\r\\nand Endi...</td>\n    </tr>\n    <tr>\n      <th>17</th>\n      <td>IE9</td>\n      <td>Dialectics</td>\n      <td>- The \"Dialectics\" skill in the Interpersonal ...</td>\n      <td>Change</td>\n      <td>Interpersonal Effectiveness</td>\n      <td>Walking the Middle Path</td>\n    </tr>\n    <tr>\n      <th>18</th>\n      <td>IE10</td>\n      <td>Validation</td>\n      <td>- The \"Validation\" skill in the Interpersonal ...</td>\n      <td>Change</td>\n      <td>Interpersonal Effectiveness</td>\n      <td>Walking the Middle Path</td>\n    </tr>\n    <tr>\n      <th>19</th>\n      <td>IE11</td>\n      <td>Behavior Change Strategies</td>\n      <td>- \"Behavior Change Strategies\" in the Interper...</td>\n      <td>Change</td>\n      <td>Interpersonal Effectiveness</td>\n      <td>Walking the Middle Path</td>\n    </tr>\n    <tr>\n      <th>20</th>\n      <td>ER1</td>\n      <td>Understanding and Naming Emotions</td>\n      <td>- The \"Understanding and Naming Emotions\" skil...</td>\n      <td>Change</td>\n      <td>Emotion Regulation</td>\n      <td>NaN</td>\n    </tr>\n    <tr>\n      <th>21</th>\n      <td>ER2</td>\n      <td>Checking the Facts</td>\n      <td>- The \"Checking the Facts\" skill in the Emotio...</td>\n      <td>Change</td>\n      <td>Emotion Regulation</td>\n      <td>Changing Emotional Responses</td>\n    </tr>\n    <tr>\n      <th>22</th>\n      <td>ER3</td>\n      <td>Opposite Action</td>\n      <td>- The \"Opposite Action\" skill in the Emotion R...</td>\n      <td>Change</td>\n      <td>Emotion Regulation</td>\n      <td>Changing Emotional Responses</td>\n    </tr>\n    <tr>\n      <th>23</th>\n      <td>ER4</td>\n      <td>Problem Solving</td>\n      <td>- The \"Problem Solving\" skill in the Emotion R...</td>\n      <td>Change</td>\n      <td>Emotion Regulation</td>\n      <td>Changing Emotional Responses</td>\n    </tr>\n    <tr>\n      <th>24</th>\n      <td>ER5</td>\n      <td>Accumulate Positive Emotions</td>\n      <td>- The \"Accumulate Positive Emotions\" skill in ...</td>\n      <td>Change</td>\n      <td>Emotion Regulation</td>\n      <td>Reducing Vulnerability to Emotion Mind</td>\n    </tr>\n    <tr>\n      <th>25</th>\n      <td>ER6</td>\n      <td>Build Mastery</td>\n      <td>- The \"Build Mastery\" skill in the Emotion Reg...</td>\n      <td>Change</td>\n      <td>Emotion Regulation</td>\n      <td>Reducing Vulnerability to Emotion Mind</td>\n    </tr>\n    <tr>\n      <th>26</th>\n      <td>ER7</td>\n      <td>Cope Ahead</td>\n      <td>- The \"Cope Ahead\" skill in the Emotion Regula...</td>\n      <td>Change</td>\n      <td>Emotion Regulation</td>\n      <td>Reducing Vulnerability to Emotion Mind</td>\n    </tr>\n    <tr>\n      <th>27</th>\n      <td>ER8</td>\n      <td>PLEASE</td>\n      <td>- The \"PLEASE\" skill in the Emotion Regulation...</td>\n      <td>Change</td>\n      <td>Emotion Regulation</td>\n      <td>Reducing Vulnerability to Emotion Mind</td>\n    </tr>\n    <tr>\n      <th>28</th>\n      <td>ER9</td>\n      <td>Mindfulness of Current Emotions</td>\n      <td>- \"Mindfulness of Current Emotions\" is a skill...</td>\n      <td>Change</td>\n      <td>Emotion Regulation</td>\n      <td>Managing Extreme Emotions</td>\n    </tr>\n    <tr>\n      <th>29</th>\n      <td>ER10</td>\n      <td>Identifying the Skills Breakdown Point</td>\n      <td>- \"Identifying the Skills Breakdown Point\" is ...</td>\n      <td>Change</td>\n      <td>Emotion Regulation</td>\n      <td>Managing Extreme Emotions</td>\n    </tr>\n    <tr>\n      <th>30</th>\n      <td>DT1</td>\n      <td>STOP</td>\n      <td>- The \"STOP\" skill in the Distress Tolerance m...</td>\n      <td>Acceptance</td>\n      <td>Distress Tolerance</td>\n      <td>Crisis Survival Skills</td>\n    </tr>\n    <tr>\n      <th>31</th>\n      <td>DT2</td>\n      <td>Pros and Cons</td>\n      <td>- The \"Pros and Cons\" skill in the Distress To...</td>\n      <td>Acceptance</td>\n      <td>Distress Tolerance</td>\n      <td>Crisis Survival Skills</td>\n    </tr>\n    <tr>\n      <th>32</th>\n      <td>DT3</td>\n      <td>TIP Body Chemistry</td>\n      <td>- The \"TIP\" skill in the Distress Tolerance mo...</td>\n      <td>Acceptance</td>\n      <td>Distress Tolerance</td>\n      <td>Crisis Survival Skills</td>\n    </tr>\n    <tr>\n      <th>33</th>\n      <td>DT4</td>\n      <td>Distracting with Wise Mind ACCEPTS</td>\n      <td>- The \"Distracting with Wise Mind ACCEPTS\" ski...</td>\n      <td>Acceptance</td>\n      <td>Distress Tolerance</td>\n      <td>Crisis Survival Skills</td>\n    </tr>\n    <tr>\n      <th>34</th>\n      <td>DT5</td>\n      <td>Self-Soothing Through the Senses</td>\n      <td>- The \"Self-Soothing Through the Senses\" skill...</td>\n      <td>Acceptance</td>\n      <td>Distress Tolerance</td>\n      <td>Crisis Survival Skills</td>\n    </tr>\n    <tr>\n      <th>35</th>\n      <td>DT6</td>\n      <td>IMPROVE the Moment</td>\n      <td>- The \"IMPROVE the Moment\" skill in the Distre...</td>\n      <td>Acceptance</td>\n      <td>Distress Tolerance</td>\n      <td>Crisis Survival Skills</td>\n    </tr>\n    <tr>\n      <th>36</th>\n      <td>DT7</td>\n      <td>Radical Acceptance</td>\n      <td>- The \"Radical Acceptance\" skill in the Distre...</td>\n      <td>Acceptance</td>\n      <td>Distress Tolerance</td>\n      <td>Reality Acceptance Skills</td>\n    </tr>\n    <tr>\n      <th>37</th>\n      <td>DT8</td>\n      <td>Turning the Mind</td>\n      <td>- The \"Turning the Mind\" skill in the Distress...</td>\n      <td>Acceptance</td>\n      <td>Distress Tolerance</td>\n      <td>Reality Acceptance Skills</td>\n    </tr>\n    <tr>\n      <th>38</th>\n      <td>DT9</td>\n      <td>Willingness</td>\n      <td>- The \"Willingness\" skill in the Distress Tole...</td>\n      <td>Acceptance</td>\n      <td>Distress Tolerance</td>\n      <td>Reality Acceptance Skills</td>\n    </tr>\n    <tr>\n      <th>39</th>\n      <td>DT10</td>\n      <td>Half-Smiling and Willing Hands</td>\n      <td>- \"Half-Smiling\" is a Distress Tolerance skill...</td>\n      <td>Acceptance</td>\n      <td>Distress Tolerance</td>\n      <td>Reality Acceptance Skills</td>\n    </tr>\n    <tr>\n      <th>40</th>\n      <td>DT11</td>\n      <td>Mindfulness of Current Thoughts</td>\n      <td>- The \"Mindfulness of Current Thoughts\" skill ...</td>\n      <td>Acceptance</td>\n      <td>Distress Tolerance</td>\n      <td>Reality Acceptance Skills</td>\n    </tr>\n    <tr>\n      <th>41</th>\n      <td>DT12</td>\n      <td>Dialectical Abstinence</td>\n      <td>- \"Dialectical Abstinence\" is a Distress Toler...</td>\n      <td>Acceptance</td>\n      <td>Distress Tolerance</td>\n      <td>Supplementary Addiction Skills</td>\n    </tr>\n    <tr>\n      <th>42</th>\n      <td>DT13</td>\n      <td>Clear Mind</td>\n      <td>- \"Clear Mind\" is a skill in the Distress Tole...</td>\n      <td>Acceptance</td>\n      <td>Distress Tolerance</td>\n      <td>Supplementary Addiction Skills</td>\n    </tr>\n    <tr>\n      <th>43</th>\n      <td>DT14</td>\n      <td>Community Reinforcement</td>\n      <td>- The \"Community Reinforcement\" skill in the D...</td>\n      <td>Acceptance</td>\n      <td>Distress Tolerance</td>\n      <td>Supplementary Addiction Skills</td>\n    </tr>\n    <tr>\n      <th>44</th>\n      <td>DT15</td>\n      <td>Burning Bridges and Building New Ones</td>\n      <td>- The \"Burning Bridges\" skill in the Distress ...</td>\n      <td>Acceptance</td>\n      <td>Distress Tolerance</td>\n      <td>Supplementary Addiction Skills</td>\n    </tr>\n    <tr>\n      <th>45</th>\n      <td>DT16</td>\n      <td>Alternate Rebellion and Adaptive Denial</td>\n      <td>- \"Alternate Rebellion\" is a Distress Toleranc...</td>\n      <td>Acceptance</td>\n      <td>Distress Tolerance</td>\n      <td>Supplementary Addiction Skills</td>\n    </tr>\n  </tbody>\n</table>\n</div>"
     },
     "execution_count": 4,
     "metadata": {},
     "output_type": "execute_result"
    }
   ],
   "source": [
    "dbt_skills_ref = pd.read_csv(os.path.join('..', 'data', 'dbt_skills_ref.csv'))\n",
    "dbt_skills_ref"
   ],
   "metadata": {
    "collapsed": false
   }
  },
  {
   "cell_type": "code",
   "execution_count": 5,
   "outputs": [
    {
     "data": {
      "text/plain": "'- The \"Wise Mind\" skill in the Mindfulness module of DBT refers to a state of mind where an individual integrates both rational thought (Reasonable Mind) and emotional experience (Emotion Mind) to make balanced and effective decisions.\\n- It is considered a core concept in DBT, representing an inner knowledge and intuition that everyone possesses, which can guide them to a sense of truth and balanced action.\\n- In practice, this skill involves recognizing when one is operating from either the Reasonable Mind or the Emotion Mind and then working towards achieving a synthesis of the two, which is the Wise Mind.\\n- During a session, it might be identified by the therapist asking the client to reflect on a situation and consider what their emotions, reason, and intuition are telling them, aiming to find a middle path that incorporates all aspects.'"
     },
     "execution_count": 5,
     "metadata": {},
     "output_type": "execute_result"
    }
   ],
   "source": [
    "dbt_skills_ref.skill_desc[0]"
   ],
   "metadata": {
    "collapsed": false
   }
  },
  {
   "cell_type": "code",
   "execution_count": 6,
   "outputs": [],
   "source": [
    "convos = pd.read_pickle(os.path.join('..', 'convo_generation', 'output', '20240306_convos_full.pickle'))"
   ],
   "metadata": {
    "collapsed": false
   }
  },
  {
   "cell_type": "code",
   "execution_count": 7,
   "outputs": [
    {
     "name": "stdout",
     "output_type": "stream",
     "text": [
      "Therapist: Hello and welcome! I'm glad you're here to explore Dialectical Behavior Therapy (DBT) skills. Is there a particular DBT skill or technique you're interested in practicing today, or would you like me to suggest one based on what you're experiencing currently?\n",
      "\n",
      "Client: My grandmother passed away two days ago and everyone in my family has been busy grieving so I've been picking up all the preparations for her wake. I haven't had a chance to stop but if I don't take care of everything, I don't think anyone else will.\n",
      "\n",
      "Therapist: I'm so sorry to hear about your loss. It sounds like you’re carrying a heavy burden during this tough time. Grief can be overwhelming, and it's important to take care of yourself too. How are you currently feeling in this moment as you handle these responsibilities?\n",
      "\n",
      "Client: Thank you for your kind words. I'm feeling incredibly overwhelmed and exhausted. It's like I'm running on autopilot, trying to keep it all together for my family's sake, but inside I'm just a mix of sadness and stress.\n",
      "\n",
      "Therapist: It's completely natural to feel overwhelmed and exhausted under such circumstances; your emotions are valid. Given how you're feeling, it might be helpful to practice a skill that can help you manage overwhelming emotions and stress. Would you like to explore a skill that can provide some immediate relief or one that can help manage your emotions more long-term?\n",
      "\n",
      "Client: I think something for immediate relief would be good. I need to stay functional for the wake, but also need a way to cope with these intense emotions right now. What do you suggest?\n",
      "\n",
      "Therapist: For immediate relief, the DBT skill called \"TIPP\" can be highly effective. This stands for Temperature, Intense exercise, Paced breathing, and Paired muscle relaxation. It's designed to help quickly reduce emotional arousal. To start, would you be willing to try a technique involving temperature, such as holding a cold ice pack, to see if it helps you feel a little more grounded and present?\n",
      "\n",
      "Client: Yes, that sounds doable. I'll grab an ice pack from the freezer and hold it. What should I do next?\n",
      "\n",
      "Therapist: Great, once you have the ice pack, hold it in your hands or against your face for a few moments. Focus on how the cold feels against your skin. This can help to interrupt overwhelming emotions. As you're doing this, notice your body's responses—any changes in your breathing, heart rate, or the tension in your muscles. Take a few deep breaths as you hold the ice pack. How are you feeling now?\n",
      "\n",
      "Client: The cold is definitely a shock to the system. It's making me feel more alert. My breathing slowed down a bit because I'm focusing on the sensation. It's a brief distraction from everything else, which is kind of nice, actually.\n"
     ]
    }
   ],
   "source": [
    "skill_extract_test = convos['bc97e560-2f17-40c6-bbbc-cf1455e5536b']['result']['eval_messages']\n",
    "print(skill_extract_test)"
   ],
   "metadata": {
    "collapsed": false
   }
  },
  {
   "cell_type": "code",
   "execution_count": 26,
   "outputs": [
    {
     "data": {
      "text/plain": "595"
     },
     "execution_count": 26,
     "metadata": {},
     "output_type": "execute_result"
    }
   ],
   "source": [
    "count_tokens(skill_extract_test)"
   ],
   "metadata": {
    "collapsed": false
   }
  },
  {
   "cell_type": "code",
   "execution_count": 9,
   "outputs": [],
   "source": [
    "client = AzureOpenAI(\n",
    "    api_key = OPENAI_API_KEY,\n",
    "    api_version = \"2023-05-15\",\n",
    "    azure_endpoint = \"https://dbt-openai-usea2-assistants.openai.azure.com/\"\n",
    ")"
   ],
   "metadata": {
    "collapsed": false
   }
  },
  {
   "cell_type": "code",
   "execution_count": 10,
   "outputs": [],
   "source": [
    "client_async = AsyncAzureOpenAI(\n",
    "    api_key = OPENAI_API_KEY,\n",
    "    api_version = \"2023-05-15\",\n",
    "    azure_endpoint = \"https://dbt-openai-usea2-assistants.openai.azure.com/\"\n",
    ")"
   ],
   "metadata": {
    "collapsed": false
   }
  },
  {
   "cell_type": "code",
   "execution_count": 11,
   "outputs": [],
   "source": [
    "skill_extract_base_prompt = '''\n",
    "You are tasked with evaluating whether a therapist discussed the following DBT skill with their client during a session:\n",
    "<SKILL_DESC>\n",
    "\n",
    "Carefully analyze the provided conversation log between a therapist and their client, then assign a numerical rating based on the following criteria.\n",
    "Assign a \"1\" for \"present\" if the therapist:\n",
    "- Explicitly refers to this skill by name.\n",
    "- Introduces, suggests, defines, or explains this skill to the client.\n",
    "- Teaches this skill to the client.\n",
    "- Guides the client in practicing this skill.\n",
    "- Assists the client in applying this skill to their life.\n",
    "Assign a \"0\" for \"not present\" if the therapist:\n",
    "- Does not refer to this skill by name.\n",
    "- Does not introduce, suggest, define, or explain this skill to the client.\n",
    "- Does not teach this skill to the client.\n",
    "- Does not guide the client in practicing this skill.\n",
    "- Does not assist the client in applying this skill to their life.\n",
    "\n",
    "Instructions:\n",
    "- Please provide your rating as a standalone numerical value, with no additional comments or justification.\n",
    "- Valid responses are limited to: [1, 0]\n",
    "'''.strip()"
   ],
   "metadata": {
    "collapsed": false
   }
  },
  {
   "cell_type": "code",
   "execution_count": 12,
   "outputs": [],
   "source": [
    "skill_extract_base_prompt2 = '''\n",
    "Determine if a therapist discussed the following Dialectical Behavior Therapy (DBT) skill during a session:\n",
    "<SKILL_DESC>\n",
    "\n",
    "Carefully review the provided transcript between the therapist and client. Rate whether the therapist discussed the DBT skill using the following criteria:\n",
    "\n",
    "Rate \"1\" if the therapist did any of the following:\n",
    "- Mentioned the skill by name.\n",
    "- Defined, described, explained, or taught the skill to the client.\n",
    "- Led the client through guided practice of the skill.\n",
    "- Helped apply the skill to the client's life.\n",
    "\n",
    "Rate \"0\" if none of these actions took place.\n",
    "\n",
    "Provide your rating as a single number, either \"1\" or \"0\", with no further explanation.\n",
    "'''.strip()"
   ],
   "metadata": {
    "collapsed": false
   }
  },
  {
   "cell_type": "code",
   "execution_count": 19,
   "outputs": [
    {
     "name": "stdout",
     "output_type": "stream",
     "text": [
      "Wise Mind: ['0', '0', '0', '0', '0']\n",
      "Observing: ['0', '0', '0', '0', '0']\n",
      "Describing: ['0', '0', '0', '0', '0']\n",
      "Participating: ['0', '0', '0', '0', '0']\n",
      "Nonjudgmentally: ['0', '0', '0', '0', '0']\n",
      "One-Mindfully: ['0', '0', '0', '0', '0']\n",
      "Effectively: ['0', '0', '0', '0', '0']\n",
      "Mindfulness Practice: A Spiritual Perspective: ['0', '0', '0', '0', '0']\n",
      "Balancing Doing Mind and Being Mind: ['0', '0', '0', '0', '0']\n",
      "Clarifying Priorities: ['0', '0', '0', '0', '0']\n",
      "DEAR MAN: ['0', '0', '0', '0', '0']\n",
      "GIVE: ['0', '0', '0', '0', '0']\n",
      "FAST: ['0', '0', '0', '0', '0']\n",
      "Whether and How Intensely to Ask or Say No: ['0', '0', '0', '0', '0']\n",
      "Finding Potential Friends: ['0', '0', '0', '0', '0']\n",
      "Mindfulness of Others: ['0', '0', '0', '0', '0']\n",
      "How to End Relationships: ['0', '0', '0', '0', '0']\n",
      "Dialectics: ['0', '0', '0', '0', '0']\n",
      "Validation: ['0', '0', '0', '0', '0']\n",
      "Behavior Change Strategies: ['0', '0', '0', '0', '0']\n",
      "Understanding and Naming Emotions: ['0', '0', '0', '0', '0']\n",
      "Checking the Facts: ['0', '0', '0', '0', '0']\n",
      "Opposite Action: ['0', '0', '0', '0', '0']\n",
      "Problem Solving: ['0', '0', '0', '0', '0']\n",
      "Accumulate Positive Emotions: ['0', '0', '0', '0', '0']\n",
      "Build Mastery: ['0', '0', '0', '0', '0']\n",
      "Cope Ahead: ['0', '0', '0', '0', '0']\n",
      "PLEASE: ['0', '0', '0', '0', '0']\n",
      "Mindfulness of Current Emotions: ['0', '0', '0', '0', '0']\n",
      "Identifying the Skills Breakdown Point: ['0', '0', '0', '0', '0']\n",
      "STOP: ['1', '1', '1', '1', '1']\n",
      "Pros and Cons: ['0', '0', '0', '0', '0']\n",
      "TIP Body Chemistry: ['1', '1', '1', '1', '1']\n",
      "Distracting with Wise Mind ACCEPTS: ['1', '1', '1', '1', '1']\n",
      "Self-Soothing Through the Senses: ['1', '1', '1', '1', '1']\n",
      "IMPROVE the Moment: ['0', '0', '0', '0', '0']\n",
      "Radical Acceptance: ['0', '0', '0', '0', '0']\n",
      "Turning the Mind: ['0', '0', '0', '0', '0']\n",
      "Willingness: ['0', '0', '0', '0', '0']\n",
      "Half-Smiling and Willing Hands: ['0', '0', '0', '0', '0']\n",
      "Mindfulness of Current Thoughts: ['0', '0', '0', '0', '0']\n",
      "Dialectical Abstinence: ['0', '0', '0', '0', '0']\n",
      "Clear Mind: ['0', '0', '0', '0', '0']\n",
      "Community Reinforcement: ['0', '0', '0', '0', '0']\n",
      "Burning Bridges and Building New Ones: ['0', '0', '0', '0', '0']\n",
      "Alternate Rebellion and Adaptive Denial: ['0', '0', '0', '0', '0']\n",
      "13.137712400173768\n"
     ]
    }
   ],
   "source": [
    "t_start = time.perf_counter()\n",
    "\n",
    "for row in dbt_skills_ref.itertuples():\n",
    "    row_sys_prompt = skill_extract_base_prompt2.replace(\"<SKILL_DESC>\", row.skill_desc)\n",
    "    response = client.chat.completions.create(\n",
    "        # model=\"gpt4-1106\",\n",
    "        model=\"gpt-35-turbo\",\n",
    "        messages=[\n",
    "            {\"role\": \"system\", \"content\": row_sys_prompt},\n",
    "            {\"role\": \"user\", \"content\": skill_extract_test}\n",
    "        ],\n",
    "        n=5,\n",
    "        temperature=0.\n",
    "    )\n",
    "    ratings = [choice.message.content for choice in response.choices]\n",
    "    print(f'{row.skill_name}: {ratings}')\n",
    "\n",
    "t_stop = time.perf_counter()\n",
    "elapsed_time = t_stop - t_start\n",
    "print(elapsed_time)"
   ],
   "metadata": {
    "collapsed": false
   }
  },
  {
   "cell_type": "code",
   "execution_count": null,
   "outputs": [],
   "source": [
    "async def get_skill_presence_response(client, sys_prompt, eval_msgs, n):\n",
    "    return await client.chat.completions.create(\n",
    "        model='gpt4-1106',\n",
    "        # model=\"gpt-35-turbo\",\n",
    "        messages=[\n",
    "            {\"role\": \"system\", \"content\": sys_prompt},\n",
    "            {\"role\": \"user\", \"content\": eval_msgs},\n",
    "        ],\n",
    "        n=n,\n",
    "        temperature=0.,\n",
    "    )\n",
    "\n",
    "async def get_skill_presences(client, sys_prompt_base, eval_msgs, n):\n",
    "    skill_names = list(dbt_skills_ref.skill_name)[:]\n",
    "    skill_descs = list(dbt_skills_ref.skill_desc)[:]\n",
    "    sys_prompts = [sys_prompt_base.replace(\"<SKILL_DESC>\", desc) for desc in skill_descs]\n",
    "    tasks = [get_skill_presence_response(client, sys_prompt, eval_msgs, n) for sys_prompt in sys_prompts]\n",
    "    responses = await asyncio.gather(*tasks)\n",
    "    for i, skill_name in enumerate(skill_names):\n",
    "        ratings = [choice.message.content for choice in responses[i].choices]\n",
    "        print(f'{skill_name}: {ratings}')\n",
    "\n",
    "t_start = time.perf_counter()\n",
    "await get_skill_presences(client_async, skill_extract_base_prompt2, skill_extract_test, 5)\n",
    "t_stop = time.perf_counter()\n",
    "print(t_stop - t_start)"
   ],
   "metadata": {
    "collapsed": false
   }
  },
  {
   "cell_type": "code",
   "execution_count": 19,
   "outputs": [
    {
     "name": "stdout",
     "output_type": "stream",
     "text": [
      "{'Wise Mind': ['0', '0', '0', '0', '0'], 'Observing': ['0', '0', '0', '0', '0'], 'Describing': ['0', '0', '0', '0', '0'], 'Participating': ['0', '0', '0', '0', '0'], 'Nonjudgmentally': ['0', '0', '0', '0', '0'], 'One-Mindfully': ['0', '0', '0', '0', '0'], 'Effectively': ['0', '0', '0', '0', '0'], 'Mindfulness Practice: A Spiritual Perspective': ['0', '0', '0', '0', '0'], 'Balancing Doing Mind and Being Mind': ['0', '0', '0', '0', '0'], 'Clarifying Priorities': ['0', '0', '0', '0', '0'], 'DEAR MAN': ['0', '0', '0', '0', '0'], 'GIVE': ['0', '0', '0', '0', '0'], 'FAST': ['0', '0', '0', '0', '0'], 'Whether and How Intensely to Ask or Say No': ['0', '0', '0', '0', '0'], 'Finding Potential Friends': ['0', '0', '0', '0', '0'], 'Mindfulness of Others': ['0', '0', '0', '0', '0'], 'How to End Relationships': ['0', '0', '0', '0', '0'], 'Dialectics': ['0', '0', '0', '0', '0'], 'Validation': ['0', '0', '0', '0', '0'], 'Behavior Change Strategies': ['0', '0', '0', '0', '0'], 'Understanding and Naming Emotions': ['0', '0', '0', '0', '0'], 'Checking the Facts': ['0', '0', '0', '0', '0'], 'Opposite Action': ['0', '0', '0', '0', '0'], 'Problem Solving': ['0', '0', '0', '0', '0'], 'Accumulate Positive Emotions': ['0', '0', '0', '0', '0'], 'Build Mastery': ['0', '0', '0', '0', '0'], 'Cope Ahead': ['0', '0', '0', '0', '0'], 'PLEASE': ['0', '0', '0', '0', '0'], 'Mindfulness of Current Emotions': ['0', '0', '0', '0', '0'], 'Identifying the Skills Breakdown Point': ['0', '0', '0', '0', '0'], 'STOP': ['0', '0', '0', '0', '0'], 'Pros and Cons': ['0', '0', '0', '0', '0'], 'TIP Body Chemistry': ['1', '1', '1', '1', '1'], 'Distracting with Wise Mind ACCEPTS': ['0', '0', '0', '0', '0'], 'Self-Soothing Through the Senses': ['0', '0', '0', '0', '0'], 'IMPROVE the Moment': ['0', '0', '0', '0', '0'], 'Radical Acceptance': ['0', '0', '0', '0', '0'], 'Turning the Mind': ['0', '0', '0', '0', '0'], 'Willingness': ['0', '0', '0', '0', '0'], 'Half-Smiling and Willing Hands': ['0', '0', '0', '0', '0'], 'Mindfulness of Current Thoughts': ['0', '0', '0', '0', '0'], 'Dialectical Abstinence': ['0', '0', '0', '0', '0'], 'Clear Mind': ['0', '0', '0', '0', '0'], 'Community Reinforcement': ['0', '0', '0', '0', '0'], 'Burning Bridges and Building New Ones': ['0', '0', '0', '0', '0'], 'Alternate Rebellion and Adaptive Denial': ['0', '0', '0', '0', '0']}\n",
      "920.9389393001329\n"
     ]
    }
   ],
   "source": [
    "async def get_skill_presence_response(client, sys_prompt, eval_msgs, n):\n",
    "    response = await client.chat.completions.create(\n",
    "        model='gpt4-1106',\n",
    "        # model=\"gpt-35-turbo\",\n",
    "        messages=[\n",
    "            {\"role\": \"system\", \"content\": sys_prompt},\n",
    "            {\"role\": \"user\", \"content\": eval_msgs},\n",
    "        ],\n",
    "        n=n,\n",
    "        temperature=0.,\n",
    "    )\n",
    "    return [choice.message.content for choice in response.choices]\n",
    "\n",
    "async def get_skill_presences(client, sys_prompt_base, eval_msgs, n):\n",
    "    skill_names = list(dbt_skills_ref.skill_name)[:]\n",
    "    skill_descs = list(dbt_skills_ref.skill_desc)[:]\n",
    "    sys_prompts = [sys_prompt_base.replace(\"<SKILL_DESC>\", desc) for desc in skill_descs]\n",
    "    skill_presence_dict = dict.fromkeys(skill_names)\n",
    "    for i, skill_name in enumerate(skill_names):\n",
    "        skill_presence_dict[skill_name] = await asyncio.create_task(get_skill_presence_response(client, sys_prompts[i], eval_msgs, n))\n",
    "        await asyncio.sleep(5)\n",
    "    print(skill_presence_dict)\n",
    "\n",
    "    # tasks = [get_skill_presence_response(client, sys_prompt, eval_msgs, n) for sys_prompt in sys_prompts]\n",
    "    # responses = await asyncio.gather(*tasks)\n",
    "    # for i, skill_name in enumerate(skill_names):\n",
    "    #     ratings = [choice.message.content for choice in responses[i].choices]\n",
    "    #     print(f'{skill_name}: {ratings}')\n",
    "\n",
    "t_start = time.perf_counter()\n",
    "await get_skill_presences(client_async, skill_extract_base_prompt2, skill_extract_test, 5)\n",
    "t_stop = time.perf_counter()\n",
    "print(t_stop - t_start)"
   ],
   "metadata": {
    "collapsed": false
   }
  },
  {
   "cell_type": "code",
   "execution_count": 18,
   "outputs": [
    {
     "name": "stdout",
     "output_type": "stream",
     "text": [
      "Wise Mind: ['0']\n",
      "Observing: ['0']\n",
      "Describing: ['0']\n",
      "Participating: ['0']\n",
      "Nonjudgmentally: ['0']\n",
      "3.857143000001088\n"
     ]
    }
   ],
   "source": [
    "async def get_skill_presence_response(client, semaphore, sys_prompt, eval_msgs):\n",
    "    async with semaphore:\n",
    "        return await client.chat.completions.create(\n",
    "            model='gpt4-1106',\n",
    "            # model=\"gpt-35-turbo\",\n",
    "            messages=[\n",
    "                {\"role\": \"system\", \"content\": sys_prompt},\n",
    "                {\"role\": \"user\", \"content\": eval_msgs},\n",
    "            ],\n",
    "            temperature=0.,\n",
    "        )\n",
    "\n",
    "async def get_skill_presences(\n",
    "        client:AsyncAzureOpenAI,\n",
    "        max_parallel_calls:int,\n",
    "        sys_prompt_base:str,\n",
    "        eval_msgs:str,\n",
    "        n_replications:int|None = None):\n",
    "    assert max_parallel_calls > 0\n",
    "    if n_replications:\n",
    "        assert n_replications > 0\n",
    "    skill_names = list(dbt_skills_ref.skill_name)[:5]\n",
    "    skill_descs = list(dbt_skills_ref.skill_desc)[:5]\n",
    "    sys_prompts = [sys_prompt_base.replace(\"<SKILL_DESC>\", desc) for desc in skill_descs]\n",
    "    semaphore = asyncio.Semaphore(value=max_parallel_calls)\n",
    "    tasks = [get_skill_presence_response(client, semaphore, sys_prompt, eval_msgs) for sys_prompt in sys_prompts]\n",
    "    responses = await asyncio.gather(*tasks)\n",
    "    for i, skill_name in enumerate(skill_names):\n",
    "        ratings = [choice.message.content for choice in responses[i].choices]\n",
    "        print(f'{skill_name}: {ratings}')\n",
    "\n",
    "t_start = time.perf_counter()\n",
    "await get_skill_presences(client_async, 5, skill_extract_base_prompt2, skill_extract_test, 3)\n",
    "t_stop = time.perf_counter()\n",
    "print(t_stop - t_start)"
   ],
   "metadata": {
    "collapsed": false
   }
  },
  {
   "cell_type": "code",
   "execution_count": 19,
   "outputs": [
    {
     "data": {
      "text/plain": "['Wise Mind', 'Observing', 'Describing', 'Participating', 'Nonjudgmentally']"
     },
     "execution_count": 19,
     "metadata": {},
     "output_type": "execute_result"
    }
   ],
   "source": [
    "skill_names = list(dbt_skills_ref.skill_name)[:5]\n",
    "skill_names"
   ],
   "metadata": {
    "collapsed": false
   }
  },
  {
   "cell_type": "code",
   "execution_count": 20,
   "outputs": [
    {
     "data": {
      "text/plain": "['Wise Mind',\n 'Wise Mind',\n 'Wise Mind',\n 'Observing',\n 'Observing',\n 'Observing',\n 'Describing',\n 'Describing',\n 'Describing',\n 'Participating',\n 'Participating',\n 'Participating',\n 'Nonjudgmentally',\n 'Nonjudgmentally',\n 'Nonjudgmentally']"
     },
     "execution_count": 20,
     "metadata": {},
     "output_type": "execute_result"
    }
   ],
   "source": [
    "[skill_name for skill_name in skill_names for i in range(3)]"
   ],
   "metadata": {
    "collapsed": false
   }
  },
  {
   "cell_type": "code",
   "execution_count": 41,
   "outputs": [],
   "source": [
    "eval_rewrite_prompt = '''\n",
    "You will be given a GPT system prompt used for evaluating whether a therapist discussed a specific Dialectical Behavior Therapy (DBT) skill with their client during a session.\n",
    "Rewrite and reorganize this system prompt so that it is:\n",
    "- More effective in guiding GPT behavior to match the intended purpose\n",
    "- Clearly worded\n",
    "- More concise\n",
    "'''.strip()"
   ],
   "metadata": {
    "collapsed": false
   }
  },
  {
   "cell_type": "code",
   "execution_count": 42,
   "outputs": [
    {
     "name": "stdout",
     "output_type": "stream",
     "text": [
      "Determine if a therapist discussed a specific Dialectical Behavior Therapy (DBT) skill during a session:\n",
      "\n",
      "DBT Skill: <SKILL_DESC>\n",
      "\n",
      "Review the transcript between the therapist and client. Rate whether the therapist discussed the DBT skill using the following criteria:\n",
      "\n",
      "Rate \"1\" for \"present\" if the therapist:\n",
      "- Named the skill.\n",
      "- Explained or defined the skill.\n",
      "- Instructed or educated the client about the skill.\n",
      "- Supported the client in practicing the skill.\n",
      "- Aided the client in applying the skill to situations.\n",
      "\n",
      "Rate \"0\" for \"not present\" if:\n",
      "- The skill was not mentioned.\n",
      "- The skill was not explained or defined.\n",
      "- The skill was not taught or covered.\n",
      "- The client was not supported in practicing the skill.\n",
      "- The client received no help in applying the skill.\n",
      "\n",
      "Provide your response as a single number, either \"1\" or \"0\". No justification or additional comments are needed.\n",
      "\n",
      "------------------------------\n",
      "\n",
      "Evaluate whether a DBT skill was discussed by a therapist as described by <SKILL_DESC> by examining the therapy session transcript. Provide a numerical rating to indicate if the skill was mentioned:\n",
      "\n",
      "- Rate \"1\" if the therapist did any of the following:\n",
      "    - Mentioned the skill by name.\n",
      "    - Defined or explained the skill.\n",
      "    - Taught or guided practice of the skill.\n",
      "    - Helped apply the skill to the client's life.\n",
      "\n",
      "- Rate \"0\" if none of these actions took place.\n",
      "\n",
      "Your response should be the numerical rating alone: \"1\" for present and \"0\" for not present. No further explanation is required. Only respond with 1 or 0.\n",
      "\n",
      "------------------------------\n",
      "\n",
      "Evaluate the conversation log between a therapist and their client to determine if a specific DBT skill, described as <SKILL_DESC>, was discussed. \n",
      "\n",
      "Rating Criteria:\n",
      "- Assign \"1\" if the therapist discussed the skill, indicated by:\n",
      "   - Mentioning the skill by name.\n",
      "   - Outlining, suggesting, or defining the skill.\n",
      "   - Instructing the client about the skill.\n",
      "   - Assisting the client in practicing the skill.\n",
      "   - Helping the client consider the skill's application in their life.\n",
      "\n",
      "- Assign \"0\" if the therapist did not discuss the skill, indicated by:\n",
      "   - No mention of the skill by name.\n",
      "   - No attempt to introduce, suggest, or define the skill.\n",
      "   - No instruction about the skill provided.\n",
      "   - No assistance offered in practicing the skill.\n",
      "   - No support provided in applying the skill to the client's life.\n",
      "\n",
      "Provide your rating as a single number. Only \"1\" (discussed) or \"0\" (not discussed) is acceptable.\n",
      "\n",
      "------------------------------\n",
      "\n",
      "Determine if a therapist discussed a specific DBT skill with their client by assessing the conversation log. Use the skill description below as a reference:\n",
      "\n",
      "<SKILL_DESC>\n",
      "\n",
      "Rate the discussion as follows:\n",
      "\n",
      "- Assign \"1\" if the therapist mentioned or worked on the skill.\n",
      "- Assign \"0\" if the therapist did not mention or work on the skill.\n",
      "\n",
      "Your rating should be a single number, either \"1\" or \"0\", with no further explanation.\n",
      "\n",
      "------------------------------\n",
      "\n",
      "Determine if a DBT skill was discussed in a therapy session:\n",
      "\n",
      "Skill to Evaluate: <SKILL_DESC>\n",
      "\n",
      "Review the transcript of the therapist-client interaction. Assign a score to indicate whether the therapist covered the specified DBT skill as follows:\n",
      "\n",
      "Score a \"1\" (present) if the therapist:\n",
      "- Mentioned the skill by name.\n",
      "- Described, defined, or explained the skill.\n",
      "- Taught or coached the skill.\n",
      "- Assisted with skill application in real-life situations.\n",
      "\n",
      "Score a \"0\" (not present) if the therapist:\n",
      "- Did not mention the skill by name.\n",
      "- Did not describe, define, or explain the skill.\n",
      "- Failed to teach or coach the skill.\n",
      "- Did not assist with skill application.\n",
      "\n",
      "Provide your score as a single number: \"1\" or \"0\", without further explanation.\n",
      "\n",
      "------------------------------\n",
      "\n"
     ]
    }
   ],
   "source": [
    "response = client.chat.completions.create(\n",
    "    model=\"gpt4-1106\",\n",
    "    messages=[\n",
    "        {\"role\": \"system\", \"content\": eval_rewrite_prompt},\n",
    "        {\"role\": \"user\", \"content\": skill_extract_base_prompt}\n",
    "    ],\n",
    "    n=5,\n",
    ")\n",
    "ratings = [choice.message.content for choice in response.choices]\n",
    "for choice in response.choices:\n",
    "    print(choice.message.content, end='\\n\\n'+'-'*30+'\\n\\n')"
   ],
   "metadata": {
    "collapsed": false
   }
  },
  {
   "cell_type": "code",
   "execution_count": 117,
   "outputs": [],
   "source": [
    "regex_prompt = r'''\n",
    "Act as an expert in natural language processing who is familiar with Perl-style regular expressions.\n",
    "You will be given a description of a Dialectical Behavior Therapy (DBT) skill.\n",
    "Given this DBT skill description, come up with a few regular expressions which would reliably allow you to determine whether this DBT skill was discussed during a therapy session transcript.\n",
    "\n",
    "Example Input:\n",
    "- The \"TIP\" skill in the Distress Tolerance module of DBT stands for Temperature, Intense exercise, Paced breathing, and Paired muscle relaxation.\n",
    "- It is designed to rapidly alter body chemistry to reduce intense emotional arousal by engaging the parasympathetic nervous system and calming the sympathetic nervous system.\n",
    "- In a session, this skill might be identified by a therapist instructing a client to hold their breath and then plunge their face into cold water (Temperature), engage in a brief burst of intense physical activity (Intense exercise), practice slow, deep breaths (Paced breathing), or tense and then relax their muscles in sequence (Paired muscle relaxation).\n",
    "\n",
    "Example Responses:\n",
    "```\n",
    ".*\\bTIP{1,2}\\b.*\n",
    "```\n",
    "\n",
    "```\n",
    ".*\\b[Tt]emperature\\b.*\\b[Ii]ntense [Ee]xercise\\b.*\\b[Pp]aced [Bb]reath(ing|s)?\\b.*\\b[Pp]aired [Mm]uscle [Rr]elaxation\\b.*\n",
    "```\n",
    "'''.strip()"
   ],
   "metadata": {
    "collapsed": false
   }
  },
  {
   "cell_type": "code",
   "execution_count": 120,
   "outputs": [],
   "source": [
    "regex_skill_desc = '''\n",
    "- The \"FAST\" skill in the Interpersonal Effectiveness module of DBT focuses on maintaining self-respect during interactions with others.\n",
    "- FAST stands for (be) Fair, (no) Apologies for being alive or for having an opinion, Stick to values, and (be) Truthful.\n",
    "- This skill is used to help individuals assert their needs and opinions without compromising their own values and integrity.\n",
    "- In a session, this skill would be identified by the therapist guiding the client through one or more of the steps in \"FAST.\"\n",
    "'''.strip()"
   ],
   "metadata": {
    "collapsed": false
   }
  },
  {
   "cell_type": "code",
   "execution_count": 121,
   "outputs": [
    {
     "name": "stdout",
     "output_type": "stream",
     "text": [
      "Based on the description provided for the \"FAST\" skill in DBT, you would want to create regular expressions that capture any mention or discussion of these concepts within a therapy session transcript. Here are a few regular expressions that could help identify whether the \"FAST\" skill was discussed:\n",
      "\n",
      "1. To match the acronym \"FAST\" with variations in case:\n",
      "```\n",
      ".*\\bFAST\\b.*\n",
      ".*\\bF(?i)ast\\b.*\n",
      "```\n",
      "\n",
      "2. To match each component of the \"FAST\" skill with some allowance for variations in phrasing:\n",
      "```\n",
      ".*\\b(be )?F(?i)air\\b.*\n",
      ".*\\b(no )?[Aa]pologies\\b.*(alive|opinion)\\b.*\n",
      ".*\\b[Ss]tick\\b.*\\b[Tt]o\\b.*\\b[Vv]alues\\b.*\n",
      ".*\\b(be )?[Tt]ruthful\\b.*\n",
      "```\n",
      "\n",
      "3. A comprehensive regular expression to look for any mention of all four components of FAST in no specific order:\n",
      "```\n",
      ".*\\b(be )?F(?i)air\\b.*|(.*\\b(no )?[Aa]pologies\\b.*(alive|opinion)\\b.*)|(.*\\b[Ss]tick\\b.*\\b[Tt]o\\b.*\\b[Vv]alues\\b.*)|(.*\\b(be )?[Tt]ruthful\\b.*)\n",
      "```\n",
      "\n",
      "4. A regular expression to search for any mention of a therapist guiding a client which might include language related to the FAST skill:\n",
      "```\n",
      ".*\\b[Tt]herapist\\b.*\\b(guid(ing|ed)?|help(ing|ed)?|support(ing|ed)?)\\b.*\\b[Ff]air\\b.*|.*\\b[Tt]herapist\\b.*\\b(guid(ing|ed)?|help(ing|ed)?|support(ing|ed)?)\\b.*\\b[Aa]polog(y|ies)\\b.*|.*\\b[Tt]herapist\\b.*\\b(guid(ing|ed)?|help(ing|ed)?|support(ing|ed)?)\\b.*\\bvalues\\b.*|.*\\b[Tt]herapist\\b.*\\b(guid(ing|ed)?|help(ing|ed)?|support(ing|ed)?)\\b.*\\b[Tt]ruthful\\b.*\n",
      "```\n",
      "\n",
      "These regular expressions should be tested and potentially refined based on actual data available from therapy session transcripts to ensure they capture the discussions around the FAST skill effectively without too many false positives.\n"
     ]
    }
   ],
   "source": [
    "response = client.chat.completions.create(\n",
    "    model=\"gpt4-1106\",\n",
    "    messages=[\n",
    "        {\"role\": \"system\", \"content\": regex_prompt},\n",
    "        {\"role\": \"user\", \"content\": regex_skill_desc}\n",
    "    ],\n",
    ")\n",
    "print(response.choices[0].message.content)"
   ],
   "metadata": {
    "collapsed": false
   }
  },
  {
   "cell_type": "code",
   "execution_count": 33,
   "outputs": [
    {
     "name": "stdout",
     "output_type": "stream",
     "text": [
      "Therapist: Hello and welcome! I'm glad you're here to explore Dialectical Behavior Therapy (DBT) skills. Is there a particular DBT skill or technique you're interested in practicing today, or would you like me to suggest one based on what you're experiencing currently?\n",
      "\n",
      "Client: My grandmother passed away two days ago and everyone in my family has been busy grieving so I've been picking up all the preparations for her wake. I haven't had a chance to stop but if I don't take care of everything, I don't think anyone else will.\n",
      "\n",
      "Therapist: I'm so sorry to hear about your loss. It sounds like you’re carrying a heavy burden during this tough time. Grief can be overwhelming, and it's important to take care of yourself too. How are you currently feeling in this moment as you handle these responsibilities?\n",
      "\n",
      "Client: Thank you for your kind words. I'm feeling incredibly overwhelmed and exhausted. It's like I'm running on autopilot, trying to keep it all together for my family's sake, but inside I'm just a mix of sadness and stress.\n",
      "\n",
      "Therapist: It's completely natural to feel overwhelmed and exhausted under such circumstances; your emotions are valid. Given how you're feeling, it might be helpful to practice a skill that can help you manage overwhelming emotions and stress. Would you like to explore a skill that can provide some immediate relief or one that can help manage your emotions more long-term?\n",
      "\n",
      "Client: I think something for immediate relief would be good. I need to stay functional for the wake, but also need a way to cope with these intense emotions right now. What do you suggest?\n",
      "\n",
      "Therapist: For immediate relief, the DBT skill called \"TIPP\" can be highly effective. This stands for Temperature, Intense exercise, Paced breathing, and Paired muscle relaxation. It's designed to help quickly reduce emotional arousal. To start, would you be willing to try a technique involving temperature, such as holding a cold ice pack, to see if it helps you feel a little more grounded and present?\n",
      "\n",
      "Client: Yes, that sounds doable. I'll grab an ice pack from the freezer and hold it. What should I do next?\n",
      "\n",
      "Therapist: Great, once you have the ice pack, hold it in your hands or against your face for a few moments. Focus on how the cold feels against your skin. This can help to interrupt overwhelming emotions. As you're doing this, notice your body's responses—any changes in your breathing, heart rate, or the tension in your muscles. Take a few deep breaths as you hold the ice pack. How are you feeling now?\n",
      "\n",
      "Client: The cold is definitely a shock to the system. It's making me feel more alert. My breathing slowed down a bit because I'm focusing on the sensation. It's a brief distraction from everything else, which is kind of nice, actually.\n"
     ]
    }
   ],
   "source": [
    "print(skill_extract_test)"
   ],
   "metadata": {
    "collapsed": false
   }
  },
  {
   "cell_type": "code",
   "execution_count": 141,
   "outputs": [
    {
     "data": {
      "text/plain": "<re.Match object; span=(0, 511), match='- The \"FAST\" skill in the Interpersonal Effective>"
     },
     "execution_count": 141,
     "metadata": {},
     "output_type": "execute_result"
    }
   ],
   "source": [
    "pattern_str = r'.*(\\bbe(ing)?\\b\\W*)?\\b[Ff]air\\b.*(\\bno\\b\\W*)?\\b[Aa]polog(y|ies|izing)\\b.*\\b[Ss]tick(ing|s)?\\b(\\W*\\bto values\\b)?.*(\\bbe(ing)?\\b\\W*)?\\b[Tt]ruthful\\b.*'\n",
    "pattern = re.compile(pattern_str, re.S)\n",
    "match = re.match(pattern, regex_skill_desc)\n",
    "match"
   ],
   "metadata": {
    "collapsed": false
   }
  },
  {
   "cell_type": "code",
   "execution_count": 142,
   "outputs": [
    {
     "data": {
      "text/plain": "(None, None, None, 'ies', None, ' to values', None, None)"
     },
     "execution_count": 142,
     "metadata": {},
     "output_type": "execute_result"
    }
   ],
   "source": [
    "match.groups()"
   ],
   "metadata": {
    "collapsed": false
   }
  },
  {
   "cell_type": "code",
   "execution_count": 135,
   "outputs": [
    {
     "data": {
      "text/plain": "<re.Match object; span=(0, 13), match='be fair to me'>"
     },
     "execution_count": 135,
     "metadata": {},
     "output_type": "execute_result"
    }
   ],
   "source": [
    "pattern_str = r'.*(\\bbe\\b)?\\b[Ff]air\\b.*'\n",
    "test_str = 'be fair to me'\n",
    "pattern = re.compile(pattern_str, re.S)\n",
    "match = re.match(pattern, test_str)\n",
    "match"
   ],
   "metadata": {
    "collapsed": false
   }
  },
  {
   "cell_type": "code",
   "execution_count": 138,
   "outputs": [
    {
     "data": {
      "text/plain": "(None,)"
     },
     "execution_count": 138,
     "metadata": {},
     "output_type": "execute_result"
    }
   ],
   "source": [
    "match.groups()"
   ],
   "metadata": {
    "collapsed": false
   }
  }
 ],
 "metadata": {
  "kernelspec": {
   "name": "conda-env-dbt-llm-py",
   "language": "python",
   "display_name": "Python [conda env:dbt-llm] *"
  },
  "language_info": {
   "codemirror_mode": {
    "name": "ipython",
    "version": 2
   },
   "file_extension": ".py",
   "mimetype": "text/x-python",
   "name": "python",
   "nbconvert_exporter": "python",
   "pygments_lexer": "ipython2",
   "version": "2.7.6"
  }
 },
 "nbformat": 4,
 "nbformat_minor": 0
}
